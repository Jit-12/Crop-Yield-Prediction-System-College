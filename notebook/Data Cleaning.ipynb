{
 "cells": [
  {
   "cell_type": "code",
   "execution_count": 1,
   "id": "bc17abd8",
   "metadata": {},
   "outputs": [],
   "source": [
    "import numpy as np \n",
    "import pandas as pd\n",
    "import os"
   ]
  },
  {
   "cell_type": "code",
   "execution_count": 2,
   "id": "def7c99c",
   "metadata": {},
   "outputs": [],
   "source": [
    "data_path = os.path.join(os.pardir, 'data')"
   ]
  },
  {
   "cell_type": "code",
   "execution_count": 3,
   "id": "bf001122",
   "metadata": {},
   "outputs": [],
   "source": [
    "# State Data Reading\n",
    "state_data_file_path = os.path.join(data_path, 'statecleaneddata.xlsx')\n",
    "\n",
    "state_df = pd.read_excel(state_data_file_path)\n",
    "state_df.District = state_df.District.apply(lambda x: x.replace(\"\\n\",\"\"))"
   ]
  },
  {
   "cell_type": "code",
   "execution_count": 4,
   "id": "bf6b644b",
   "metadata": {},
   "outputs": [],
   "source": [
    "# Soil Data Reading\n",
    "soil_data_file_path = os.path.join(data_path, \"soil_type.csv\")\n",
    "\n",
    "soil_df = pd.read_csv(soil_data_file_path)"
   ]
  },
  {
   "cell_type": "code",
   "execution_count": 35,
   "id": "663601ce",
   "metadata": {},
   "outputs": [],
   "source": [
    "# weather Data Reading\n",
    "weather_data_file_path = os.path.join(data_path, \"weather_data_name_formated_final.csv\")\n",
    "\n",
    "weather_df = pd.read_csv(weather_data_file_path)"
   ]
  },
  {
   "cell_type": "code",
   "execution_count": 36,
   "id": "e90971aa",
   "metadata": {},
   "outputs": [
    {
     "data": {
      "text/plain": [
       "array(['24 PARAGANAS NORTH', '24 PARAGANAS SOUTH', 'BANKURA', 'BIRBHUM',\n",
       "       'COOCHBEHAR', 'DARJEELING', 'DINAJPUR DAKSHIN', 'DINAJPUR UTTAR',\n",
       "       'HOOGHLY', 'HOWRAH', 'JALPAIGURI', 'MALDAH', 'MEDINIPUR EAST',\n",
       "       'MEDINIPUR WEST', 'MURSHIDABAD', 'NADIA', 'PURBA BARDHAMAN',\n",
       "       'PURULIA', 'ALIPURDUAR', 'JHARGRAM', 'KALIMPONG',\n",
       "       'PASCHIM BARDHAMAN'], dtype=object)"
      ]
     },
     "execution_count": 36,
     "metadata": {},
     "output_type": "execute_result"
    }
   ],
   "source": [
    "state_df.District.unique()"
   ]
  },
  {
   "cell_type": "code",
   "execution_count": 37,
   "id": "3e367f14",
   "metadata": {},
   "outputs": [
    {
     "data": {
      "text/plain": [
       "array(['Alipurduar', 'Bankura', 'Birbhum', 'Coochbehar',\n",
       "       'DINAJPUR DAKSHIN', 'Darjeeling', 'Howrah', 'Hugli', 'Jalpaiguri',\n",
       "       'Jhargram', 'Kolkata', 'Kalimpong', 'Malda', 'Murshidabad',\n",
       "       'Nadia', '24 PARAGANAS NORTH', 'PASCHIM BARDHAMAN',\n",
       "       'MEDINIPUR WEST', 'PURBA BARDHAMAN', 'MEDINIPUR EAST', 'Purulia',\n",
       "       '24 PARAGANAS SOUTH', 'DINAJPUR UTTAR'], dtype=object)"
      ]
     },
     "execution_count": 37,
     "metadata": {},
     "output_type": "execute_result"
    }
   ],
   "source": [
    "weather_df.district.unique()"
   ]
  },
  {
   "cell_type": "code",
   "execution_count": 33,
   "id": "5937b347",
   "metadata": {
    "scrolled": true
   },
   "outputs": [
    {
     "data": {
      "text/plain": [
       "array(['24 Parganas', 'Nadia', 'Murshidabad', 'Bardhaman', 'Birbhum',\n",
       "       'Bankura', 'Hooghly', 'Howrah', 'Jalpaiguri', 'Darjeeling',\n",
       "       'Malda', 'coochbehar', 'Purulia', 'Medinipur', 'Kolkata',\n",
       "       'Dinajpur'], dtype=object)"
      ]
     },
     "execution_count": 33,
     "metadata": {},
     "output_type": "execute_result"
    }
   ],
   "source": [
    "soil_df.Dist_Name.unique()"
   ]
  },
  {
   "cell_type": "code",
   "execution_count": 39,
   "id": "2a6b2209",
   "metadata": {},
   "outputs": [
    {
     "name": "stdout",
     "output_type": "stream",
     "text": [
      "24 PARAGANAS NORTH 24 PARAGANAS NORTH 1\n",
      "24 PARAGANAS SOUTH 24 PARAGANAS SOUTH 2\n",
      "BANKURA Bankura 3\n",
      "BIRBHUM Birbhum 4\n",
      "COOCHBEHAR Coochbehar 5\n",
      "DARJEELING Darjeeling 6\n",
      "DINAJPUR DAKSHIN DINAJPUR DAKSHIN 7\n",
      "DINAJPUR UTTAR DINAJPUR UTTAR 8\n",
      "HOWRAH Howrah 9\n",
      "JALPAIGURI Jalpaiguri 10\n",
      "MEDINIPUR EAST MEDINIPUR EAST 11\n",
      "MEDINIPUR WEST MEDINIPUR WEST 12\n",
      "MURSHIDABAD Murshidabad 13\n",
      "NADIA Nadia 14\n",
      "PURBA BARDHAMAN PURBA BARDHAMAN 15\n",
      "PURULIA Purulia 16\n",
      "ALIPURDUAR Alipurduar 17\n",
      "JHARGRAM Jhargram 18\n",
      "KALIMPONG Kalimpong 19\n",
      "PASCHIM BARDHAMAN PASCHIM BARDHAMAN 20\n"
     ]
    }
   ],
   "source": [
    "c= 0\n",
    "for i in list(state_df.District.unique()):\n",
    "    for j in list(weather_df.district.unique()):\n",
    "        if i.lower() == j.lower():\n",
    "            c+=1\n",
    "            print(i, j,c)\n",
    "            break"
   ]
  },
  {
   "cell_type": "code",
   "execution_count": 34,
   "id": "aee2a292",
   "metadata": {},
   "outputs": [],
   "source": [
    "# 24 PARAGANAS NORTH--\n",
    "# 24 PARAGANAS South--\n",
    "# MEDINIPUR EAST--\n",
    "# MEDINIPUR WEST--\n",
    "# PASCHIM BARDHAMAN--\n",
    "# Purba BARDHAMAN--\n",
    "# Dinajpur both--"
   ]
  },
  {
   "cell_type": "code",
   "execution_count": null,
   "id": "4a8b69a7",
   "metadata": {},
   "outputs": [],
   "source": []
  }
 ],
 "metadata": {
  "kernelspec": {
   "display_name": "Python 3 (ipykernel)",
   "language": "python",
   "name": "python3"
  },
  "language_info": {
   "codemirror_mode": {
    "name": "ipython",
    "version": 3
   },
   "file_extension": ".py",
   "mimetype": "text/x-python",
   "name": "python",
   "nbconvert_exporter": "python",
   "pygments_lexer": "ipython3",
   "version": "3.11.4"
  }
 },
 "nbformat": 4,
 "nbformat_minor": 5
}
