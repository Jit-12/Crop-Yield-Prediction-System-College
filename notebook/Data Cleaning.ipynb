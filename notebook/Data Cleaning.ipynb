{
 "cells": [
  {
   "cell_type": "code",
   "execution_count": 1,
   "id": "bc17abd8",
   "metadata": {},
   "outputs": [],
   "source": [
    "import numpy as np \n",
    "import pandas as pd\n",
    "import os"
   ]
  },
  {
   "cell_type": "code",
   "execution_count": 2,
   "id": "def7c99c",
   "metadata": {},
   "outputs": [],
   "source": [
    "data_path = os.path.join(os.pardir, 'data')"
   ]
  },
  {
   "cell_type": "code",
   "execution_count": 3,
   "id": "bf001122",
   "metadata": {},
   "outputs": [],
   "source": [
    "# State Data Reading\n",
    "state_data_file_path = os.path.join(data_path, 'statecleaneddata.xlsx')\n",
    "\n",
    "state_df = pd.read_excel(state_data_file_path)\n",
    "\n",
    "# BAsic preprocessing \n",
    "state_df.District = state_df.District.apply(lambda x: x.replace(\"\\n\",\"\"))\n",
    "state_df.District = state_df.District.apply(lambda x: x.lower())\n",
    "state_df.District = state_df.District.apply(lambda x: \"malda\" if x==\"maldah\" else x)"
   ]
  },
  {
   "cell_type": "code",
   "execution_count": 4,
   "id": "bf6b644b",
   "metadata": {},
   "outputs": [],
   "source": [
    "# Soil Data Reading\n",
    "soil_data_file_path = os.path.join(data_path, \"soil_type.csv\")\n",
    "\n",
    "soil_df = pd.read_csv(soil_data_file_path)"
   ]
  },
  {
   "cell_type": "code",
   "execution_count": 5,
   "id": "663601ce",
   "metadata": {},
   "outputs": [],
   "source": [
    "# weather Data Reading\n",
    "weather_data_file_path = os.path.join(data_path, \"weather_data_name_formated_final.csv\")\n",
    "\n",
    "weather_df = pd.read_csv(weather_data_file_path)\n",
    "\n",
    "#BAsic preprocessing \n",
    "weather_df.district = weather_df.district.apply(lambda x: x.lower())"
   ]
  },
  {
   "cell_type": "code",
   "execution_count": 6,
   "id": "ff027d4c",
   "metadata": {},
   "outputs": [
    {
     "data": {
      "text/plain": [
       "(array(['24 paraganas north', '24 paraganas south', 'bankura', 'birbhum',\n",
       "        'coochbehar', 'darjeeling', 'dinajpur dakshin', 'dinajpur uttar',\n",
       "        'hooghly', 'howrah', 'jalpaiguri', 'malda', 'medinipur east',\n",
       "        'medinipur west', 'murshidabad', 'nadia', 'purba bardhaman',\n",
       "        'purulia', 'alipurduar', 'jhargram', 'kalimpong',\n",
       "        'paschim bardhaman'], dtype=object),\n",
       " 22)"
      ]
     },
     "execution_count": 6,
     "metadata": {},
     "output_type": "execute_result"
    }
   ],
   "source": [
    "state_df.District.unique() , len(state_df.District.unique())"
   ]
  },
  {
   "cell_type": "code",
   "execution_count": 7,
   "id": "a7e1534e",
   "metadata": {},
   "outputs": [
    {
     "data": {
      "text/plain": [
       "(array(['alipurduar', 'bankura', 'birbhum', 'coochbehar',\n",
       "        'dinajpur dakshin', 'darjeeling', 'howrah', 'hooghly',\n",
       "        'jalpaiguri', 'jhargram', 'kolkata', 'kalimpong', 'malda',\n",
       "        'murshidabad', 'nadia', '24 paraganas north', 'paschim bardhaman',\n",
       "        'medinipur west', 'purba bardhaman', 'medinipur east', 'purulia',\n",
       "        '24 paraganas south', 'dinajpur uttar'], dtype=object),\n",
       " 23)"
      ]
     },
     "execution_count": 7,
     "metadata": {},
     "output_type": "execute_result"
    }
   ],
   "source": [
    "weather_df.district.unique(), len(weather_df.district.unique())"
   ]
  },
  {
   "cell_type": "code",
   "execution_count": 8,
   "id": "eb6951eb",
   "metadata": {
    "scrolled": true
   },
   "outputs": [
    {
     "data": {
      "text/plain": [
       "(array(['24 Parganas', 'Nadia', 'Murshidabad', 'Bardhaman', 'Birbhum',\n",
       "        'Bankura', 'Hooghly', 'Howrah', 'Jalpaiguri', 'Darjeeling',\n",
       "        'Malda', 'coochbehar', 'Purulia', 'Medinipur', 'Kolkata',\n",
       "        'Dinajpur'], dtype=object),\n",
       " 16)"
      ]
     },
     "execution_count": 8,
     "metadata": {},
     "output_type": "execute_result"
    }
   ],
   "source": [
    "soil_df.Dist_Name.unique() , len(soil_df.Dist_Name.unique())"
   ]
  },
  {
   "cell_type": "code",
   "execution_count": 9,
   "id": "2a6b2209",
   "metadata": {},
   "outputs": [
    {
     "name": "stdout",
     "output_type": "stream",
     "text": [
      "kolkata\n"
     ]
    }
   ],
   "source": [
    "c= 0\n",
    "for i in list(weather_df.district.unique()):\n",
    "    if i not in list(state_df.District.unique()):\n",
    "        print(i)"
   ]
  },
  {
   "cell_type": "markdown",
   "id": "c4cab145",
   "metadata": {},
   "source": [
    "\n",
    "\n",
    "### not in soil 'alipurduar', 'jhargram', 'kalimpong' and \"kolkata\" in soil and weather but not in state wise table\n",
    "        "
   ]
  },
  {
   "cell_type": "code",
   "execution_count": 28,
   "id": "934e19c1",
   "metadata": {},
   "outputs": [
    {
     "name": "stderr",
     "output_type": "stream",
     "text": [
      "C:\\Users\\mynam\\AppData\\Local\\Temp\\ipykernel_4508\\2832502760.py:2: SettingWithCopyWarning: \n",
      "A value is trying to be set on a copy of a slice from a DataFrame\n",
      "\n",
      "See the caveats in the documentation: https://pandas.pydata.org/pandas-docs/stable/user_guide/indexing.html#returning-a-view-versus-a-copy\n",
      "  n['Dist_Name'] = \"24 paraganas north\"\n"
     ]
    }
   ],
   "source": [
    "n = soil_df.loc[0]\n",
    "n['Dist_Name'] = \"24 paraganas north\"\n",
    "m = n.copy()\n",
    "m[\"Dist_Name\"] = \"24 paraganas south\"\n",
    "# print(m, n)\n",
    "test_soil = pd.concat([soil_df, pd.DataFrame([n])], ignore_index=True)\n",
    "test_soil = pd.concat([test_soil, pd.DataFrame([m])], ignore_index=True)\n",
    "test_soil.Dist_Name = test_soil.Dist_Name.apply(lambda x: x.lower())"
   ]
  },
  {
   "cell_type": "code",
   "execution_count": 38,
   "id": "e950fa5b",
   "metadata": {},
   "outputs": [
    {
     "name": "stderr",
     "output_type": "stream",
     "text": [
      "C:\\Users\\mynam\\AppData\\Local\\Temp\\ipykernel_4508\\1832651935.py:2: SettingWithCopyWarning: \n",
      "A value is trying to be set on a copy of a slice from a DataFrame\n",
      "\n",
      "See the caveats in the documentation: https://pandas.pydata.org/pandas-docs/stable/user_guide/indexing.html#returning-a-view-versus-a-copy\n",
      "  m[\"Dist_Name\"] = \"dinajpur dakshin\"\n"
     ]
    }
   ],
   "source": [
    "m = test_soil .loc[15]\n",
    "m[\"Dist_Name\"] = \"dinajpur dakshin\"\n",
    "n = m.copy()\n",
    "n[\"Dist_Name\"] = \"dinajpur uttar\"\n",
    "test_soil = pd.concat([test_soil, pd.DataFrame([n])], ignore_index=True)\n",
    "test_soil = pd.concat([test_soil, pd.DataFrame([m])], ignore_index=True)"
   ]
  },
  {
   "cell_type": "code",
   "execution_count": 44,
   "id": "8338ed17",
   "metadata": {},
   "outputs": [
    {
     "name": "stderr",
     "output_type": "stream",
     "text": [
      "C:\\Users\\mynam\\AppData\\Local\\Temp\\ipykernel_4508\\790790057.py:2: SettingWithCopyWarning: \n",
      "A value is trying to be set on a copy of a slice from a DataFrame\n",
      "\n",
      "See the caveats in the documentation: https://pandas.pydata.org/pandas-docs/stable/user_guide/indexing.html#returning-a-view-versus-a-copy\n",
      "  m[\"Dist_Name\"] = \"medinipur west\"\n"
     ]
    }
   ],
   "source": [
    "m = test_soil.loc[13]\n",
    "m[\"Dist_Name\"] = \"medinipur west\"\n",
    "n = m.copy()\n",
    "n[\"Dist_Name\"] = \"medinipur east\"\n",
    "test_soil = pd.concat([test_soil, pd.DataFrame([n])], ignore_index=True)\n",
    "test_soil = pd.concat([test_soil, pd.DataFrame([m])], ignore_index=True)"
   ]
  },
  {
   "cell_type": "code",
   "execution_count": 48,
   "id": "2ea0a9f6",
   "metadata": {},
   "outputs": [
    {
     "name": "stderr",
     "output_type": "stream",
     "text": [
      "C:\\Users\\mynam\\AppData\\Local\\Temp\\ipykernel_4508\\4112519807.py:2: SettingWithCopyWarning: \n",
      "A value is trying to be set on a copy of a slice from a DataFrame\n",
      "\n",
      "See the caveats in the documentation: https://pandas.pydata.org/pandas-docs/stable/user_guide/indexing.html#returning-a-view-versus-a-copy\n",
      "  n[\"Dist_Name\"] = \"paschim bardhaman\"\n"
     ]
    }
   ],
   "source": [
    "n = test_soil.loc[3]\n",
    "n[\"Dist_Name\"] = \"paschim bardhaman\"\n",
    "m = n.copy()\n",
    "m[\"Dist_Name\"] = \"purba bardhaman\"\n",
    "test_soil = pd.concat([test_soil, pd.DataFrame([n])], ignore_index=True)\n",
    "test_soil = pd.concat([test_soil, pd.DataFrame([m])], ignore_index=True)"
   ]
  },
  {
   "cell_type": "code",
   "execution_count": 56,
   "id": "999e6e21",
   "metadata": {},
   "outputs": [],
   "source": [
    "# Soil Final df\n",
    "soil_f_df = test_soil.drop([3,13,15,0,14]).reset_index().drop(columns=[\"index\"])"
   ]
  },
  {
   "cell_type": "code",
   "execution_count": 60,
   "id": "703c92a7",
   "metadata": {},
   "outputs": [
    {
     "data": {
      "text/plain": [
       "(array(['nadia', 'murshidabad', 'birbhum', 'bankura', 'hooghly', 'howrah',\n",
       "        'jalpaiguri', 'darjeeling', 'malda', 'coochbehar', 'purulia',\n",
       "        '24 paraganas north', '24 paraganas south', 'dinajpur uttar',\n",
       "        'dinajpur dakshin', 'medinipur east', 'medinipur west',\n",
       "        'paschim bardhaman', 'purba bardhaman'], dtype=object),\n",
       " 19)"
      ]
     },
     "execution_count": 60,
     "metadata": {},
     "output_type": "execute_result"
    }
   ],
   "source": [
    "soil_f_df.Dist_Name.unique() , len(soil_f_df.Dist_Name.unique())"
   ]
  },
  {
   "cell_type": "code",
   "execution_count": 61,
   "id": "771a7ca3",
   "metadata": {},
   "outputs": [
    {
     "name": "stdout",
     "output_type": "stream",
     "text": [
      "alipurduar\n",
      "jhargram\n",
      "kolkata\n",
      "kalimpong\n"
     ]
    }
   ],
   "source": [
    "l = ['alipurduar', 'bankura', 'birbhum', 'coochbehar',\n",
    "        'dinajpur dakshin', 'darjeeling', 'howrah', 'hooghly',\n",
    "        'jalpaiguri', 'jhargram', 'kolkata', 'kalimpong', 'malda',\n",
    "        'murshidabad', 'nadia', '24 paraganas north', 'paschim bardhaman',\n",
    "        'medinipur west', 'purba bardhaman', 'medinipur east', 'purulia',\n",
    "        '24 paraganas south', 'dinajpur uttar']\n",
    "for i in l:\n",
    "    if i not in soil_f_df.Dist_Name.unique():\n",
    "        print(i)"
   ]
  },
  {
   "cell_type": "code",
   "execution_count": 82,
   "id": "b7c5a50b",
   "metadata": {},
   "outputs": [],
   "source": [
    "# State Final Df\n",
    "notreq = ['alipurduar', 'jhargram', 'kalimpong', \"kolkata\"]\n",
    "state_df_f = state_df[(state_df.District!=\"alipurduar\") & (state_df.District!=\"jhargram\") & (state_df.District!=\"kalimpong\")]"
   ]
  },
  {
   "cell_type": "code",
   "execution_count": 81,
   "id": "107c6af2",
   "metadata": {},
   "outputs": [
    {
     "data": {
      "text/plain": [
       "12323"
      ]
     },
     "execution_count": 81,
     "metadata": {},
     "output_type": "execute_result"
    }
   ],
   "source": [
    "#state_df.shape[0] - state_df[(state_df.District==\"alipurduar\")].shape[0] - state_df[(state_df.District==\"jhargram\")].shape[0] - state_df[(state_df.District==\"kalimpong\")].shape[0]"
   ]
  },
  {
   "cell_type": "code",
   "execution_count": 84,
   "id": "3be25798",
   "metadata": {},
   "outputs": [
    {
     "data": {
      "text/plain": [
       "(array(['24 paraganas north', '24 paraganas south', 'bankura', 'birbhum',\n",
       "        'coochbehar', 'darjeeling', 'dinajpur dakshin', 'dinajpur uttar',\n",
       "        'hooghly', 'howrah', 'jalpaiguri', 'malda', 'medinipur east',\n",
       "        'medinipur west', 'murshidabad', 'nadia', 'purba bardhaman',\n",
       "        'purulia', 'paschim bardhaman'], dtype=object),\n",
       " 19)"
      ]
     },
     "execution_count": 84,
     "metadata": {},
     "output_type": "execute_result"
    }
   ],
   "source": [
    "state_df_f.District.unique(), len(state_df_f.District.unique())"
   ]
  },
  {
   "cell_type": "code",
   "execution_count": 96,
   "id": "4aec9336",
   "metadata": {},
   "outputs": [],
   "source": [
    "# weather Final df\n",
    "weather_df_f = weather_df[(weather_df.district!=\"alipurduar\") & (weather_df.district!=\"jhargram\") & (weather_df.district!=\"kalimpong\") & (weather_df.district!=\"kolkata\")]"
   ]
  },
  {
   "cell_type": "code",
   "execution_count": 97,
   "id": "194ee674",
   "metadata": {},
   "outputs": [
    {
     "data": {
      "text/plain": [
       "(array(['bankura', 'birbhum', 'coochbehar', 'dinajpur dakshin',\n",
       "        'darjeeling', 'howrah', 'hooghly', 'jalpaiguri', 'malda',\n",
       "        'murshidabad', 'nadia', '24 paraganas north', 'paschim bardhaman',\n",
       "        'medinipur west', 'purba bardhaman', 'medinipur east', 'purulia',\n",
       "        '24 paraganas south', 'dinajpur uttar'], dtype=object),\n",
       " 19)"
      ]
     },
     "execution_count": 97,
     "metadata": {},
     "output_type": "execute_result"
    }
   ],
   "source": [
    "weather_df_f.district.unique(), len(weather_df_f.district.unique())"
   ]
  },
  {
   "cell_type": "code",
   "execution_count": 98,
   "id": "d5afdc31",
   "metadata": {},
   "outputs": [
    {
     "data": {
      "text/plain": [
       "(array(['nadia', 'murshidabad', 'birbhum', 'bankura', 'hooghly', 'howrah',\n",
       "        'jalpaiguri', 'darjeeling', 'malda', 'coochbehar', 'purulia',\n",
       "        '24 paraganas north', '24 paraganas south', 'dinajpur uttar',\n",
       "        'dinajpur dakshin', 'medinipur east', 'medinipur west',\n",
       "        'paschim bardhaman', 'purba bardhaman'], dtype=object),\n",
       " 19)"
      ]
     },
     "execution_count": 98,
     "metadata": {},
     "output_type": "execute_result"
    }
   ],
   "source": [
    "soil_f_df.Dist_Name.unique() , len(soil_f_df.Dist_Name.unique())"
   ]
  },
  {
   "cell_type": "code",
   "execution_count": 99,
   "id": "78d01b83",
   "metadata": {},
   "outputs": [],
   "source": [
    "soil_f_df.to_csv(os.path.join(data_path,\"Cleaned Data/soil_final.csv\"), index=False)\n",
    "weather_df_f.to_csv(os.path.join(data_path,\"Cleaned Data/weather_final.csv\"), index=False)\n",
    "state_df_f.to_csv(os.path.join(data_path,\"Cleaned Data/state_final.csv\"), index=False)"
   ]
  },
  {
   "cell_type": "code",
   "execution_count": null,
   "id": "0db74a01",
   "metadata": {},
   "outputs": [],
   "source": []
  }
 ],
 "metadata": {
  "kernelspec": {
   "display_name": "Python 3 (ipykernel)",
   "language": "python",
   "name": "python3"
  },
  "language_info": {
   "codemirror_mode": {
    "name": "ipython",
    "version": 3
   },
   "file_extension": ".py",
   "mimetype": "text/x-python",
   "name": "python",
   "nbconvert_exporter": "python",
   "pygments_lexer": "ipython3",
   "version": "3.11.4"
  }
 },
 "nbformat": 4,
 "nbformat_minor": 5
}
