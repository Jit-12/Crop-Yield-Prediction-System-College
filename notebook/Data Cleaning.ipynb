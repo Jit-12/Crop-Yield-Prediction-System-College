{
 "cells": [
  {
   "cell_type": "code",
   "execution_count": 1,
   "id": "bc17abd8",
   "metadata": {},
   "outputs": [],
   "source": [
    "import numpy as np \n",
    "import pandas as pd\n",
    "import os"
   ]
  },
  {
   "cell_type": "code",
   "execution_count": 59,
   "id": "def7c99c",
   "metadata": {},
   "outputs": [],
   "source": [
    "data_path = os.path.join(os.pardir, 'data')"
   ]
  },
  {
   "cell_type": "code",
   "execution_count": 60,
   "id": "bf001122",
   "metadata": {},
   "outputs": [],
   "source": [
    "# State Data Reading\n",
    "state_data_file_path = os.path.join(data_path, 'statecleaneddata.xlsx')\n",
    "\n",
    "state_df = pd.read_excel(state_data_file_path)\n",
    "\n",
    "# BAsic preprocessing \n",
    "state_df.District = state_df.District.apply(lambda x: x.replace(\"\\n\",\"\"))\n",
    "state_df.District = state_df.District.apply(lambda x: x.lower())\n",
    "state_df.District = state_df.District.apply(lambda x: \"malda\" if x==\"maldah\" else x)"
   ]
  },
  {
   "cell_type": "code",
   "execution_count": 61,
   "id": "bf6b644b",
   "metadata": {},
   "outputs": [],
   "source": [
    "# Soil Data Reading\n",
    "soil_data_file_path = os.path.join(data_path, \"soil_type.csv\")\n",
    "\n",
    "soil_df = pd.read_csv(soil_data_file_path)"
   ]
  },
  {
   "cell_type": "code",
   "execution_count": 62,
   "id": "663601ce",
   "metadata": {},
   "outputs": [],
   "source": [
    "# weather Data Reading\n",
    "weather_data_file_path = os.path.join(data_path, \"weather_data_name_formated_final.csv\")\n",
    "\n",
    "weather_df = pd.read_csv(weather_data_file_path)\n",
    "\n",
    "#BAsic preprocessing \n",
    "weather_df.district = weather_df.district.apply(lambda x: x.lower())"
   ]
  },
  {
   "cell_type": "code",
   "execution_count": 63,
   "id": "08f2cb6a",
   "metadata": {},
   "outputs": [
    {
     "data": {
      "text/plain": [
       "(array(['24 paraganas north', '24 paraganas south', 'bankura', 'birbhum',\n",
       "        'coochbehar', 'darjeeling', 'dinajpur dakshin', 'dinajpur uttar',\n",
       "        'hooghly', 'howrah', 'jalpaiguri', 'malda', 'medinipur east',\n",
       "        'medinipur west', 'murshidabad', 'nadia', 'purba bardhaman',\n",
       "        'purulia', 'alipurduar', 'jhargram', 'kalimpong',\n",
       "        'paschim bardhaman'], dtype=object),\n",
       " 22)"
      ]
     },
     "execution_count": 63,
     "metadata": {},
     "output_type": "execute_result"
    }
   ],
   "source": [
    "state_df.District.unique() , len(state_df.District.unique())"
   ]
  },
  {
   "cell_type": "code",
   "execution_count": 64,
   "id": "5688a20b",
   "metadata": {},
   "outputs": [
    {
     "data": {
      "text/plain": [
       "(array(['alipurduar', 'bankura', 'birbhum', 'coochbehar',\n",
       "        'dinajpur dakshin', 'darjeeling', 'howrah', 'hooghly',\n",
       "        'jalpaiguri', 'jhargram', 'kolkata', 'kalimpong', 'malda',\n",
       "        'murshidabad', 'nadia', '24 paraganas north', 'paschim bardhaman',\n",
       "        'medinipur west', 'purba bardhaman', 'medinipur east', 'purulia',\n",
       "        '24 paraganas south', 'dinajpur uttar'], dtype=object),\n",
       " 23)"
      ]
     },
     "execution_count": 64,
     "metadata": {},
     "output_type": "execute_result"
    }
   ],
   "source": [
    "weather_df.district.unique(), len(weather_df.district.unique())"
   ]
  },
  {
   "cell_type": "code",
   "execution_count": 65,
   "id": "dd98275a",
   "metadata": {
    "scrolled": true
   },
   "outputs": [
    {
     "data": {
      "text/plain": [
       "array(['24 Parganas', 'Nadia', 'Murshidabad', 'Bardhaman', 'Birbhum',\n",
       "       'Bankura', 'Hooghly', 'Howrah', 'Jalpaiguri', 'Darjeeling',\n",
       "       'Malda', 'coochbehar', 'Purulia', 'Medinipur', 'Kolkata',\n",
       "       'Dinajpur'], dtype=object)"
      ]
     },
     "execution_count": 65,
     "metadata": {},
     "output_type": "execute_result"
    }
   ],
   "source": [
    "soil_df.Dist_Name.unique()"
   ]
  },
  {
   "cell_type": "code",
   "execution_count": 68,
   "id": "2a6b2209",
   "metadata": {},
   "outputs": [
    {
     "name": "stdout",
     "output_type": "stream",
     "text": [
      "0\n"
     ]
    }
   ],
   "source": [
    "c= 0\n",
    "for i in list(weather_df.district.unique()):\n",
    "    if i not in list(state_df.District.unique()):\n",
    "        print(c)"
   ]
  },
  {
   "cell_type": "code",
   "execution_count": 34,
   "id": "b35b5a08",
   "metadata": {},
   "outputs": [],
   "source": [
    "# 24 PARAGANAS NORTH--\n",
    "# 24 PARAGANAS South--\n",
    "# MEDINIPUR EAST--\n",
    "# MEDINIPUR WEST--\n",
    "# PASCHIM BARDHAMAN--\n",
    "# Purba BARDHAMAN--\n",
    "# Dinajpur both--"
   ]
  },
  {
   "cell_type": "code",
   "execution_count": 58,
   "id": "4a8b69a7",
   "metadata": {},
   "outputs": [],
   "source": []
  },
  {
   "cell_type": "code",
   "execution_count": null,
   "id": "d19485e8",
   "metadata": {},
   "outputs": [],
   "source": []
  }
 ],
 "metadata": {
  "kernelspec": {
   "display_name": "Python 3 (ipykernel)",
   "language": "python",
   "name": "python3"
  },
  "language_info": {
   "codemirror_mode": {
    "name": "ipython",
    "version": 3
   },
   "file_extension": ".py",
   "mimetype": "text/x-python",
   "name": "python",
   "nbconvert_exporter": "python",
   "pygments_lexer": "ipython3",
   "version": "3.11.4"
  }
 },
 "nbformat": 4,
 "nbformat_minor": 5
}
