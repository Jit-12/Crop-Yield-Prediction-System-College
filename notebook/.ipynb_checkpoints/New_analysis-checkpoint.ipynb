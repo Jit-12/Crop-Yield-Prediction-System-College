{
 "cells": [
  {
   "cell_type": "code",
   "execution_count": 1,
   "id": "a8caba69-03c5-422d-831b-88845f12b69d",
   "metadata": {
    "executionInfo": {
     "elapsed": 8,
     "status": "ok",
     "timestamp": 1731131285045,
     "user": {
      "displayName": "Jit Nandi",
      "userId": "16297485024333300602"
     },
     "user_tz": -330
    },
    "id": "a8caba69-03c5-422d-831b-88845f12b69d"
   },
   "outputs": [],
   "source": [
    "# required dependencies\n",
    "import numpy as np\n",
    "import pandas as pd\n",
    "import matplotlib.pyplot as plt\n",
    "import seaborn as sns\n",
    "import plotly.express as px\n",
    "import datetime as dt\n",
    "from statsmodels.graphics.tsaplots import plot_acf,plot_pacf\n",
    "from statsmodels.tsa.seasonal import seasonal_decompose\n",
    "import scipy.stats as st\n",
    "from sklearn.model_selection import train_test_split\n",
    "from sklearn.linear_model import LinearRegression,Ridge,Lasso\n",
    "from sklearn.ensemble import RandomForestRegressor\n",
    "import xgboost\n",
    "import lightgbm\n",
    "from sklearn.preprocessing import StandardScaler\n",
    "import os"
   ]
  },
  {
   "cell_type": "code",
   "execution_count": 2,
   "id": "6f1aa2bd-76f4-4821-a442-01d764e2d505",
   "metadata": {
    "executionInfo": {
     "elapsed": 506,
     "status": "ok",
     "timestamp": 1731131289568,
     "user": {
      "displayName": "Jit Nandi",
      "userId": "16297485024333300602"
     },
     "user_tz": -330
    },
    "id": "6f1aa2bd-76f4-4821-a442-01d764e2d505"
   },
   "outputs": [],
   "source": [
    "data_path = os.path.join(os.pardir, 'data')"
   ]
  },
  {
   "cell_type": "code",
   "execution_count": 3,
   "id": "644621e5-ccb5-4143-a42e-8670a042ed9d",
   "metadata": {
    "executionInfo": {
     "elapsed": 553,
     "status": "ok",
     "timestamp": 1731131293738,
     "user": {
      "displayName": "Jit Nandi",
      "userId": "16297485024333300602"
     },
     "user_tz": -330
    },
    "id": "644621e5-ccb5-4143-a42e-8670a042ed9d"
   },
   "outputs": [],
   "source": [
    "#Loading the data\n",
    "temp_path = os.path.join(data_path, \"Cleaned Data/temp_data.csv\")\n",
    "crop_data = pd.read_csv(temp_path)"
   ]
  },
  {
   "cell_type": "code",
   "execution_count": 4,
   "id": "69c2e2a7-7141-4b7f-8e2e-6a88b1e803b5",
   "metadata": {
    "colab": {
     "base_uri": "https://localhost:8080/",
     "height": 400
    },
    "executionInfo": {
     "elapsed": 15,
     "status": "ok",
     "timestamp": 1731131296580,
     "user": {
      "displayName": "Jit Nandi",
      "userId": "16297485024333300602"
     },
     "user_tz": -330
    },
    "id": "69c2e2a7-7141-4b7f-8e2e-6a88b1e803b5",
    "outputId": "59d44fb5-e809-4e79-e3c3-dd5ac42eaffa"
   },
   "outputs": [
    {
     "data": {
      "text/html": [
       "<div>\n",
       "<style scoped>\n",
       "    .dataframe tbody tr th:only-of-type {\n",
       "        vertical-align: middle;\n",
       "    }\n",
       "\n",
       "    .dataframe tbody tr th {\n",
       "        vertical-align: top;\n",
       "    }\n",
       "\n",
       "    .dataframe thead th {\n",
       "        text-align: right;\n",
       "    }\n",
       "</style>\n",
       "<table border=\"1\" class=\"dataframe\">\n",
       "  <thead>\n",
       "    <tr style=\"text-align: right;\">\n",
       "      <th></th>\n",
       "      <th>district</th>\n",
       "      <th>year</th>\n",
       "      <th>season</th>\n",
       "      <th>area</th>\n",
       "      <th>production</th>\n",
       "      <th>yield</th>\n",
       "      <th>crop</th>\n",
       "      <th>mean_temperature</th>\n",
       "      <th>mean_relative_humidity</th>\n",
       "      <th>max_temperature</th>\n",
       "      <th>soil_temperature</th>\n",
       "      <th>min_temperature</th>\n",
       "      <th>soil_noisture</th>\n",
       "      <th>wind_speed</th>\n",
       "      <th>rain_sum</th>\n",
       "      <th>orthids</th>\n",
       "      <th>udupts/udalfs</th>\n",
       "      <th>ustalf/ustolls</th>\n",
       "      <th>inceptisols</th>\n",
       "    </tr>\n",
       "  </thead>\n",
       "  <tbody>\n",
       "    <tr>\n",
       "      <th>0</th>\n",
       "      <td>24 paraganas north</td>\n",
       "      <td>1997-01-01</td>\n",
       "      <td>Whole Year</td>\n",
       "      <td>1345.0</td>\n",
       "      <td>1274.0</td>\n",
       "      <td>0.947212</td>\n",
       "      <td>Arecanut</td>\n",
       "      <td>25.332407</td>\n",
       "      <td>77.510488</td>\n",
       "      <td>29.934613</td>\n",
       "      <td>26.727149</td>\n",
       "      <td>21.621957</td>\n",
       "      <td>0.282786</td>\n",
       "      <td>12.339231</td>\n",
       "      <td>5.097360</td>\n",
       "      <td>100.0</td>\n",
       "      <td>0.0</td>\n",
       "      <td>0.0</td>\n",
       "      <td>0.0</td>\n",
       "    </tr>\n",
       "    <tr>\n",
       "      <th>1</th>\n",
       "      <td>24 paraganas north</td>\n",
       "      <td>1997-01-01</td>\n",
       "      <td>Whole Year</td>\n",
       "      <td>45.0</td>\n",
       "      <td>40.0</td>\n",
       "      <td>0.888889</td>\n",
       "      <td>Arhar/Tur</td>\n",
       "      <td>25.332407</td>\n",
       "      <td>77.510488</td>\n",
       "      <td>29.934613</td>\n",
       "      <td>26.727149</td>\n",
       "      <td>21.621957</td>\n",
       "      <td>0.282786</td>\n",
       "      <td>12.339231</td>\n",
       "      <td>5.097360</td>\n",
       "      <td>100.0</td>\n",
       "      <td>0.0</td>\n",
       "      <td>0.0</td>\n",
       "      <td>0.0</td>\n",
       "    </tr>\n",
       "    <tr>\n",
       "      <th>2</th>\n",
       "      <td>24 paraganas north</td>\n",
       "      <td>1997-01-01</td>\n",
       "      <td>Whole Year</td>\n",
       "      <td>2975.0</td>\n",
       "      <td>40162500.0</td>\n",
       "      <td>13500.000000</td>\n",
       "      <td>Coconut</td>\n",
       "      <td>25.332407</td>\n",
       "      <td>77.510488</td>\n",
       "      <td>29.934613</td>\n",
       "      <td>26.727149</td>\n",
       "      <td>21.621957</td>\n",
       "      <td>0.282786</td>\n",
       "      <td>12.339231</td>\n",
       "      <td>5.097360</td>\n",
       "      <td>100.0</td>\n",
       "      <td>0.0</td>\n",
       "      <td>0.0</td>\n",
       "      <td>0.0</td>\n",
       "    </tr>\n",
       "    <tr>\n",
       "      <th>3</th>\n",
       "      <td>24 paraganas north</td>\n",
       "      <td>1997-01-01</td>\n",
       "      <td>Whole Year</td>\n",
       "      <td>3916.0</td>\n",
       "      <td>7706.0</td>\n",
       "      <td>1.967824</td>\n",
       "      <td>Dry chillies</td>\n",
       "      <td>25.332407</td>\n",
       "      <td>77.510488</td>\n",
       "      <td>29.934613</td>\n",
       "      <td>26.727149</td>\n",
       "      <td>21.621957</td>\n",
       "      <td>0.282786</td>\n",
       "      <td>12.339231</td>\n",
       "      <td>5.097360</td>\n",
       "      <td>100.0</td>\n",
       "      <td>0.0</td>\n",
       "      <td>0.0</td>\n",
       "      <td>0.0</td>\n",
       "    </tr>\n",
       "    <tr>\n",
       "      <th>4</th>\n",
       "      <td>24 paraganas north</td>\n",
       "      <td>1997-01-01</td>\n",
       "      <td>Winter</td>\n",
       "      <td>267.0</td>\n",
       "      <td>160.0</td>\n",
       "      <td>0.599251</td>\n",
       "      <td>Gram</td>\n",
       "      <td>22.572476</td>\n",
       "      <td>71.047353</td>\n",
       "      <td>27.968056</td>\n",
       "      <td>24.248702</td>\n",
       "      <td>17.768949</td>\n",
       "      <td>0.203086</td>\n",
       "      <td>10.390048</td>\n",
       "      <td>0.955894</td>\n",
       "      <td>100.0</td>\n",
       "      <td>0.0</td>\n",
       "      <td>0.0</td>\n",
       "      <td>0.0</td>\n",
       "    </tr>\n",
       "  </tbody>\n",
       "</table>\n",
       "</div>"
      ],
      "text/plain": [
       "             district        year      season    area  production  \\\n",
       "0  24 paraganas north  1997-01-01  Whole Year  1345.0      1274.0   \n",
       "1  24 paraganas north  1997-01-01  Whole Year    45.0        40.0   \n",
       "2  24 paraganas north  1997-01-01  Whole Year  2975.0  40162500.0   \n",
       "3  24 paraganas north  1997-01-01  Whole Year  3916.0      7706.0   \n",
       "4  24 paraganas north  1997-01-01      Winter   267.0       160.0   \n",
       "\n",
       "          yield          crop  mean_temperature  mean_relative_humidity  \\\n",
       "0      0.947212      Arecanut         25.332407               77.510488   \n",
       "1      0.888889     Arhar/Tur         25.332407               77.510488   \n",
       "2  13500.000000       Coconut         25.332407               77.510488   \n",
       "3      1.967824  Dry chillies         25.332407               77.510488   \n",
       "4      0.599251          Gram         22.572476               71.047353   \n",
       "\n",
       "   max_temperature  soil_temperature  min_temperature  soil_noisture  \\\n",
       "0        29.934613         26.727149        21.621957       0.282786   \n",
       "1        29.934613         26.727149        21.621957       0.282786   \n",
       "2        29.934613         26.727149        21.621957       0.282786   \n",
       "3        29.934613         26.727149        21.621957       0.282786   \n",
       "4        27.968056         24.248702        17.768949       0.203086   \n",
       "\n",
       "   wind_speed  rain_sum  orthids  udupts/udalfs  ustalf/ustolls  inceptisols  \n",
       "0   12.339231  5.097360    100.0            0.0             0.0          0.0  \n",
       "1   12.339231  5.097360    100.0            0.0             0.0          0.0  \n",
       "2   12.339231  5.097360    100.0            0.0             0.0          0.0  \n",
       "3   12.339231  5.097360    100.0            0.0             0.0          0.0  \n",
       "4   10.390048  0.955894    100.0            0.0             0.0          0.0  "
      ]
     },
     "execution_count": 4,
     "metadata": {},
     "output_type": "execute_result"
    }
   ],
   "source": [
    "#data preview\n",
    "crop_data.head()"
   ]
  },
  {
   "cell_type": "code",
   "execution_count": 5,
   "id": "be9d831a-b939-4913-bebf-83073ebe7fc1",
   "metadata": {
    "colab": {
     "base_uri": "https://localhost:8080/"
    },
    "executionInfo": {
     "elapsed": 514,
     "status": "ok",
     "timestamp": 1731131301005,
     "user": {
      "displayName": "Jit Nandi",
      "userId": "16297485024333300602"
     },
     "user_tz": -330
    },
    "id": "be9d831a-b939-4913-bebf-83073ebe7fc1",
    "outputId": "365fe6d5-c079-4b27-8829-f11a400154b1"
   },
   "outputs": [
    {
     "data": {
      "text/plain": [
       "(12307, 19)"
      ]
     },
     "execution_count": 5,
     "metadata": {},
     "output_type": "execute_result"
    }
   ],
   "source": [
    "#shape of the data\n",
    "crop_data.shape"
   ]
  },
  {
   "cell_type": "code",
   "execution_count": 6,
   "id": "bdee8184-82f8-4302-a83c-1cc98758a699",
   "metadata": {
    "colab": {
     "base_uri": "https://localhost:8080/"
    },
    "executionInfo": {
     "elapsed": 3,
     "status": "ok",
     "timestamp": 1731131302713,
     "user": {
      "displayName": "Jit Nandi",
      "userId": "16297485024333300602"
     },
     "user_tz": -330
    },
    "id": "bdee8184-82f8-4302-a83c-1cc98758a699",
    "outputId": "ad3cd146-f466-428c-c379-e024ae99475d"
   },
   "outputs": [
    {
     "name": "stdout",
     "output_type": "stream",
     "text": [
      "<class 'pandas.core.frame.DataFrame'>\n",
      "RangeIndex: 12307 entries, 0 to 12306\n",
      "Data columns (total 19 columns):\n",
      " #   Column                  Non-Null Count  Dtype  \n",
      "---  ------                  --------------  -----  \n",
      " 0   district                12307 non-null  object \n",
      " 1   year                    12307 non-null  object \n",
      " 2   season                  12307 non-null  object \n",
      " 3   area                    12307 non-null  float64\n",
      " 4   production              12307 non-null  float64\n",
      " 5   yield                   12307 non-null  float64\n",
      " 6   crop                    12307 non-null  object \n",
      " 7   mean_temperature        12307 non-null  float64\n",
      " 8   mean_relative_humidity  12307 non-null  float64\n",
      " 9   max_temperature         12307 non-null  float64\n",
      " 10  soil_temperature        12307 non-null  float64\n",
      " 11  min_temperature         12307 non-null  float64\n",
      " 12  soil_noisture           12307 non-null  float64\n",
      " 13  wind_speed              12307 non-null  float64\n",
      " 14  rain_sum                12307 non-null  float64\n",
      " 15  orthids                 12307 non-null  float64\n",
      " 16  udupts/udalfs           12307 non-null  float64\n",
      " 17  ustalf/ustolls          12307 non-null  float64\n",
      " 18  inceptisols             12307 non-null  float64\n",
      "dtypes: float64(15), object(4)\n",
      "memory usage: 1.8+ MB\n"
     ]
    }
   ],
   "source": [
    "#basic information about the dataset\n",
    "crop_data.info()"
   ]
  },
  {
   "cell_type": "code",
   "execution_count": 7,
   "id": "938637a5-be18-46f6-8843-59dca49a7a50",
   "metadata": {
    "executionInfo": {
     "elapsed": 564,
     "status": "ok",
     "timestamp": 1731131305957,
     "user": {
      "displayName": "Jit Nandi",
      "userId": "16297485024333300602"
     },
     "user_tz": -330
    },
    "id": "938637a5-be18-46f6-8843-59dca49a7a50"
   },
   "outputs": [],
   "source": [
    "#converting the year column to data_time dtype\n",
    "crop_data['year'] = pd.to_datetime(crop_data['year']).dt.strftime('%Y')"
   ]
  },
  {
   "cell_type": "code",
   "execution_count": 8,
   "id": "d1cd483f-dc01-4680-8c19-5c204839cfe9",
   "metadata": {
    "executionInfo": {
     "elapsed": 1,
     "status": "ok",
     "timestamp": 1731131307317,
     "user": {
      "displayName": "Jit Nandi",
      "userId": "16297485024333300602"
     },
     "user_tz": -330
    },
    "id": "d1cd483f-dc01-4680-8c19-5c204839cfe9"
   },
   "outputs": [],
   "source": [
    "crop_data.set_index('year',inplace=True)"
   ]
  },
  {
   "cell_type": "code",
   "execution_count": 9,
   "id": "b6b8b488-a8e5-4894-ab99-2c83d5f02990",
   "metadata": {
    "colab": {
     "base_uri": "https://localhost:8080/",
     "height": 431
    },
    "executionInfo": {
     "elapsed": 571,
     "status": "ok",
     "timestamp": 1731131309520,
     "user": {
      "displayName": "Jit Nandi",
      "userId": "16297485024333300602"
     },
     "user_tz": -330
    },
    "id": "b6b8b488-a8e5-4894-ab99-2c83d5f02990",
    "outputId": "db9d3fe0-b369-412e-e311-f8d37dac78df"
   },
   "outputs": [
    {
     "data": {
      "text/html": [
       "<div>\n",
       "<style scoped>\n",
       "    .dataframe tbody tr th:only-of-type {\n",
       "        vertical-align: middle;\n",
       "    }\n",
       "\n",
       "    .dataframe tbody tr th {\n",
       "        vertical-align: top;\n",
       "    }\n",
       "\n",
       "    .dataframe thead th {\n",
       "        text-align: right;\n",
       "    }\n",
       "</style>\n",
       "<table border=\"1\" class=\"dataframe\">\n",
       "  <thead>\n",
       "    <tr style=\"text-align: right;\">\n",
       "      <th></th>\n",
       "      <th>district</th>\n",
       "      <th>season</th>\n",
       "      <th>area</th>\n",
       "      <th>production</th>\n",
       "      <th>yield</th>\n",
       "      <th>crop</th>\n",
       "      <th>mean_temperature</th>\n",
       "      <th>mean_relative_humidity</th>\n",
       "      <th>max_temperature</th>\n",
       "      <th>soil_temperature</th>\n",
       "      <th>min_temperature</th>\n",
       "      <th>soil_noisture</th>\n",
       "      <th>wind_speed</th>\n",
       "      <th>rain_sum</th>\n",
       "      <th>orthids</th>\n",
       "      <th>udupts/udalfs</th>\n",
       "      <th>ustalf/ustolls</th>\n",
       "      <th>inceptisols</th>\n",
       "    </tr>\n",
       "    <tr>\n",
       "      <th>year</th>\n",
       "      <th></th>\n",
       "      <th></th>\n",
       "      <th></th>\n",
       "      <th></th>\n",
       "      <th></th>\n",
       "      <th></th>\n",
       "      <th></th>\n",
       "      <th></th>\n",
       "      <th></th>\n",
       "      <th></th>\n",
       "      <th></th>\n",
       "      <th></th>\n",
       "      <th></th>\n",
       "      <th></th>\n",
       "      <th></th>\n",
       "      <th></th>\n",
       "      <th></th>\n",
       "      <th></th>\n",
       "    </tr>\n",
       "  </thead>\n",
       "  <tbody>\n",
       "    <tr>\n",
       "      <th>1997</th>\n",
       "      <td>24 paraganas north</td>\n",
       "      <td>Whole Year</td>\n",
       "      <td>1345.0</td>\n",
       "      <td>1274.0</td>\n",
       "      <td>0.947212</td>\n",
       "      <td>Arecanut</td>\n",
       "      <td>25.332407</td>\n",
       "      <td>77.510488</td>\n",
       "      <td>29.934613</td>\n",
       "      <td>26.727149</td>\n",
       "      <td>21.621957</td>\n",
       "      <td>0.282786</td>\n",
       "      <td>12.339231</td>\n",
       "      <td>5.097360</td>\n",
       "      <td>100.0</td>\n",
       "      <td>0.0</td>\n",
       "      <td>0.0</td>\n",
       "      <td>0.0</td>\n",
       "    </tr>\n",
       "    <tr>\n",
       "      <th>1997</th>\n",
       "      <td>24 paraganas north</td>\n",
       "      <td>Whole Year</td>\n",
       "      <td>45.0</td>\n",
       "      <td>40.0</td>\n",
       "      <td>0.888889</td>\n",
       "      <td>Arhar/Tur</td>\n",
       "      <td>25.332407</td>\n",
       "      <td>77.510488</td>\n",
       "      <td>29.934613</td>\n",
       "      <td>26.727149</td>\n",
       "      <td>21.621957</td>\n",
       "      <td>0.282786</td>\n",
       "      <td>12.339231</td>\n",
       "      <td>5.097360</td>\n",
       "      <td>100.0</td>\n",
       "      <td>0.0</td>\n",
       "      <td>0.0</td>\n",
       "      <td>0.0</td>\n",
       "    </tr>\n",
       "    <tr>\n",
       "      <th>1997</th>\n",
       "      <td>24 paraganas north</td>\n",
       "      <td>Whole Year</td>\n",
       "      <td>2975.0</td>\n",
       "      <td>40162500.0</td>\n",
       "      <td>13500.000000</td>\n",
       "      <td>Coconut</td>\n",
       "      <td>25.332407</td>\n",
       "      <td>77.510488</td>\n",
       "      <td>29.934613</td>\n",
       "      <td>26.727149</td>\n",
       "      <td>21.621957</td>\n",
       "      <td>0.282786</td>\n",
       "      <td>12.339231</td>\n",
       "      <td>5.097360</td>\n",
       "      <td>100.0</td>\n",
       "      <td>0.0</td>\n",
       "      <td>0.0</td>\n",
       "      <td>0.0</td>\n",
       "    </tr>\n",
       "    <tr>\n",
       "      <th>1997</th>\n",
       "      <td>24 paraganas north</td>\n",
       "      <td>Whole Year</td>\n",
       "      <td>3916.0</td>\n",
       "      <td>7706.0</td>\n",
       "      <td>1.967824</td>\n",
       "      <td>Dry chillies</td>\n",
       "      <td>25.332407</td>\n",
       "      <td>77.510488</td>\n",
       "      <td>29.934613</td>\n",
       "      <td>26.727149</td>\n",
       "      <td>21.621957</td>\n",
       "      <td>0.282786</td>\n",
       "      <td>12.339231</td>\n",
       "      <td>5.097360</td>\n",
       "      <td>100.0</td>\n",
       "      <td>0.0</td>\n",
       "      <td>0.0</td>\n",
       "      <td>0.0</td>\n",
       "    </tr>\n",
       "    <tr>\n",
       "      <th>1997</th>\n",
       "      <td>24 paraganas north</td>\n",
       "      <td>Winter</td>\n",
       "      <td>267.0</td>\n",
       "      <td>160.0</td>\n",
       "      <td>0.599251</td>\n",
       "      <td>Gram</td>\n",
       "      <td>22.572476</td>\n",
       "      <td>71.047353</td>\n",
       "      <td>27.968056</td>\n",
       "      <td>24.248702</td>\n",
       "      <td>17.768949</td>\n",
       "      <td>0.203086</td>\n",
       "      <td>10.390048</td>\n",
       "      <td>0.955894</td>\n",
       "      <td>100.0</td>\n",
       "      <td>0.0</td>\n",
       "      <td>0.0</td>\n",
       "      <td>0.0</td>\n",
       "    </tr>\n",
       "  </tbody>\n",
       "</table>\n",
       "</div>"
      ],
      "text/plain": [
       "                district      season    area  production         yield  \\\n",
       "year                                                                     \n",
       "1997  24 paraganas north  Whole Year  1345.0      1274.0      0.947212   \n",
       "1997  24 paraganas north  Whole Year    45.0        40.0      0.888889   \n",
       "1997  24 paraganas north  Whole Year  2975.0  40162500.0  13500.000000   \n",
       "1997  24 paraganas north  Whole Year  3916.0      7706.0      1.967824   \n",
       "1997  24 paraganas north      Winter   267.0       160.0      0.599251   \n",
       "\n",
       "              crop  mean_temperature  mean_relative_humidity  max_temperature  \\\n",
       "year                                                                            \n",
       "1997      Arecanut         25.332407               77.510488        29.934613   \n",
       "1997     Arhar/Tur         25.332407               77.510488        29.934613   \n",
       "1997       Coconut         25.332407               77.510488        29.934613   \n",
       "1997  Dry chillies         25.332407               77.510488        29.934613   \n",
       "1997          Gram         22.572476               71.047353        27.968056   \n",
       "\n",
       "      soil_temperature  min_temperature  soil_noisture  wind_speed  rain_sum  \\\n",
       "year                                                                           \n",
       "1997         26.727149        21.621957       0.282786   12.339231  5.097360   \n",
       "1997         26.727149        21.621957       0.282786   12.339231  5.097360   \n",
       "1997         26.727149        21.621957       0.282786   12.339231  5.097360   \n",
       "1997         26.727149        21.621957       0.282786   12.339231  5.097360   \n",
       "1997         24.248702        17.768949       0.203086   10.390048  0.955894   \n",
       "\n",
       "      orthids  udupts/udalfs  ustalf/ustolls  inceptisols  \n",
       "year                                                       \n",
       "1997    100.0            0.0             0.0          0.0  \n",
       "1997    100.0            0.0             0.0          0.0  \n",
       "1997    100.0            0.0             0.0          0.0  \n",
       "1997    100.0            0.0             0.0          0.0  \n",
       "1997    100.0            0.0             0.0          0.0  "
      ]
     },
     "execution_count": 9,
     "metadata": {},
     "output_type": "execute_result"
    }
   ],
   "source": [
    "crop_data.head()"
   ]
  },
  {
   "cell_type": "markdown",
   "id": "d7f701e8-af91-4caf-b56a-9a886de57323",
   "metadata": {
    "id": "d7f701e8-af91-4caf-b56a-9a886de57323"
   },
   "source": [
    "## Univariate Analysis"
   ]
  },
  {
   "cell_type": "code",
   "execution_count": 10,
   "id": "a6cb8bd7-fd84-44c9-9da6-ffbabe014bd8",
   "metadata": {
    "colab": {
     "base_uri": "https://localhost:8080/",
     "height": 320
    },
    "executionInfo": {
     "elapsed": 532,
     "status": "ok",
     "timestamp": 1731131313928,
     "user": {
      "displayName": "Jit Nandi",
      "userId": "16297485024333300602"
     },
     "user_tz": -330
    },
    "id": "a6cb8bd7-fd84-44c9-9da6-ffbabe014bd8",
    "outputId": "af0e7067-74af-49e4-c80f-3acd06753f49"
   },
   "outputs": [
    {
     "data": {
      "text/html": [
       "<div>\n",
       "<style scoped>\n",
       "    .dataframe tbody tr th:only-of-type {\n",
       "        vertical-align: middle;\n",
       "    }\n",
       "\n",
       "    .dataframe tbody tr th {\n",
       "        vertical-align: top;\n",
       "    }\n",
       "\n",
       "    .dataframe thead th {\n",
       "        text-align: right;\n",
       "    }\n",
       "</style>\n",
       "<table border=\"1\" class=\"dataframe\">\n",
       "  <thead>\n",
       "    <tr style=\"text-align: right;\">\n",
       "      <th></th>\n",
       "      <th>area</th>\n",
       "      <th>production</th>\n",
       "      <th>yield</th>\n",
       "      <th>mean_temperature</th>\n",
       "      <th>mean_relative_humidity</th>\n",
       "      <th>max_temperature</th>\n",
       "      <th>soil_temperature</th>\n",
       "      <th>min_temperature</th>\n",
       "      <th>soil_noisture</th>\n",
       "      <th>wind_speed</th>\n",
       "      <th>rain_sum</th>\n",
       "      <th>orthids</th>\n",
       "      <th>udupts/udalfs</th>\n",
       "      <th>ustalf/ustolls</th>\n",
       "      <th>inceptisols</th>\n",
       "    </tr>\n",
       "  </thead>\n",
       "  <tbody>\n",
       "    <tr>\n",
       "      <th>count</th>\n",
       "      <td>1.230700e+04</td>\n",
       "      <td>1.230700e+04</td>\n",
       "      <td>12307.000000</td>\n",
       "      <td>12307.000000</td>\n",
       "      <td>12307.000000</td>\n",
       "      <td>12307.000000</td>\n",
       "      <td>12307.000000</td>\n",
       "      <td>12307.000000</td>\n",
       "      <td>12307.000000</td>\n",
       "      <td>12307.000000</td>\n",
       "      <td>12307.000000</td>\n",
       "      <td>12307.000000</td>\n",
       "      <td>12307.000000</td>\n",
       "      <td>12307.000000</td>\n",
       "      <td>12307.000000</td>\n",
       "    </tr>\n",
       "    <tr>\n",
       "      <th>mean</th>\n",
       "      <td>1.919328e+04</td>\n",
       "      <td>7.220320e+05</td>\n",
       "      <td>427.808003</td>\n",
       "      <td>24.208839</td>\n",
       "      <td>75.618878</td>\n",
       "      <td>28.916575</td>\n",
       "      <td>25.415222</td>\n",
       "      <td>20.268081</td>\n",
       "      <td>0.290954</td>\n",
       "      <td>11.539002</td>\n",
       "      <td>5.153515</td>\n",
       "      <td>32.042740</td>\n",
       "      <td>23.805964</td>\n",
       "      <td>12.143496</td>\n",
       "      <td>32.007800</td>\n",
       "    </tr>\n",
       "    <tr>\n",
       "      <th>std</th>\n",
       "      <td>1.431930e+05</td>\n",
       "      <td>4.937430e+06</td>\n",
       "      <td>2357.925025</td>\n",
       "      <td>4.197426</td>\n",
       "      <td>7.950642</td>\n",
       "      <td>4.023378</td>\n",
       "      <td>4.337664</td>\n",
       "      <td>4.768029</td>\n",
       "      <td>0.080226</td>\n",
       "      <td>2.434820</td>\n",
       "      <td>4.810882</td>\n",
       "      <td>43.543007</td>\n",
       "      <td>33.599029</td>\n",
       "      <td>27.770879</td>\n",
       "      <td>42.353453</td>\n",
       "    </tr>\n",
       "    <tr>\n",
       "      <th>min</th>\n",
       "      <td>1.000000e+00</td>\n",
       "      <td>7.040000e-01</td>\n",
       "      <td>0.002618</td>\n",
       "      <td>7.617222</td>\n",
       "      <td>50.054029</td>\n",
       "      <td>12.076546</td>\n",
       "      <td>7.001231</td>\n",
       "      <td>3.670055</td>\n",
       "      <td>0.163724</td>\n",
       "      <td>5.244565</td>\n",
       "      <td>0.218164</td>\n",
       "      <td>0.000000</td>\n",
       "      <td>0.000000</td>\n",
       "      <td>0.000000</td>\n",
       "      <td>0.000000</td>\n",
       "    </tr>\n",
       "    <tr>\n",
       "      <th>25%</th>\n",
       "      <td>1.090000e+02</td>\n",
       "      <td>9.800000e+01</td>\n",
       "      <td>0.682267</td>\n",
       "      <td>22.188442</td>\n",
       "      <td>69.234461</td>\n",
       "      <td>27.865580</td>\n",
       "      <td>23.545546</td>\n",
       "      <td>16.964903</td>\n",
       "      <td>0.218885</td>\n",
       "      <td>10.182471</td>\n",
       "      <td>1.232391</td>\n",
       "      <td>0.000000</td>\n",
       "      <td>0.000000</td>\n",
       "      <td>0.000000</td>\n",
       "      <td>0.000000</td>\n",
       "    </tr>\n",
       "    <tr>\n",
       "      <th>50%</th>\n",
       "      <td>5.980000e+02</td>\n",
       "      <td>8.400000e+02</td>\n",
       "      <td>1.200000</td>\n",
       "      <td>24.414130</td>\n",
       "      <td>74.733962</td>\n",
       "      <td>29.187912</td>\n",
       "      <td>25.573976</td>\n",
       "      <td>20.414154</td>\n",
       "      <td>0.277311</td>\n",
       "      <td>11.229034</td>\n",
       "      <td>3.889493</td>\n",
       "      <td>0.000000</td>\n",
       "      <td>0.000000</td>\n",
       "      <td>0.000000</td>\n",
       "      <td>0.000000</td>\n",
       "    </tr>\n",
       "    <tr>\n",
       "      <th>75%</th>\n",
       "      <td>4.672500e+03</td>\n",
       "      <td>1.749900e+04</td>\n",
       "      <td>2.715271</td>\n",
       "      <td>27.497826</td>\n",
       "      <td>83.419156</td>\n",
       "      <td>30.848009</td>\n",
       "      <td>28.421649</td>\n",
       "      <td>25.106522</td>\n",
       "      <td>0.377569</td>\n",
       "      <td>12.903261</td>\n",
       "      <td>7.779710</td>\n",
       "      <td>100.000000</td>\n",
       "      <td>50.000000</td>\n",
       "      <td>0.000000</td>\n",
       "      <td>60.000000</td>\n",
       "    </tr>\n",
       "    <tr>\n",
       "      <th>max</th>\n",
       "      <td>8.580100e+06</td>\n",
       "      <td>7.509500e+07</td>\n",
       "      <td>38800.000000</td>\n",
       "      <td>32.156044</td>\n",
       "      <td>94.375906</td>\n",
       "      <td>38.731868</td>\n",
       "      <td>34.473443</td>\n",
       "      <td>28.219780</td>\n",
       "      <td>0.496208</td>\n",
       "      <td>21.109890</td>\n",
       "      <td>26.207609</td>\n",
       "      <td>100.000000</td>\n",
       "      <td>100.000000</td>\n",
       "      <td>100.000000</td>\n",
       "      <td>100.000000</td>\n",
       "    </tr>\n",
       "  </tbody>\n",
       "</table>\n",
       "</div>"
      ],
      "text/plain": [
       "               area    production         yield  mean_temperature  \\\n",
       "count  1.230700e+04  1.230700e+04  12307.000000      12307.000000   \n",
       "mean   1.919328e+04  7.220320e+05    427.808003         24.208839   \n",
       "std    1.431930e+05  4.937430e+06   2357.925025          4.197426   \n",
       "min    1.000000e+00  7.040000e-01      0.002618          7.617222   \n",
       "25%    1.090000e+02  9.800000e+01      0.682267         22.188442   \n",
       "50%    5.980000e+02  8.400000e+02      1.200000         24.414130   \n",
       "75%    4.672500e+03  1.749900e+04      2.715271         27.497826   \n",
       "max    8.580100e+06  7.509500e+07  38800.000000         32.156044   \n",
       "\n",
       "       mean_relative_humidity  max_temperature  soil_temperature  \\\n",
       "count            12307.000000     12307.000000      12307.000000   \n",
       "mean                75.618878        28.916575         25.415222   \n",
       "std                  7.950642         4.023378          4.337664   \n",
       "min                 50.054029        12.076546          7.001231   \n",
       "25%                 69.234461        27.865580         23.545546   \n",
       "50%                 74.733962        29.187912         25.573976   \n",
       "75%                 83.419156        30.848009         28.421649   \n",
       "max                 94.375906        38.731868         34.473443   \n",
       "\n",
       "       min_temperature  soil_noisture    wind_speed      rain_sum  \\\n",
       "count     12307.000000   12307.000000  12307.000000  12307.000000   \n",
       "mean         20.268081       0.290954     11.539002      5.153515   \n",
       "std           4.768029       0.080226      2.434820      4.810882   \n",
       "min           3.670055       0.163724      5.244565      0.218164   \n",
       "25%          16.964903       0.218885     10.182471      1.232391   \n",
       "50%          20.414154       0.277311     11.229034      3.889493   \n",
       "75%          25.106522       0.377569     12.903261      7.779710   \n",
       "max          28.219780       0.496208     21.109890     26.207609   \n",
       "\n",
       "            orthids  udupts/udalfs  ustalf/ustolls   inceptisols  \n",
       "count  12307.000000   12307.000000    12307.000000  12307.000000  \n",
       "mean      32.042740      23.805964       12.143496     32.007800  \n",
       "std       43.543007      33.599029       27.770879     42.353453  \n",
       "min        0.000000       0.000000        0.000000      0.000000  \n",
       "25%        0.000000       0.000000        0.000000      0.000000  \n",
       "50%        0.000000       0.000000        0.000000      0.000000  \n",
       "75%      100.000000      50.000000        0.000000     60.000000  \n",
       "max      100.000000     100.000000      100.000000    100.000000  "
      ]
     },
     "execution_count": 10,
     "metadata": {},
     "output_type": "execute_result"
    }
   ],
   "source": [
    "#basic statistics of the data\n",
    "crop_data.describe()"
   ]
  },
  {
   "cell_type": "markdown",
   "id": "b067b72d-b5e6-440c-9085-eda45acf55b9",
   "metadata": {
    "id": "b067b72d-b5e6-440c-9085-eda45acf55b9"
   },
   "source": [
    "### Year Column\n",
    "- **Range:** The data spans from 1997 to 2019.\n",
    "- **Distribution:** Median year is 2008, suggesting a fairly even spread of data over time.\n",
    "\n",
    "### Area\n",
    "- **Range:** The area values vary significantly, from as small as 1 to as large as 8.58 million hectars.\n",
    "- **Mean Area:** The average area is about 19,193 units.\n",
    "- **Spread:** A high standard deviation (143,193) indicates large variability in land area, suggesting a mix of small and large farms.\n",
    "\n",
    "### Production\n",
    "- **Range:** Production varies from a minimal 0.704 to 75 million Tonnes.\n",
    "- **Mean Production:** The average production is about 722,032 Tonnes, though the high standard deviation (4,937,430) suggests large-scale differences in productivity.\n",
    "- **Median Production:** The median (840) is much lower than the mean, indicating a right-skewed distribution, where a few large productions inflate the mean.\n",
    "\n",
    "### Yield\n",
    "- **Range:** Yield ranges from a very low 0.0026 to a high 38,800 Tonnes/hectar.\n",
    "- **Mean Yield:** The average yield is around 427.8 Tonnes/hectar.\n",
    "- **Skewed Distribution:** The high maximum and standard deviation (2357.9) relative to the mean imply outliers or some farms with very high yields.\n",
    "\n",
    "### Temperature and Humidity Metrics\n",
    "- **Mean Temperature:** Ranges from 7.6°C to 32.1°C, with an average of 24.2°C.\n",
    "- **Mean Relative Humidity:** Varies from 50.05% to 94.37%, with an average of 75.6%.\n",
    "- **Max Temperature:** Peaks at 38.7°C with a mean of 28.9°C, indicating generally warm conditions.\n",
    "- **Min Temperature:** Ranges from 3.67°C to 28.2°C, with a mean of 20.3°C.\n",
    "- **Soil Temperature:** Varies from 7.0°C to 34.5°C, averaging around 25.4°C.\n",
    "\n",
    "  \n",
    "These statistics indicate generally warm to hot and humid growing conditions, with substantial seasonal or regional variability.\n",
    "\n",
    "### Soil and Environmental Factors\n",
    "- **Soil Moisture:** Relatively low, averaging 0.29, with a maximum of 0.49, suggesting dry to moderately moist conditions in most places.\n",
    "- **Wind Speed:** Averages around 11.5 km/h, ranging from 5.2 to 21.1, indicating moderate wind conditions.\n",
    "- **Rainfall (Rain Sum):** The average is about 5.15 mm, with some regions receiving as much as 26.2, implying varied rainfall across the regions.\n",
    "\n",
    "### Soil Types\n",
    "The soil categories (Orthids, Udupts/Udalfs, Ustalfs/Ustolls, Inceptisols) are indicated by percentages:\n",
    "- **Orthids and Udupts/Udalfs:** Average coverage is around 32% and 23.8%, respectively, with a maximum of 100%.\n",
    "- **Ustalfs/Ustolls and Inceptisols:** Lower averages of 12.1% and 32%, respectively, with similarly high variability, suggesting diverse soil types in different regions.\n",
    "\n",
    "### Key Insights\n",
    "1. **Variability in Production and Yield:** The high variance in production and yield suggests substantial differences in farming practices, crop types, or environmental conditions across regions.\n",
    "2. **Temperature and Humidity:** The average temperature and humidity are conducive to tropical or subtropical crops, with generally warm and humid conditions.\n",
    "3. **Area and Scale:** With wide-ranging area values, the data likely encompasses both small-scale and large-scale agricultural regions.\n",
    "4. **Soil Diversity:** The diversity in soil types and moisture content indicates the dataset covers a variety of agro-ecological zones."
   ]
  },
  {
   "cell_type": "code",
   "execution_count": 11,
   "id": "0ac614e5-9844-4c41-aa5b-90e1aeea9b94",
   "metadata": {
    "colab": {
     "base_uri": "https://localhost:8080/"
    },
    "executionInfo": {
     "elapsed": 585,
     "status": "ok",
     "timestamp": 1731131318122,
     "user": {
      "displayName": "Jit Nandi",
      "userId": "16297485024333300602"
     },
     "user_tz": -330
    },
    "id": "0ac614e5-9844-4c41-aa5b-90e1aeea9b94",
    "outputId": "f7545961-0c96-47eb-8254-faf11971b40f"
   },
   "outputs": [
    {
     "data": {
      "text/plain": [
       "Index(['1997', '1998', '1999', '2000', '2001', '2002', '2003', '2005', '2006',\n",
       "       '2007', '2008', '2004', '2016', '2017', '2018', '2009', '2010', '2011',\n",
       "       '2012', '2013', '2014', '2015', '2019'],\n",
       "      dtype='object', name='year')"
      ]
     },
     "execution_count": 11,
     "metadata": {},
     "output_type": "execute_result"
    }
   ],
   "source": [
    "crop_data.index.unique()"
   ]
  },
  {
   "cell_type": "markdown",
   "id": "c2452802-00f8-46c1-a8af-e97f21c9baaf",
   "metadata": {
    "id": "c2452802-00f8-46c1-a8af-e97f21c9baaf"
   },
   "source": [
    "The range of years in this dataset is 1997 to 2019. There is 22 years of data of different regions and different crops"
   ]
  },
  {
   "cell_type": "code",
   "execution_count": 12,
   "id": "cec4a25e-0f4f-4e11-b09b-428e2ac1ad88",
   "metadata": {
    "executionInfo": {
     "elapsed": 581,
     "status": "ok",
     "timestamp": 1731131321796,
     "user": {
      "displayName": "Jit Nandi",
      "userId": "16297485024333300602"
     },
     "user_tz": -330
    },
    "id": "cec4a25e-0f4f-4e11-b09b-428e2ac1ad88"
   },
   "outputs": [],
   "source": [
    "#Extracting the numerical features from the data\n",
    "numerical_columns = ['area','production','yield','mean_temperature','mean_relative_humidity',\n",
    "                     'max_temperature','soil_temperature','min_temperature'\n",
    "                     ,'soil_moisture','wind_speed','rain_sum','orthids','udupts/udalfs','ustalf/ustolls','inceptisols']"
   ]
  },
  {
   "cell_type": "code",
   "execution_count": 13,
   "id": "d110cf99-8106-4cbd-8f4a-c8f178ba75ad",
   "metadata": {
    "colab": {
     "base_uri": "https://localhost:8080/",
     "height": 657
    },
    "executionInfo": {
     "elapsed": 835,
     "status": "ok",
     "timestamp": 1731131324733,
     "user": {
      "displayName": "Jit Nandi",
      "userId": "16297485024333300602"
     },
     "user_tz": -330
    },
    "id": "d110cf99-8106-4cbd-8f4a-c8f178ba75ad",
    "outputId": "24aa3fda-c04d-4021-b9d6-28678722d69a"
   },
   "outputs": [
    {
     "data": {
      "image/png": "[encoded data removed]",
      "text/plain": [
       "<Figure size 2000x1000 with 3 Axes>"
      ]
     },
     "metadata": {},
     "output_type": "display_data"
    }
   ],
   "source": [
    "# Distribution of the columns 'area', 'production' and 'yield'\n",
    "fig, axes = plt.subplots(2, 2, figsize=(20, 10))\n",
    "axes[0,0].hist(crop_data['area'])\n",
    "axes[0,0].set_title(\"Distribution of Area\")\n",
    "axes[0,1].hist(crop_data['production'])\n",
    "axes[0,1].set_title(\"Distribution of Production\")\n",
    "axes[1,0].hist(crop_data['yield'])\n",
    "axes[1,0].set_title(\"Distribution of Yield\")\n",
    "fig.delaxes(axes[1, 1])\n",
    "plt.show()"
   ]
  },
  {
   "cell_type": "markdown",
   "id": "a0c7e51e-2d4f-4af5-9bc7-8fd9124f88df",
   "metadata": {
    "id": "a0c7e51e-2d4f-4af5-9bc7-8fd9124f88df"
   },
   "source": [
    "1. **Area Distribution**:\n",
    "   - The histogram for area shows a strong skew to the right, where the majority of values are clustered near zero with a few very large values extending out to the right.\n",
    "   - This suggests that most data points represent small areas, but there are a few data points with exceptionally large areas.\n",
    "   - This could indicate a mix of small and large-scale farms or regions in the dataset.\n",
    "\n",
    "2. **Production Distribution**:\n",
    "   - Similar to the area distribution, production values are highly skewed with most values concentrated near zero and a few very large production values.\n",
    "   - This likely reflects that a majority of the data points have lower production values, while a few data points represent highly productive regions or farms.\n",
    "   - The presence of outliers or extreme values can heavily influence the mean production.\n",
    "\n",
    "3. **Yield Distribution**:\n",
    "   - Yield also shows a right-skewed distribution, though the range of values varies up to around 40,000 units.\n",
    "   - Most of the data points fall within lower yield values, with a few extreme values pushing the distribution to the right.\n",
    "   - This suggests that while typical yields are relatively low, there are outliers representing very high yields.\n",
    "\n",
    "### Overall Insights\n",
    "- The heavy skew in each of these distributions suggests that the dataset includes a wide range of farm or region sizes and productivity levels, with a few very large, high-yielding outliers.\n",
    "- These skewed distributions indicate that median values might better represent the central tendency for analysis rather than the mean, which could be influenced by the extreme values.\n",
    "- Data transformations or removing outliers may help in visualizing and analyzing these distributions more effectively."
   ]
  },
  {
   "cell_type": "code",
   "execution_count": 14,
   "id": "00e04c9a-c9ec-4bd6-809a-57b703a43c1b",
   "metadata": {
    "executionInfo": {
     "elapsed": 674,
     "status": "ok",
     "timestamp": 1731131333719,
     "user": {
      "displayName": "Jit Nandi",
      "userId": "16297485024333300602"
     },
     "user_tz": -330
    },
    "id": "00e04c9a-c9ec-4bd6-809a-57b703a43c1b"
   },
   "outputs": [],
   "source": [
    "crop_data.rename(columns={'soil_noisture':'soil_moisture'},inplace=True)"
   ]
  },
  {
   "cell_type": "code",
   "execution_count": null,
   "id": "b9cc087d-9bf8-40a3-bb3f-5ad3b14e6fb4",
   "metadata": {
    "colab": {
     "base_uri": "https://localhost:8080/",
     "height": 1000
    },
    "executionInfo": {
     "elapsed": 9933,
     "status": "ok",
     "timestamp": 1731131345640,
     "user": {
      "displayName": "Jit Nandi",
      "userId": "16297485024333300602"
     },
     "user_tz": -330
    },
    "id": "b9cc087d-9bf8-40a3-bb3f-5ad3b14e6fb4",
    "outputId": "863ab3a0-6f6c-4ae8-d111-0b51311efc31"
   },
   "outputs": [],
   "source": [
    "#distribution of the weather parameters\n",
    "fig, axes = plt.subplots(4, 2, figsize=(20, 27))\n",
    "axes_flat = axes.flatten()\n",
    "\n",
    "for idx, column in enumerate(numerical_columns[3:-4]):\n",
    "    sns.histplot(data=crop_data, x=column, kde=True, ax=axes_flat[idx],hue='season')\n",
    "    axes_flat[idx].set_title(f'Distribution of {column}')\n",
    "\n",
    "#plt.tight_layout()\n",
    "plt.show()"
   ]
  },
  {
   "cell_type": "markdown",
   "id": "651e44ab-245b-425f-9ab9-69b3a425d63d",
   "metadata": {
    "id": "651e44ab-245b-425f-9ab9-69b3a425d63d"
   },
   "source": [
    "1. **Mean Temperature**:\n",
    "   - Winter and Monsoon seasons have lower mean temperatures (peaks around 20°C), while Summer and Autumn show higher temperatures.\n",
    "   - Whole Year data covers a broader range, with peaks around 25°C.\n",
    "\n",
    "2. **Mean Relative Humidity**:\n",
    "   - Monsoon season has high humidity levels (peaking around 80–90%), as expected.\n",
    "   - Winter and Summer have lower humidity, with Winter around 60–70%.\n",
    "   - Whole Year data has a bimodal distribution, covering both humid and dry periods.\n",
    "\n",
    "3. **Max Temperature**:\n",
    "   - Summer has the highest max temperatures, peaking around 35°C.\n",
    "   - Winter shows much lower max temperatures, generally below 30°C.\n",
    "   - Monsoon has moderate max temperatures, indicating cooler conditions than summer.\n",
    "\n",
    "4. **Soil Temperature**:\n",
    "   - Similar trends as max temperature, with summer showing the highest soil temperatures (20–30°C).\n",
    "   - Winter soil temperatures are lower, indicating seasonal soil cooling.\n",
    "\n",
    "5. **Min Temperature**:\n",
    "   - Winter shows the lowest minimum temperatures, with a peak around 10–15°C.\n",
    "   - Summer and Monsoon have higher minimum temperatures, reflecting warmer nights.\n",
    "\n",
    "6. **Soil Moisture**:\n",
    "   - Monsoon has the highest soil moisture levels (peaking around 0.4), likely due to rainfall.\n",
    "   - Winter and Whole Year distributions are lower, indicating drier conditions outside of the monsoon season.\n",
    "\n",
    "7. **Wind Speed**:\n",
    "   - Whole Year data peaks around 10–12 units, with noticeable seasonal variations.\n",
    "   - Summer and Monsoon show a wider spread, possibly indicating more variability in wind conditions.\n",
    "\n",
    "8. **Rain Sum**:\n",
    "   - Monsoon season dominates with higher rainfall (peaks around 5–10), while other seasons show minimal rainfall.\n",
    "   - The Whole Year data indicates that the majority of rainfall occurs during the Monsoon.\n",
    "\n",
    "These insights provide an understanding of how environmental factors vary seasonally, with expected patterns like higher temperatures and lower humidity in summer, and increased rainfall and soil moisture during the monsoon."
   ]
  },
  {
   "cell_type": "code",
   "execution_count": null,
   "id": "52e5422a-70a1-4c02-96f3-198d51c3975c",
   "metadata": {
    "colab": {
     "base_uri": "https://localhost:8080/",
     "height": 520
    },
    "executionInfo": {
     "elapsed": 540,
     "status": "ok",
     "timestamp": 1731131354262,
     "user": {
      "displayName": "Jit Nandi",
      "userId": "16297485024333300602"
     },
     "user_tz": -330
    },
    "id": "52e5422a-70a1-4c02-96f3-198d51c3975c",
    "outputId": "ad1447ae-862d-4ef8-ece0-757229b96a2a"
   },
   "outputs": [],
   "source": [
    "skewness = crop_data[numerical_columns].skew()\n",
    "kurtosis = crop_data[numerical_columns].kurt()\n",
    "\n",
    "results = {\n",
    "    'skewness':skewness,\n",
    "    'kurtosis':kurtosis\n",
    "}\n",
    "\n",
    "skew_kurt = pd.DataFrame(results)\n",
    "skew_kurt"
   ]
  },
  {
   "cell_type": "markdown",
   "id": "aae222da-1242-4082-9c5d-e634f746d519",
   "metadata": {
    "id": "aae222da-1242-4082-9c5d-e634f746d519"
   },
   "source": [
    "1. **Area**:\n",
    "   - **Skewness**: 34.79 (very high positive skew), indicating most values are small, with a few very large outliers.\n",
    "   - **Kurtosis**: 1576.74 (extremely high kurtosis), showing a heavy-tailed distribution. This suggests there are significant outliers in the dataset with some extreme values far from the mean.\n",
    "\n",
    "2. **Production**:\n",
    "   - **Skewness**: 9.26 (high positive skew), implying most values are low with a few high values.\n",
    "   - **Kurtosis**: 93.58 (high kurtosis), indicating a strong peak and many extreme outliers, though less than area.\n",
    "\n",
    "3. **Yield**:\n",
    "   - **Skewness**: 5.88 (positive skew), showing that the yield data is also right-skewed, with more lower values and some high outliers.\n",
    "   - **Kurtosis**: 36.71, indicating a heavy-tailed distribution with outliers.\n",
    "\n",
    "4. **Mean Temperature**:\n",
    "   - **Skewness**: -1.49 (negative skew), suggesting the distribution leans towards higher values, with fewer extremely low temperatures.\n",
    "   - **Kurtosis**: 3.63, indicating a moderate peak, close to a normal distribution but slightly heavy-tailed.\n",
    "\n",
    "5. **Mean Relative Humidity**:\n",
    "   - **Skewness**: 0.17 (close to zero), suggesting a near-symmetric distribution.\n",
    "   - **Kurtosis**: -0.91, which is platykurtic (flatter than a normal distribution), meaning values are more evenly spread without extreme peaks.\n",
    "\n",
    "6. **Max Temperature**:\n",
    "   - **Skewness**: -1.93 (moderate negative skew), indicating that maximum temperatures are skewed toward higher values.\n",
    "   - **Kurtosis**: 5.82, which is leptokurtic (higher peak), suggesting more frequent values near the mean and potential extreme values on the lower side.\n",
    "\n",
    "7. **Soil Temperature**:\n",
    "   - **Skewness**: -1.53 (negative skew), with a distribution leaning towards higher values.\n",
    "   - **Kurtosis**: 4.03, indicating a relatively peaked distribution with more central values and fewer outliers.\n",
    "\n",
    "8. **Min Temperature**:\n",
    "   - **Skewness**: -0.77 (slight negative skew), showing a small lean toward higher minimum temperatures.\n",
    "   - **Kurtosis**: 0.95, close to normal, suggesting a balanced distribution without extreme peaks.\n",
    "\n",
    "9. **Soil Moisture**:\n",
    "   - **Skewness**: 0.31 (slight positive skew), nearly symmetric with a small tendency towards higher values.\n",
    "   - **Kurtosis**: -1.20, which is platykurtic, indicating a flatter distribution with fewer outliers.\n",
    "\n",
    "10. **Wind Speed**:\n",
    "   - **Skewness**: 0.12 (almost zero), indicating a nearly symmetric distribution.\n",
    "   - **Kurtosis**: 1.02, close to normal, implying a balanced distribution without extreme peaks.\n",
    "\n",
    "11. **Rain Sum**:\n",
    "   - **Skewness**: 1.55 (positive skew), meaning the distribution is skewed towards lower rain values with some high outliers.\n",
    "   - **Kurtosis**: 2.68, slightly higher than normal, suggesting a moderate peak with some potential outliers.\n",
    "\n",
    "12. **Orthids, Udupts/Udalfs, Ustalf/Ustolls, and Inceptisols** (soil types):\n",
    "   - **Orthids**: Skewness of 0.81 and kurtosis of -1.23, indicating a slight positive skew with a flat, spread-out distribution.\n",
    "   - **Udupts/Udalfs**: Skewness of 1.04 and kurtosis of -0.41, showing a positive skew with a distribution slightly flatter than normal.\n",
    "   - **Ustalf/Ustolls**: High skewness of 2.27 and kurtosis of 4.01, indicating a strong positive skew with many low values and some large outliers.\n",
    "   - **Inceptisols**: Skewness of 0.71 and kurtosis of -1.28, meaning a slight positive skew with a flatter distribution.\n",
    "\n",
    "### Key Insights:\n",
    "- **Positive Skewness** in variables like **area**, **production**, **yield**, **rain sum**, and **Ustalf/Ustolls** indicates that these variables have lower typical values but contain significant outliers.\n",
    "- **Negative Skewness** in **temperature-related features** (mean, max, min, soil temperature) suggests these variables tend to have higher values with fewer low outliers.\n",
    "- **High Kurtosis** in **area**, **production**, and **yield** suggests extreme values or outliers, while **low kurtosis** in **mean relative humidity** and **soil moisture** indicates a flatter distribution.\n",
    "- **Symmetry** in **wind speed** and **mean relative humidity** suggests a more balanced distribution without extreme values on either side."
   ]
  },
  {
   "cell_type": "code",
   "execution_count": null,
   "id": "1f119514-c14c-49fc-b187-1afbef90aecd",
   "metadata": {
    "colab": {
     "base_uri": "https://localhost:8080/",
     "height": 1000
    },
    "executionInfo": {
     "elapsed": 3724,
     "status": "ok",
     "timestamp": 1731131364405,
     "user": {
      "displayName": "Jit Nandi",
      "userId": "16297485024333300602"
     },
     "user_tz": -330
    },
    "id": "1f119514-c14c-49fc-b187-1afbef90aecd",
    "outputId": "e8746069-13ad-4a45-a7c8-c199980d2b8d"
   },
   "outputs": [],
   "source": [
    "#Box plots of all numerical features\n",
    "fig, axes = plt.subplots(6, 2, figsize=(20, 25))\n",
    "axes_flat = axes.flatten()\n",
    "\n",
    "for idx, column in enumerate(numerical_columns[:-4]):\n",
    "    sns.boxplot(data=crop_data, x=column, ax=axes_flat[idx])\n",
    "    axes_flat[idx].set_title(f'Distribution of {column}')\n",
    "\n",
    "fig.delaxes(axes_flat[11])\n",
    "\n",
    "plt.tight_layout()\n",
    "plt.show()"
   ]
  },
  {
   "cell_type": "markdown",
   "id": "2707410d-ebcc-4878-be76-cfffcbedefbf",
   "metadata": {
    "id": "2707410d-ebcc-4878-be76-cfffcbedefbf"
   },
   "source": [
    "These box plots illustrate the distribution and spread of various features in the dataset. Many of the variables, such as **area**, **production**, **yield**, **mean and max temperatures**, **rain sum**, and **wind speed**, show a significant number of data points that appear as outliers. However, these outliers represent actual variations in real-world conditions and should be considered valid values rather than anomalies. Since these values are genuine observations rather than data entry errors or extreme statistical anomalies, no outlier handling or removal is necessary. This reflects the natural variability in agricultural and environmental conditions."
   ]
  },
  {
   "cell_type": "code",
   "execution_count": null,
   "id": "ea3b5d9a-12aa-4697-8636-59cd96bbc786",
   "metadata": {
    "colab": {
     "base_uri": "https://localhost:8080/",
     "height": 1000
    },
    "executionInfo": {
     "elapsed": 4122,
     "status": "ok",
     "timestamp": 1731131372079,
     "user": {
      "displayName": "Jit Nandi",
      "userId": "16297485024333300602"
     },
     "user_tz": -330
    },
    "id": "ea3b5d9a-12aa-4697-8636-59cd96bbc786",
    "outputId": "6427d8ff-6794-4efe-c4c5-ae14b3c1469d"
   },
   "outputs": [],
   "source": [
    "fig, axes = plt.subplots(4, 1, figsize=(20, 20))\n",
    "axes_flat = axes.flatten()\n",
    "\n",
    "for idx, column in enumerate(numerical_columns[-4:]):\n",
    "    sns.countplot(data=crop_data, x=column, ax=axes_flat[idx],hue='district',palette='tab20')\n",
    "    axes_flat[idx].set_title(f'Distribution of {column}')\n",
    "    axes_flat[idx].legend_.remove()\n",
    "\n",
    "handles, labels = axes_flat[0].get_legend_handles_labels()\n",
    "fig.legend(handles, labels, loc='upper right', title='District', bbox_to_anchor=(1.05, 0.5), bbox_transform=plt.gcf().transFigure)\n",
    "\n",
    "\n",
    "#plt.tight_layout()\n",
    "plt.show()"
   ]
  },
  {
   "cell_type": "code",
   "execution_count": null,
   "id": "9740e97d-635d-4afa-a048-7e34ca8feda8",
   "metadata": {
    "colab": {
     "base_uri": "https://localhost:8080/"
    },
    "executionInfo": {
     "elapsed": 548,
     "status": "ok",
     "timestamp": 1731131376065,
     "user": {
      "displayName": "Jit Nandi",
      "userId": "16297485024333300602"
     },
     "user_tz": -330
    },
    "id": "9740e97d-635d-4afa-a048-7e34ca8feda8",
    "outputId": "3a7597bd-9e0d-4738-e9c0-f8ce4040ddfb"
   },
   "outputs": [],
   "source": [
    "crop_data['district'].unique()"
   ]
  },
  {
   "cell_type": "markdown",
   "id": "b79315c7-2011-4aeb-acdd-2d40ea511fce",
   "metadata": {
    "id": "b79315c7-2011-4aeb-acdd-2d40ea511fce"
   },
   "source": [
    "There are total 19 different districts of West Bengal in the dataset"
   ]
  },
  {
   "cell_type": "code",
   "execution_count": null,
   "id": "880d3301-c274-49d1-8125-b9927c65888d",
   "metadata": {
    "colab": {
     "base_uri": "https://localhost:8080/",
     "height": 272
    },
    "executionInfo": {
     "elapsed": 519,
     "status": "ok",
     "timestamp": 1731131379263,
     "user": {
      "displayName": "Jit Nandi",
      "userId": "16297485024333300602"
     },
     "user_tz": -330
    },
    "id": "880d3301-c274-49d1-8125-b9927c65888d",
    "outputId": "b4fd2d3e-4e43-4d86-c3b8-46d414e17a0e"
   },
   "outputs": [],
   "source": [
    "crop_data['season'].value_counts()"
   ]
  },
  {
   "cell_type": "markdown",
   "id": "08d740cb-38e5-42eb-a806-c4b509021d99",
   "metadata": {
    "id": "08d740cb-38e5-42eb-a806-c4b509021d99"
   },
   "source": [
    "There are total 5 different seasons in the data according to the seasons of different crop production. Here the season whole year represents the season when some crops can be produced in all seasons."
   ]
  },
  {
   "cell_type": "code",
   "execution_count": null,
   "id": "0fbf1c35-45b7-4b5c-ae1b-5b6735ed5924",
   "metadata": {
    "colab": {
     "base_uri": "https://localhost:8080/"
    },
    "executionInfo": {
     "elapsed": 514,
     "status": "ok",
     "timestamp": 1731131383718,
     "user": {
      "displayName": "Jit Nandi",
      "userId": "16297485024333300602"
     },
     "user_tz": -330
    },
    "id": "0fbf1c35-45b7-4b5c-ae1b-5b6735ed5924",
    "outputId": "39565691-81fc-4d88-e925-4e03a9054db6"
   },
   "outputs": [],
   "source": [
    "crop_data['crop'].unique()"
   ]
  },
  {
   "cell_type": "markdown",
   "id": "940a0f4b-6a90-4d00-8617-5e69d5031472",
   "metadata": {
    "id": "940a0f4b-6a90-4d00-8617-5e69d5031472"
   },
   "source": [
    "## Time Based Analysis"
   ]
  },
  {
   "cell_type": "code",
   "execution_count": null,
   "id": "1a47cf73-50e3-4209-97a9-622e1ae873af",
   "metadata": {
    "executionInfo": {
     "elapsed": 2,
     "status": "ok",
     "timestamp": 1731131385919,
     "user": {
      "displayName": "Jit Nandi",
      "userId": "16297485024333300602"
     },
     "user_tz": -330
    },
    "id": "1a47cf73-50e3-4209-97a9-622e1ae873af"
   },
   "outputs": [],
   "source": [
    "crops_count = crop_data['crop'].value_counts()"
   ]
  },
  {
   "cell_type": "code",
   "execution_count": null,
   "id": "685f9630-2817-4070-a22d-faa7b1be4450",
   "metadata": {
    "colab": {
     "base_uri": "https://localhost:8080/"
    },
    "executionInfo": {
     "elapsed": 531,
     "status": "ok",
     "timestamp": 1731131388230,
     "user": {
      "displayName": "Jit Nandi",
      "userId": "16297485024333300602"
     },
     "user_tz": -330
    },
    "id": "685f9630-2817-4070-a22d-faa7b1be4450",
    "outputId": "516cf76c-5653-4e54-8bbb-fd20cef7de18"
   },
   "outputs": [],
   "source": [
    "crops_count.head(15).index"
   ]
  },
  {
   "cell_type": "code",
   "execution_count": null,
   "id": "3a1fabc5-845d-4119-bb62-99177ca072d4",
   "metadata": {
    "colab": {
     "base_uri": "https://localhost:8080/",
     "height": 1000
    },
    "executionInfo": {
     "elapsed": 21985,
     "status": "ok",
     "timestamp": 1731131411863,
     "user": {
      "displayName": "Jit Nandi",
      "userId": "16297485024333300602"
     },
     "user_tz": -330
    },
    "id": "3a1fabc5-845d-4119-bb62-99177ca072d4",
    "outputId": "8134eeb3-ef00-45eb-a46a-254e71130b14"
   },
   "outputs": [],
   "source": [
    "fig, axes = plt.subplots(10, 2, figsize=(25, 43))\n",
    "axes_flat = axes.flatten()\n",
    "for idx, crop in enumerate(crops_count.head(20).index):\n",
    "    sns.lineplot(data=crop_data[crop_data['crop']==crop],x=crop_data[crop_data['crop'] == crop].index\n",
    "                 ,y='production',ax=axes_flat[idx])\n",
    "    axes_flat[idx].set_title(f'Variation of production over the years of {crop}')\n",
    "\n",
    "plt.tight_layout()\n",
    "plt.show()"
   ]
  },
  {
   "cell_type": "code",
   "execution_count": null,
   "id": "adeef11a-a974-45b5-9eb4-fc5a3d2c7d23",
   "metadata": {
    "colab": {
     "base_uri": "https://localhost:8080/",
     "height": 1000
    },
    "executionInfo": {
     "elapsed": 62757,
     "status": "ok",
     "timestamp": 1731131485698,
     "user": {
      "displayName": "Jit Nandi",
      "userId": "16297485024333300602"
     },
     "user_tz": -330
    },
    "id": "adeef11a-a974-45b5-9eb4-fc5a3d2c7d23",
    "outputId": "daffc6db-19f1-4f54-a24c-a4cecac0de07"
   },
   "outputs": [],
   "source": [
    "#Variation of mean_temperature on different districts\n",
    "fig, axes = plt.subplots(10, 2, figsize=(25, 43))\n",
    "axes_flat = axes.flatten()\n",
    "for idx, district in enumerate(crop_data['district'].unique()):\n",
    "    sns.lineplot(data=crop_data[crop_data['district']==district],x=crop_data[crop_data['district'] == district].index\n",
    "                 ,y='mean_temperature',ax=axes_flat[idx],hue='season')\n",
    "    axes_flat[idx].set_title(f'Variation of mean temperature over the years in {district}')\n",
    "\n",
    "fig.delaxes(axes_flat[19])\n",
    "plt.tight_layout()\n",
    "plt.show()"
   ]
  },
  {
   "cell_type": "code",
   "execution_count": null,
   "id": "1d1b2bbe-5c69-4671-94f5-83f9e7b2c3fc",
   "metadata": {
    "id": "1d1b2bbe-5c69-4671-94f5-83f9e7b2c3fc"
   },
   "outputs": [],
   "source": [
    "fig, axes = plt.subplots(10, 2, figsize=(25, 43))\n",
    "axes_flat = axes.flatten()\n",
    "for idx, district in enumerate(crop_data['district'].unique()):\n",
    "    sns.lineplot(data=crop_data[crop_data['district']==district],x=crop_data[crop_data['district'] == district].index\n",
    "                 ,y='max_temperature',ax=axes_flat[idx],hue='season')\n",
    "    axes_flat[idx].set_title(f'Variation of max temperature over the years in {district}')\n",
    "\n",
    "fig.delaxes(axes_flat[19])\n",
    "plt.tight_layout()\n",
    "plt.show()"
   ]
  },
  {
   "cell_type": "code",
   "execution_count": null,
   "id": "bdb2f1e6-e12d-497e-b996-bee5e0bc614d",
   "metadata": {
    "id": "bdb2f1e6-e12d-497e-b996-bee5e0bc614d",
    "scrolled": true
   },
   "outputs": [],
   "source": [
    "fig, axes = plt.subplots(10, 2, figsize=(25, 43))\n",
    "axes_flat = axes.flatten()\n",
    "for idx, district in enumerate(crop_data['district'].unique()):\n",
    "    sns.lineplot(data=crop_data[crop_data['district']==district],x=crop_data[crop_data['district'] == district].index\n",
    "                 ,y='min_temperature',ax=axes_flat[idx],hue='season')\n",
    "    axes_flat[idx].set_title(f'Variation of min temperature over the years in {district}')\n",
    "\n",
    "fig.delaxes(axes_flat[19])\n",
    "plt.tight_layout()\n",
    "plt.show()"
   ]
  },
  {
   "cell_type": "code",
   "execution_count": null,
   "id": "0ebdd508-b08e-422f-9aa0-6f83121841f4",
   "metadata": {
    "id": "0ebdd508-b08e-422f-9aa0-6f83121841f4",
    "scrolled": true
   },
   "outputs": [],
   "source": [
    "fig, axes = plt.subplots(10, 2, figsize=(25, 43))\n",
    "axes_flat = axes.flatten()\n",
    "for idx, district in enumerate(crop_data['district'].unique()):\n",
    "    sns.lineplot(data=crop_data[crop_data['district']==district],x=crop_data[crop_data['district'] == district].index\n",
    "                 ,y='rain_sum',ax=axes_flat[idx],hue='season')\n",
    "    axes_flat[idx].set_title(f'Variation of rain_sum over the years in {district}')\n",
    "\n",
    "fig.delaxes(axes_flat[19])\n",
    "plt.tight_layout()\n",
    "plt.show()"
   ]
  },
  {
   "cell_type": "code",
   "execution_count": null,
   "id": "3b5281e8-c79b-4a0d-b775-52fd6a407c41",
   "metadata": {
    "id": "3b5281e8-c79b-4a0d-b775-52fd6a407c41",
    "scrolled": true
   },
   "outputs": [],
   "source": [
    "fig, axes = plt.subplots(10, 2, figsize=(25, 43))\n",
    "axes_flat = axes.flatten()\n",
    "for idx, district in enumerate(crop_data['district'].unique()):\n",
    "    sns.lineplot(data=crop_data[crop_data['district']==district],x=crop_data[crop_data['district'] == district].index\n",
    "                 ,y='mean_relative_humidity',ax=axes_flat[idx],hue='season')\n",
    "    axes_flat[idx].set_title(f'Variation of relative humidity over the years in {district}')\n",
    "\n",
    "fig.delaxes(axes_flat[19])\n",
    "plt.tight_layout()\n",
    "plt.show()"
   ]
  },
  {
   "cell_type": "code",
   "execution_count": null,
   "id": "69f0ceac-7d19-4383-b410-2d44328b5097",
   "metadata": {
    "id": "69f0ceac-7d19-4383-b410-2d44328b5097",
    "scrolled": true
   },
   "outputs": [],
   "source": [
    "fig, axes = plt.subplots(10, 2, figsize=(25, 43))\n",
    "axes_flat = axes.flatten()\n",
    "for idx, district in enumerate(crop_data['district'].unique()):\n",
    "    sns.lineplot(data=crop_data[crop_data['district']==district],x=crop_data[crop_data['district'] == district].index\n",
    "                 ,y='soil_moisture',ax=axes_flat[idx],hue='season')\n",
    "    axes_flat[idx].set_title(f'Variation of soil moisture over the years in {district}')\n",
    "\n",
    "fig.delaxes(axes_flat[19])\n",
    "plt.tight_layout()\n",
    "plt.show()"
   ]
  },
  {
   "cell_type": "code",
   "execution_count": null,
   "id": "1539d5c4-b164-4708-b030-15b9e843e0a3",
   "metadata": {
    "id": "1539d5c4-b164-4708-b030-15b9e843e0a3"
   },
   "outputs": [],
   "source": [
    "fig, axes = plt.subplots(10, 2, figsize=(25, 43))\n",
    "axes_flat = axes.flatten()\n",
    "for idx, district in enumerate(crop_data['district'].unique()):\n",
    "    sns.lineplot(data=crop_data[crop_data['district']==district],x=crop_data[crop_data['district'] == district].index\n",
    "                 ,y='soil_temperature',ax=axes_flat[idx],hue='season')\n",
    "    axes_flat[idx].set_title(f'Variation of soil temperature over the years in {district}')\n",
    "\n",
    "fig.delaxes(axes_flat[19])\n",
    "plt.tight_layout()\n",
    "plt.show()"
   ]
  },
  {
   "cell_type": "code",
   "execution_count": null,
   "id": "f0e3e420-8ce3-4927-bd44-bc55726d5046",
   "metadata": {
    "id": "f0e3e420-8ce3-4927-bd44-bc55726d5046",
    "scrolled": true
   },
   "outputs": [],
   "source": [
    "fig, axes = plt.subplots(10, 2, figsize=(25, 43))\n",
    "axes_flat = axes.flatten()\n",
    "for idx, district in enumerate(crop_data['district'].unique()):\n",
    "    sns.lineplot(data=crop_data[crop_data['district']==district],x=crop_data[crop_data['district'] == district].index\n",
    "                 ,y='wind_speed',ax=axes_flat[idx],hue='season')\n",
    "    axes_flat[idx].set_title(f'Variation of wind speed over the years in {district}')\n",
    "\n",
    "fig.delaxes(axes_flat[19])\n",
    "plt.tight_layout()\n",
    "plt.show()"
   ]
  },
  {
   "cell_type": "code",
   "execution_count": null,
   "id": "0a31b028-b5a0-45bb-a62b-52930cd41501",
   "metadata": {
    "id": "0a31b028-b5a0-45bb-a62b-52930cd41501",
    "outputId": "e489ff34-8424-4be8-f82c-b6618e682284"
   },
   "outputs": [],
   "source": [
    "px.scatter(crop_data,x='area',y='production',color='crop')"
   ]
  },
  {
   "cell_type": "code",
   "execution_count": null,
   "id": "79aae001-f65b-41a9-ad92-31f08dbeaa64",
   "metadata": {
    "id": "79aae001-f65b-41a9-ad92-31f08dbeaa64",
    "outputId": "abd16422-5ecd-4c66-c91d-9edec50c6bb8"
   },
   "outputs": [],
   "source": [
    "px.scatter(crop_data,x='mean_temperature',y='production',color='crop')"
   ]
  },
  {
   "cell_type": "code",
   "execution_count": null,
   "id": "0738001f-668b-4f75-bf0e-53eb001ad6e4",
   "metadata": {
    "id": "0738001f-668b-4f75-bf0e-53eb001ad6e4",
    "outputId": "86d0e517-71d4-43bf-8ae1-409bdbe450ff"
   },
   "outputs": [],
   "source": [
    "px.scatter(crop_data,x='max_temperature',y='production',color='crop')"
   ]
  },
  {
   "cell_type": "code",
   "execution_count": null,
   "id": "616a9b3b-3247-4ec7-bdce-7d93463bd3a7",
   "metadata": {
    "id": "616a9b3b-3247-4ec7-bdce-7d93463bd3a7",
    "outputId": "9f4fd24e-9930-4fac-be9c-d335e33e4504"
   },
   "outputs": [],
   "source": [
    "px.scatter(crop_data,x='min_temperature',y='production',color='crop')"
   ]
  },
  {
   "cell_type": "code",
   "execution_count": null,
   "id": "590ca77e-ba01-4278-91c6-929a24de426e",
   "metadata": {
    "id": "590ca77e-ba01-4278-91c6-929a24de426e",
    "outputId": "7ad71aaa-f97d-4459-f445-06ea068e44b7"
   },
   "outputs": [],
   "source": [
    "px.scatter(crop_data,x='mean_relative_humidity',y='production',color='crop')"
   ]
  },
  {
   "cell_type": "code",
   "execution_count": null,
   "id": "bba57f7e-301f-4f2d-8411-a424f3c4d2b0",
   "metadata": {
    "id": "bba57f7e-301f-4f2d-8411-a424f3c4d2b0",
    "outputId": "98d52b90-52a9-41cb-e752-5d67c9e48a60"
   },
   "outputs": [],
   "source": [
    "px.scatter(crop_data,x='wind_speed',y='production',color='crop')"
   ]
  },
  {
   "cell_type": "code",
   "execution_count": null,
   "id": "55949276-9da0-4eaa-819c-5050c6d435c2",
   "metadata": {
    "id": "55949276-9da0-4eaa-819c-5050c6d435c2",
    "outputId": "917b10ef-94af-41af-c06d-fe46d7317080"
   },
   "outputs": [],
   "source": [
    "px.scatter(crop_data,x='rain_sum',y='production',color='crop')"
   ]
  },
  {
   "cell_type": "code",
   "execution_count": null,
   "id": "88d46b1c-f0b5-45f5-a8ee-bf0bf15b6eb7",
   "metadata": {
    "id": "88d46b1c-f0b5-45f5-a8ee-bf0bf15b6eb7",
    "outputId": "d1276fec-15f9-4ae9-c891-937f8ad2992b"
   },
   "outputs": [],
   "source": [
    "px.scatter(crop_data,x='soil_temperature',y='production',color='crop')"
   ]
  },
  {
   "cell_type": "code",
   "execution_count": null,
   "id": "571877eb-08b5-4215-b3f5-0fb9004b2cd0",
   "metadata": {
    "id": "571877eb-08b5-4215-b3f5-0fb9004b2cd0",
    "outputId": "c822a708-86bd-4a95-e999-e1883956bc69"
   },
   "outputs": [],
   "source": [
    "px.scatter(crop_data,x='soil_moisture',y='production',color='crop')"
   ]
  },
  {
   "cell_type": "code",
   "execution_count": null,
   "id": "43478b5c-b149-4b27-a2d5-1d1406d8917f",
   "metadata": {
    "id": "43478b5c-b149-4b27-a2d5-1d1406d8917f"
   },
   "outputs": [],
   "source": [
    "contingency_table = pd.crosstab(crop_data['crop'], crop_data['district'])\n",
    "chi2_stat, p_value, dof, expected = st.chi2_contingency(contingency_table)"
   ]
  },
  {
   "cell_type": "code",
   "execution_count": null,
   "id": "847a019d-b5b6-4c36-aa19-88248f4fb694",
   "metadata": {
    "id": "847a019d-b5b6-4c36-aa19-88248f4fb694",
    "outputId": "d5499b4d-8559-42e1-b5e9-d8c93167ab63"
   },
   "outputs": [],
   "source": [
    "print(\"Chi2_stat:\",chi2_stat)\n",
    "print(\"p_value:\",p_value)"
   ]
  },
  {
   "cell_type": "code",
   "execution_count": null,
   "id": "c2f04bf2-4728-48ca-bddc-865020ce2470",
   "metadata": {
    "id": "c2f04bf2-4728-48ca-bddc-865020ce2470",
    "outputId": "aad3afb5-add7-4b9d-d551-e79171641232"
   },
   "outputs": [],
   "source": [
    "contingency_table = pd.crosstab(crop_data['crop'], crop_data['season'])\n",
    "chi2_stat, p_value, dof, expected = st.chi2_contingency(contingency_table)\n",
    "print(\"Chi2_stat:\",chi2_stat)\n",
    "print(\"p_value:\",p_value)"
   ]
  },
  {
   "cell_type": "code",
   "execution_count": null,
   "id": "20e9d12b-5601-4bb8-bea5-59111c7e61a3",
   "metadata": {
    "id": "20e9d12b-5601-4bb8-bea5-59111c7e61a3",
    "outputId": "fb2d186f-d3db-45df-dbb0-c398e784c3a4"
   },
   "outputs": [],
   "source": [
    "fig = plt.figure(figsize=(14,7))\n",
    "sns.heatmap(crop_data[numerical_columns].corr(),annot=True)"
   ]
  },
  {
   "cell_type": "code",
   "execution_count": null,
   "id": "e70961a0-25e3-4027-a23d-ae4bff55e137",
   "metadata": {
    "id": "e70961a0-25e3-4027-a23d-ae4bff55e137"
   },
   "outputs": [],
   "source": [
    "correlation_df = pd.DataFrame(columns=['crop'])\n",
    "\n",
    "# Calculate correlations for each crop\n",
    "for crop in crop_data['crop'].unique():\n",
    "    # Filter data for specific crop\n",
    "    temp_df = crop_data[crop_data['crop'] == crop]\n",
    "\n",
    "    # Calculate correlations with production\n",
    "    correlations = temp_df[numerical_columns].corr()['production'].drop('production')\n",
    "\n",
    "    # Create a row with crop name and correlation values\n",
    "    row_data = {'crop': crop}\n",
    "    row_data.update(correlations)\n",
    "\n",
    "    # Convert row_data to DataFrame and use pd.concat\n",
    "    row_df = pd.DataFrame([row_data])\n",
    "    correlation_df = pd.concat([correlation_df, row_df], ignore_index=True)\n",
    "\n",
    "# Round the correlation values\n",
    "correlation_df = correlation_df.round(3)\n",
    "\n",
    "# Sort by crop name\n",
    "correlation_df = correlation_df.sort_values('crop').reset_index(drop=True)"
   ]
  },
  {
   "cell_type": "code",
   "execution_count": null,
   "id": "2094abc6-157d-4201-9fae-230233f96153",
   "metadata": {
    "id": "2094abc6-157d-4201-9fae-230233f96153",
    "outputId": "ac7032ca-1afd-4c40-ddf3-c78a4791c764"
   },
   "outputs": [],
   "source": [
    "correlation_df"
   ]
  },
  {
   "cell_type": "code",
   "execution_count": null,
   "id": "11a70931-0c6c-4533-9875-651659a466fa",
   "metadata": {
    "id": "11a70931-0c6c-4533-9875-651659a466fa"
   },
   "outputs": [],
   "source": [
    "crop_data = crop_data[crop_data['crop']!='Coconut']"
   ]
  },
  {
   "cell_type": "code",
   "execution_count": null,
   "id": "a34e027b-edb3-4388-bb78-eab205046b78",
   "metadata": {
    "id": "a34e027b-edb3-4388-bb78-eab205046b78"
   },
   "outputs": [],
   "source": [
    "new_df = pd.get_dummies(crop_data, columns=['crop','season','district'])"
   ]
  },
  {
   "cell_type": "code",
   "execution_count": null,
   "id": "f1a66285-a3eb-4655-9512-666693d4ff02",
   "metadata": {
    "id": "f1a66285-a3eb-4655-9512-666693d4ff02"
   },
   "outputs": [],
   "source": [
    "x = new_df.reset_index().drop(columns=['production','yield', 'year'])\n",
    "y = new_df.reset_index()['production']"
   ]
  },
  {
   "cell_type": "code",
   "execution_count": null,
   "id": "771e2579-233f-4a24-885a-29eaa9506f81",
   "metadata": {
    "id": "771e2579-233f-4a24-885a-29eaa9506f81",
    "outputId": "4f841a34-f0e4-42d2-d0fb-8744094651f5"
   },
   "outputs": [],
   "source": [
    "y"
   ]
  },
  {
   "cell_type": "code",
   "execution_count": null,
   "id": "b9d1ae06-dd2a-499c-8c2f-14f1a1c23076",
   "metadata": {
    "id": "b9d1ae06-dd2a-499c-8c2f-14f1a1c23076"
   },
   "outputs": [],
   "source": [
    "x_train,x_test,y_train,y_test = train_test_split(x,y,test_size = 0.2)"
   ]
  },
  {
   "cell_type": "code",
   "execution_count": null,
   "id": "47567b2a-efa9-4461-ae74-fa0da71bca47",
   "metadata": {
    "id": "47567b2a-efa9-4461-ae74-fa0da71bca47",
    "outputId": "60699502-ffed-489a-c1a5-cccbdef8ca80"
   },
   "outputs": [],
   "source": [
    "print(\"x_train shape: \",x_train.shape)\n",
    "print(\"x_test shape: \",x_test.shape)\n",
    "print(\"y_train shape: \",y_train.shape)\n",
    "print(\"y_test shape: \",y_test.shape)"
   ]
  },
  {
   "cell_type": "code",
   "execution_count": null,
   "id": "1b95f132-e489-4b21-9be2-cfba3be8238a",
   "metadata": {
    "id": "1b95f132-e489-4b21-9be2-cfba3be8238a"
   },
   "outputs": [],
   "source": [
    "x_tra"
   ]
  }
 ],
 "metadata": {
  "colab": {
   "provenance": []
  },
  "kernelspec": {
   "display_name": "Python 3 (ipykernel)",
   "language": "python",
   "name": "python3"
  },
  "language_info": {
   "codemirror_mode": {
    "name": "ipython",
    "version": 3
   },
   "file_extension": ".py",
   "mimetype": "text/x-python",
   "name": "python",
   "nbconvert_exporter": "python",
   "pygments_lexer": "ipython3",
   "version": "3.9.13"
  }
 },
 "nbformat": 4,
 "nbformat_minor": 5
}
