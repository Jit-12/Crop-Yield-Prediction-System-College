{
 "cells": [
  {
   "cell_type": "code",
   "execution_count": 2,
   "id": "bc17abd8",
   "metadata": {},
   "outputs": [],
   "source": [
    "import numpy as np \n",
    "import pandas as pd\n",
    "import os"
   ]
  },
  {
   "cell_type": "code",
   "execution_count": 3,
   "id": "def7c99c",
   "metadata": {},
   "outputs": [],
   "source": [
    "data_path = os.path.join(os.pardir, 'data')"
   ]
  },
  {
   "cell_type": "code",
   "execution_count": 4,
   "id": "bf001122",
   "metadata": {},
   "outputs": [],
   "source": [
    "# State Data Reading\n",
    "state_data_file_path = os.path.join(data_path, 'statecleaneddata.xlsx')\n",
    "\n",
    "state_df = pd.read_excel(state_data_file_path)"
   ]
  },
  {
   "cell_type": "code",
   "execution_count": 15,
   "id": "bf6b644b",
   "metadata": {},
   "outputs": [],
   "source": [
    "# Soil Data Reading\n",
    "soil_data_file_path = os.path.join(data_path, \"soil_type.csv\")\n",
    "\n",
    "soil_df = pd.read_csv(soil_data_file_path)"
   ]
  },
  {
   "cell_type": "code",
   "execution_count": 6,
   "id": "663601ce",
   "metadata": {},
   "outputs": [],
   "source": [
    "# weather Data Reading\n",
    "weather_data_file_path = os.path.join(data_path, \"weather_data_final.xlsx\")\n",
    "\n",
    "weather_df = pd.read_excel(weather_data_file_path)"
   ]
  },
  {
   "cell_type": "code",
   "execution_count": 27,
   "id": "3ba8910c",
   "metadata": {
    "scrolled": true
   },
   "outputs": [],
   "source": [
    "st = list(state_df.District.unique())"
   ]
  },
  {
   "cell_type": "code",
   "execution_count": 19,
   "id": "bdd5aeab",
   "metadata": {},
   "outputs": [],
   "source": [
    "s = list(soil_df.Dist_Name)"
   ]
  },
  {
   "cell_type": "code",
   "execution_count": 18,
   "id": "4024cfb6",
   "metadata": {},
   "outputs": [],
   "source": [
    "w =  list(weather_df.district.unique())"
   ]
  },
  {
   "cell_type": "code",
   "execution_count": 29,
   "id": "2a6b2209",
   "metadata": {},
   "outputs": [
    {
     "name": "stdout",
     "output_type": "stream",
     "text": [
      "Bankura Bankura BANKURA 1\n",
      "Birbhum Birbhum BIRBHUM 2\n",
      "Coochbehar coochbehar COOCHBEHAR 3\n",
      "Darjeeling Darjeeling DARJEELING 4\n",
      "Howrah Howrah HOWRAH 5\n",
      "Jalpaiguri Jalpaiguri JALPAIGURI 6\n",
      "Murshidabad Murshidabad MURSHIDABAD 7\n",
      "Nadia Nadia NADIA 8\n",
      "Purulia Purulia PURULIA 9\n"
     ]
    }
   ],
   "source": [
    "c= 0\n",
    "for i in w:\n",
    "    for j in s:\n",
    "        for k in st:\n",
    "            if i.lower() == j.lower() == k.lower():\n",
    "                c+=1\n",
    "                print(i, j, k, c)\n",
    "                break"
   ]
  },
  {
   "cell_type": "code",
   "execution_count": null,
   "id": "cff1cb27",
   "metadata": {},
   "outputs": [],
   "source": []
  }
 ],
 "metadata": {
  "kernelspec": {
   "display_name": "Python 3 (ipykernel)",
   "language": "python",
   "name": "python3"
  },
  "language_info": {
   "codemirror_mode": {
    "name": "ipython",
    "version": 3
   },
   "file_extension": ".py",
   "mimetype": "text/x-python",
   "name": "python",
   "nbconvert_exporter": "python",
   "pygments_lexer": "ipython3",
   "version": "3.11.4"
  }
 },
 "nbformat": 4,
 "nbformat_minor": 5
}
