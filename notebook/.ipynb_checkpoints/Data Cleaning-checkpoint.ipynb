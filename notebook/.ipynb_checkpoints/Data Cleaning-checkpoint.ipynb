{
 "cells": [
  {
   "cell_type": "code",
   "execution_count": 1,
   "id": "bc17abd8",
   "metadata": {},
   "outputs": [],
   "source": [
    "import numpy as np \n",
    "import pandas as pd\n",
    "import os"
   ]
  },
  {
   "cell_type": "code",
   "execution_count": 2,
   "id": "def7c99c",
   "metadata": {},
   "outputs": [],
   "source": [
    "data_path = os.path.join(os.pardir, 'data')"
   ]
  },
  {
   "cell_type": "code",
   "execution_count": 3,
   "id": "bf001122",
   "metadata": {},
   "outputs": [],
   "source": [
    "# State Data Reading\n",
    "state_data_file_path = os.path.join(data_path, 'statecleaneddata.xlsx')\n",
    "\n",
    "state_df = pd.read_excel(state_data_file_path)\n",
    "\n",
    "# BAsic preprocessing \n",
    "state_df.District = state_df.District.apply(lambda x: x.replace(\"\\n\",\"\"))\n",
    "state_df.District = state_df.District.apply(lambda x: x.lower())\n",
    "state_df.District = state_df.District.apply(lambda x: \"malda\" if x==\"maldah\" else x)"
   ]
  },
  {
   "cell_type": "code",
   "execution_count": 4,
   "id": "bf6b644b",
   "metadata": {},
   "outputs": [],
   "source": [
    "# Soil Data Reading\n",
    "soil_data_file_path = os.path.join(data_path, \"soil_type.csv\")\n",
    "\n",
    "soil_df = pd.read_csv(soil_data_file_path)"
   ]
  },
  {
   "cell_type": "code",
   "execution_count": 5,
   "id": "663601ce",
   "metadata": {},
   "outputs": [],
   "source": [
    "# weather Data Reading\n",
    "weather_data_file_path = os.path.join(data_path, \"weather_data_name_formated_final.csv\")\n",
    "\n",
    "weather_df = pd.read_csv(weather_data_file_path)\n",
    "\n",
    "#BAsic preprocessing \n",
    "weather_df.district = weather_df.district.apply(lambda x: x.lower())"
   ]
  },
  {
   "cell_type": "code",
   "execution_count": 6,
   "id": "ff027d4c",
   "metadata": {},
   "outputs": [
    {
     "data": {
      "text/plain": [
       "(array(['24 paraganas north', '24 paraganas south', 'bankura', 'birbhum',\n",
       "        'coochbehar', 'darjeeling', 'dinajpur dakshin', 'dinajpur uttar',\n",
       "        'hooghly', 'howrah', 'jalpaiguri', 'malda', 'medinipur east',\n",
       "        'medinipur west', 'murshidabad', 'nadia', 'purba bardhaman',\n",
       "        'purulia', 'alipurduar', 'jhargram', 'kalimpong',\n",
       "        'paschim bardhaman'], dtype=object),\n",
       " 22)"
      ]
     },
     "execution_count": 6,
     "metadata": {},
     "output_type": "execute_result"
    }
   ],
   "source": [
    "state_df.District.unique() , len(state_df.District.unique())"
   ]
  },
  {
   "cell_type": "code",
   "execution_count": 7,
   "id": "a7e1534e",
   "metadata": {},
   "outputs": [
    {
     "data": {
      "text/plain": [
       "(array(['alipurduar', 'bankura', 'birbhum', 'coochbehar',\n",
       "        'dinajpur dakshin', 'darjeeling', 'howrah', 'hooghly',\n",
       "        'jalpaiguri', 'jhargram', 'kolkata', 'kalimpong', 'malda',\n",
       "        'murshidabad', 'nadia', '24 paraganas north', 'paschim bardhaman',\n",
       "        'medinipur west', 'purba bardhaman', 'medinipur east', 'purulia',\n",
       "        '24 paraganas south', 'dinajpur uttar'], dtype=object),\n",
       " 23)"
      ]
     },
     "execution_count": 7,
     "metadata": {},
     "output_type": "execute_result"
    }
   ],
   "source": [
    "weather_df.district.unique(), len(weather_df.district.unique())"
   ]
  },
  {
   "cell_type": "code",
   "execution_count": 8,
   "id": "eb6951eb",
   "metadata": {
    "scrolled": true
   },
   "outputs": [
    {
     "data": {
      "text/plain": [
       "(array(['24 Parganas', 'Nadia', 'Murshidabad', 'Bardhaman', 'Birbhum',\n",
       "        'Bankura', 'Hooghly', 'Howrah', 'Jalpaiguri', 'Darjeeling',\n",
       "        'Malda', 'coochbehar', 'Purulia', 'Medinipur', 'Kolkata',\n",
       "        'Dinajpur'], dtype=object),\n",
       " 16)"
      ]
     },
     "execution_count": 8,
     "metadata": {},
     "output_type": "execute_result"
    }
   ],
   "source": [
    "soil_df.Dist_Name.unique() , len(soil_df.Dist_Name.unique())"
   ]
  },
  {
   "cell_type": "code",
   "execution_count": 9,
   "id": "08d73b71",
   "metadata": {},
   "outputs": [
    {
     "data": {
      "text/plain": [
       "(0, 8)"
      ]
     },
     "execution_count": 9,
     "metadata": {},
     "output_type": "execute_result"
    }
   ],
   "source": [
    "state_df[state_df.District == \"kolkata\"].shape"
   ]
  },
  {
   "cell_type": "code",
   "execution_count": null,
   "id": "829990d0",
   "metadata": {},
   "outputs": [],
   "source": []
  },
  {
   "cell_type": "code",
   "execution_count": 10,
   "id": "2a6b2209",
   "metadata": {},
   "outputs": [
    {
     "name": "stdout",
     "output_type": "stream",
     "text": [
      "kolkata\n"
     ]
    }
   ],
   "source": [
    "c= 0\n",
    "for i in list(weather_df.district.unique()):\n",
    "    if i not in list(state_df.District.unique()):\n",
    "        print(i)"
   ]
  },
  {
   "cell_type": "markdown",
   "id": "c4cab145",
   "metadata": {},
   "source": [
    "\n",
    "\n",
    "### not in soil 'alipurduar', 'jhargram', 'kalimpong' and \"kolkata\" in soil and weather but not in state wise table\n",
    "        "
   ]
  },
  {
   "cell_type": "code",
   "execution_count": 11,
   "id": "934e19c1",
   "metadata": {},
   "outputs": [
    {
     "name": "stderr",
     "output_type": "stream",
     "text": [
      "C:\\Users\\Jit Nandi\\AppData\\Local\\Temp\\ipykernel_8700\\292709067.py:2: SettingWithCopyWarning: \n",
      "A value is trying to be set on a copy of a slice from a DataFrame\n",
      "\n",
      "See the caveats in the documentation: https://pandas.pydata.org/pandas-docs/stable/user_guide/indexing.html#returning-a-view-versus-a-copy\n",
      "  n['Dist_Name'] = \"24 paraganas north\"\n"
     ]
    }
   ],
   "source": [
    "n = soil_df.loc[0]\n",
    "n['Dist_Name'] = \"24 paraganas north\"\n",
    "m = n.copy()\n",
    "m[\"Dist_Name\"] = \"24 paraganas south\"\n",
    "# print(m, n)\n",
    "test_soil = pd.concat([soil_df, pd.DataFrame([n])], ignore_index=True)\n",
    "test_soil = pd.concat([test_soil, pd.DataFrame([m])], ignore_index=True)\n",
    "test_soil.Dist_Name = test_soil.Dist_Name.apply(lambda x: x.lower())"
   ]
  },
  {
   "cell_type": "code",
   "execution_count": 12,
   "id": "e950fa5b",
   "metadata": {},
   "outputs": [
    {
     "name": "stderr",
     "output_type": "stream",
     "text": [
      "C:\\Users\\Jit Nandi\\AppData\\Local\\Temp\\ipykernel_8700\\1832651935.py:2: SettingWithCopyWarning: \n",
      "A value is trying to be set on a copy of a slice from a DataFrame\n",
      "\n",
      "See the caveats in the documentation: https://pandas.pydata.org/pandas-docs/stable/user_guide/indexing.html#returning-a-view-versus-a-copy\n",
      "  m[\"Dist_Name\"] = \"dinajpur dakshin\"\n"
     ]
    }
   ],
   "source": [
    "m = test_soil .loc[15]\n",
    "m[\"Dist_Name\"] = \"dinajpur dakshin\"\n",
    "n = m.copy()\n",
    "n[\"Dist_Name\"] = \"dinajpur uttar\"\n",
    "test_soil = pd.concat([test_soil, pd.DataFrame([n])], ignore_index=True)\n",
    "test_soil = pd.concat([test_soil, pd.DataFrame([m])], ignore_index=True)"
   ]
  },
  {
   "cell_type": "code",
   "execution_count": 13,
   "id": "8338ed17",
   "metadata": {},
   "outputs": [
    {
     "name": "stderr",
     "output_type": "stream",
     "text": [
      "C:\\Users\\Jit Nandi\\AppData\\Local\\Temp\\ipykernel_8700\\790790057.py:2: SettingWithCopyWarning: \n",
      "A value is trying to be set on a copy of a slice from a DataFrame\n",
      "\n",
      "See the caveats in the documentation: https://pandas.pydata.org/pandas-docs/stable/user_guide/indexing.html#returning-a-view-versus-a-copy\n",
      "  m[\"Dist_Name\"] = \"medinipur west\"\n"
     ]
    }
   ],
   "source": [
    "m = test_soil.loc[13]\n",
    "m[\"Dist_Name\"] = \"medinipur west\"\n",
    "n = m.copy()\n",
    "n[\"Dist_Name\"] = \"medinipur east\"\n",
    "test_soil = pd.concat([test_soil, pd.DataFrame([n])], ignore_index=True)\n",
    "test_soil = pd.concat([test_soil, pd.DataFrame([m])], ignore_index=True)"
   ]
  },
  {
   "cell_type": "code",
   "execution_count": 14,
   "id": "2ea0a9f6",
   "metadata": {},
   "outputs": [
    {
     "name": "stderr",
     "output_type": "stream",
     "text": [
      "C:\\Users\\Jit Nandi\\AppData\\Local\\Temp\\ipykernel_8700\\4112519807.py:2: SettingWithCopyWarning: \n",
      "A value is trying to be set on a copy of a slice from a DataFrame\n",
      "\n",
      "See the caveats in the documentation: https://pandas.pydata.org/pandas-docs/stable/user_guide/indexing.html#returning-a-view-versus-a-copy\n",
      "  n[\"Dist_Name\"] = \"paschim bardhaman\"\n"
     ]
    }
   ],
   "source": [
    "n = test_soil.loc[3]\n",
    "n[\"Dist_Name\"] = \"paschim bardhaman\"\n",
    "m = n.copy()\n",
    "m[\"Dist_Name\"] = \"purba bardhaman\"\n",
    "test_soil = pd.concat([test_soil, pd.DataFrame([n])], ignore_index=True)\n",
    "test_soil = pd.concat([test_soil, pd.DataFrame([m])], ignore_index=True)"
   ]
  },
  {
   "cell_type": "code",
   "execution_count": 15,
   "id": "999e6e21",
   "metadata": {},
   "outputs": [],
   "source": [
    "# Soil Final df\n",
    "soil_f_df = test_soil.drop([3,13,15,0,14]).reset_index().drop(columns=[\"index\"])"
   ]
  },
  {
   "cell_type": "code",
   "execution_count": 16,
   "id": "703c92a7",
   "metadata": {},
   "outputs": [
    {
     "data": {
      "text/plain": [
       "(array(['nadia', 'murshidabad', 'birbhum', 'bankura', 'hooghly', 'howrah',\n",
       "        'jalpaiguri', 'darjeeling', 'malda', 'coochbehar', 'purulia',\n",
       "        '24 paraganas north', '24 paraganas south', 'dinajpur uttar',\n",
       "        'dinajpur dakshin', 'medinipur east', 'medinipur west',\n",
       "        'paschim bardhaman', 'purba bardhaman'], dtype=object),\n",
       " 19)"
      ]
     },
     "execution_count": 16,
     "metadata": {},
     "output_type": "execute_result"
    }
   ],
   "source": [
    "soil_f_df.Dist_Name.unique() , len(soil_f_df.Dist_Name.unique())"
   ]
  },
  {
   "cell_type": "code",
   "execution_count": 17,
   "id": "771a7ca3",
   "metadata": {},
   "outputs": [
    {
     "name": "stdout",
     "output_type": "stream",
     "text": [
      "alipurduar\n",
      "jhargram\n",
      "kolkata\n",
      "kalimpong\n"
     ]
    }
   ],
   "source": [
    "l = ['alipurduar', 'bankura', 'birbhum', 'coochbehar',\n",
    "        'dinajpur dakshin', 'darjeeling', 'howrah', 'hooghly',\n",
    "        'jalpaiguri', 'jhargram', 'kolkata', 'kalimpong', 'malda',\n",
    "        'murshidabad', 'nadia', '24 paraganas north', 'paschim bardhaman',\n",
    "        'medinipur west', 'purba bardhaman', 'medinipur east', 'purulia',\n",
    "        '24 paraganas south', 'dinajpur uttar']\n",
    "for i in l:\n",
    "    if i not in soil_f_df.Dist_Name.unique():\n",
    "        print(i)"
   ]
  },
  {
   "cell_type": "code",
   "execution_count": 18,
   "id": "b7c5a50b",
   "metadata": {},
   "outputs": [],
   "source": [
    "# State Final Df\n",
    "notreq = ['alipurduar', 'jhargram', 'kalimpong', \"kolkata\"]\n",
    "state_df_f = state_df[(state_df.District!=\"alipurduar\") & (state_df.District!=\"jhargram\") & (state_df.District!=\"kalimpong\")]"
   ]
  },
  {
   "cell_type": "code",
   "execution_count": 19,
   "id": "107c6af2",
   "metadata": {},
   "outputs": [],
   "source": [
    "#state_df.shape[0] - state_df[(state_df.District==\"alipurduar\")].shape[0] - state_df[(state_df.District==\"jhargram\")].shape[0] - state_df[(state_df.District==\"kalimpong\")].shape[0]"
   ]
  },
  {
   "cell_type": "code",
   "execution_count": 20,
   "id": "3be25798",
   "metadata": {},
   "outputs": [
    {
     "data": {
      "text/plain": [
       "(array(['24 paraganas north', '24 paraganas south', 'bankura', 'birbhum',\n",
       "        'coochbehar', 'darjeeling', 'dinajpur dakshin', 'dinajpur uttar',\n",
       "        'hooghly', 'howrah', 'jalpaiguri', 'malda', 'medinipur east',\n",
       "        'medinipur west', 'murshidabad', 'nadia', 'purba bardhaman',\n",
       "        'purulia', 'paschim bardhaman'], dtype=object),\n",
       " 19)"
      ]
     },
     "execution_count": 20,
     "metadata": {},
     "output_type": "execute_result"
    }
   ],
   "source": [
    "state_df_f.District.unique(), len(state_df_f.District.unique())"
   ]
  },
  {
   "cell_type": "code",
   "execution_count": 21,
   "id": "4aec9336",
   "metadata": {},
   "outputs": [],
   "source": [
    "# weather Final df\n",
    "weather_df_f = weather_df[(weather_df.district!=\"alipurduar\") & (weather_df.district!=\"jhargram\") & (weather_df.district!=\"kalimpong\") & (weather_df.district!=\"kolkata\")]"
   ]
  },
  {
   "cell_type": "code",
   "execution_count": 22,
   "id": "194ee674",
   "metadata": {},
   "outputs": [
    {
     "data": {
      "text/plain": [
       "(array(['bankura', 'birbhum', 'coochbehar', 'dinajpur dakshin',\n",
       "        'darjeeling', 'howrah', 'hooghly', 'jalpaiguri', 'malda',\n",
       "        'murshidabad', 'nadia', '24 paraganas north', 'paschim bardhaman',\n",
       "        'medinipur west', 'purba bardhaman', 'medinipur east', 'purulia',\n",
       "        '24 paraganas south', 'dinajpur uttar'], dtype=object),\n",
       " 19)"
      ]
     },
     "execution_count": 22,
     "metadata": {},
     "output_type": "execute_result"
    }
   ],
   "source": [
    "weather_df_f.district.unique(), len(weather_df_f.district.unique())"
   ]
  },
  {
   "cell_type": "code",
   "execution_count": 23,
   "id": "d5afdc31",
   "metadata": {},
   "outputs": [
    {
     "data": {
      "text/plain": [
       "(array(['nadia', 'murshidabad', 'birbhum', 'bankura', 'hooghly', 'howrah',\n",
       "        'jalpaiguri', 'darjeeling', 'malda', 'coochbehar', 'purulia',\n",
       "        '24 paraganas north', '24 paraganas south', 'dinajpur uttar',\n",
       "        'dinajpur dakshin', 'medinipur east', 'medinipur west',\n",
       "        'paschim bardhaman', 'purba bardhaman'], dtype=object),\n",
       " 19)"
      ]
     },
     "execution_count": 23,
     "metadata": {},
     "output_type": "execute_result"
    }
   ],
   "source": [
    "soil_f_df.Dist_Name.unique() , len(soil_f_df.Dist_Name.unique())"
   ]
  },
  {
   "cell_type": "code",
   "execution_count": 24,
   "id": "57a1b990",
   "metadata": {},
   "outputs": [
    {
     "name": "stderr",
     "output_type": "stream",
     "text": [
      "C:\\Users\\Jit Nandi\\AppData\\Local\\Temp\\ipykernel_8700\\995662193.py:1: SettingWithCopyWarning: \n",
      "A value is trying to be set on a copy of a slice from a DataFrame.\n",
      "Try using .loc[row_indexer,col_indexer] = value instead\n",
      "\n",
      "See the caveats in the documentation: https://pandas.pydata.org/pandas-docs/stable/user_guide/indexing.html#returning-a-view-versus-a-copy\n",
      "  state_df_f.Year = state_df_f.Year.apply(lambda x: x.split(\"-\")[0])\n"
     ]
    }
   ],
   "source": [
    "state_df_f.Year = state_df_f.Year.apply(lambda x: x.split(\"-\")[0])"
   ]
  },
  {
   "cell_type": "code",
   "execution_count": 25,
   "id": "064a7327",
   "metadata": {},
   "outputs": [
    {
     "name": "stderr",
     "output_type": "stream",
     "text": [
      "C:\\Users\\Jit Nandi\\AppData\\Local\\Temp\\ipykernel_8700\\1310288294.py:1: SettingWithCopyWarning: \n",
      "A value is trying to be set on a copy of a slice from a DataFrame.\n",
      "Try using .loc[row_indexer,col_indexer] = value instead\n",
      "\n",
      "See the caveats in the documentation: https://pandas.pydata.org/pandas-docs/stable/user_guide/indexing.html#returning-a-view-versus-a-copy\n",
      "  state_df_f.Year = state_df_f.Year.astype(np.int64)\n"
     ]
    }
   ],
   "source": [
    "state_df_f.Year = state_df_f.Year.astype(np.int64)"
   ]
  },
  {
   "cell_type": "code",
   "execution_count": 26,
   "id": "f6f82be9",
   "metadata": {},
   "outputs": [
    {
     "name": "stdout",
     "output_type": "stream",
     "text": [
      "<class 'pandas.core.frame.DataFrame'>\n",
      "Int64Index: 12323 entries, 0 to 12595\n",
      "Data columns (total 8 columns):\n",
      " #   Column                  Non-Null Count  Dtype  \n",
      "---  ------                  --------------  -----  \n",
      " 0   District                12323 non-null  object \n",
      " 1   Year                    12323 non-null  int64  \n",
      " 2   Season                  12323 non-null  object \n",
      " 3   Area (Hectare)          12323 non-null  float64\n",
      " 4   Production (Tonnes)     12307 non-null  float64\n",
      " 5   Yield (Tonnes/Hectare)  12323 non-null  float64\n",
      " 6   Crop                    12323 non-null  object \n",
      " 7   State                   12323 non-null  object \n",
      "dtypes: float64(3), int64(1), object(4)\n",
      "memory usage: 866.5+ KB\n"
     ]
    }
   ],
   "source": [
    "state_df_f.info()"
   ]
  },
  {
   "cell_type": "code",
   "execution_count": 27,
   "id": "b341f5c5",
   "metadata": {},
   "outputs": [
    {
     "name": "stdout",
     "output_type": "stream",
     "text": [
      "<class 'pandas.core.frame.DataFrame'>\n",
      "Int64Index: 494 entries, 26 to 597\n",
      "Data columns (total 35 columns):\n",
      " #   Column                                          Non-Null Count  Dtype  \n",
      "---  ------                                          --------------  -----  \n",
      " 0   MyUnknownColumn                                 494 non-null    int64  \n",
      " 1   year                                            494 non-null    int64  \n",
      " 2   mean_temperature_2m_max (Â°C)_quarter1          494 non-null    float64\n",
      " 3   mean_temperature_2m_max (Â°C)_quarter2          494 non-null    float64\n",
      " 4   mean_temperature_2m_max (Â°C)_quarter3          494 non-null    float64\n",
      " 5   mean_temperature_2m_max (Â°C)_quarter4          494 non-null    float64\n",
      " 6   mean_temperature_2m_min (Â°C)_quarter1          494 non-null    float64\n",
      " 7   mean_temperature_2m_min (Â°C)_quarter2          494 non-null    float64\n",
      " 8   mean_temperature_2m_min (Â°C)_quarter3          494 non-null    float64\n",
      " 9   mean_temperature_2m_min (Â°C)_quarter4          494 non-null    float64\n",
      " 10  mean_temperature_2m_mean (Â°C)_quarter1         494 non-null    float64\n",
      " 11  mean_temperature_2m_mean (Â°C)_quarter2         494 non-null    float64\n",
      " 12  mean_temperature_2m_mean (Â°C)_quarter3         494 non-null    float64\n",
      " 13  mean_temperature_2m_mean (Â°C)_quarter4         494 non-null    float64\n",
      " 14  mean_rain_sum (mm)_quarter1                     494 non-null    float64\n",
      " 15  mean_rain_sum (mm)_quarter2                     494 non-null    float64\n",
      " 16  mean_rain_sum (mm)_quarter3                     494 non-null    float64\n",
      " 17  mean_rain_sum (mm)_quarter4                     494 non-null    float64\n",
      " 18  mean_wind_speed_10m_max (km/h)_quarter1         494 non-null    float64\n",
      " 19  mean_wind_speed_10m_max (km/h)_quarter2         494 non-null    float64\n",
      " 20  mean_wind_speed_10m_max (km/h)_quarter3         494 non-null    float64\n",
      " 21  mean_wind_speed_10m_max (km/h)_quarter4         494 non-null    float64\n",
      " 22  mean_relative_humidity_2m (%)_quarter1          494 non-null    float64\n",
      " 23  mean_relative_humidity_2m (%)_quarter2          494 non-null    float64\n",
      " 24  mean_relative_humidity_2m (%)_quarter3          494 non-null    float64\n",
      " 25  mean_relative_humidity_2m (%)_quarter4          494 non-null    float64\n",
      " 26  mean_soil_temperature_0_to_7cm (Â°C)_quarter1   494 non-null    float64\n",
      " 27  mean_soil_temperature_0_to_7cm (Â°C)_quarter2   494 non-null    float64\n",
      " 28  mean_soil_temperature_0_to_7cm (Â°C)_quarter3   494 non-null    float64\n",
      " 29  mean_soil_temperature_0_to_7cm (Â°C)_quarter4   494 non-null    float64\n",
      " 30  mean_soil_moisture_0_to_7cm (mÂ³/mÂ³)_quarter1  494 non-null    float64\n",
      " 31  mean_soil_moisture_0_to_7cm (mÂ³/mÂ³)_quarter2  494 non-null    float64\n",
      " 32  mean_soil_moisture_0_to_7cm (mÂ³/mÂ³)_quarter3  494 non-null    float64\n",
      " 33  mean_soil_moisture_0_to_7cm (mÂ³/mÂ³)_quarter4  494 non-null    float64\n",
      " 34  district                                        494 non-null    object \n",
      "dtypes: float64(32), int64(2), object(1)\n",
      "memory usage: 138.9+ KB\n"
     ]
    }
   ],
   "source": [
    "weather_df_f.info()"
   ]
  },
  {
   "cell_type": "code",
   "execution_count": 28,
   "id": "78d01b83",
   "metadata": {},
   "outputs": [],
   "source": [
    "soil_f_df.to_csv(os.path.join(data_path,\"Cleaned Data/soil_final.csv\"), index=False)\n",
    "weather_df_f.to_csv(os.path.join(data_path,\"Cleaned Data/weather_final.csv\"), index=False)\n",
    "state_df_f.to_csv(os.path.join(data_path,\"Cleaned Data/state_final.csv\"), index=False)"
   ]
  },
  {
   "cell_type": "markdown",
   "id": "2014a14e",
   "metadata": {},
   "source": [
    "### More cleaning"
   ]
  },
  {
   "cell_type": "code",
   "execution_count": 29,
   "id": "28800b7d",
   "metadata": {},
   "outputs": [],
   "source": [
    "data_path = os.path.join(os.pardir, 'data')"
   ]
  },
  {
   "cell_type": "code",
   "execution_count": 30,
   "id": "1f627e08",
   "metadata": {},
   "outputs": [],
   "source": [
    "weather_path = os.path.join(data_path, \"Cleaned Data/weather_final.csv\")\n",
    "state_path = os.path.join(data_path, \"Cleaned Data/state_final.csv\")\n",
    "soil_path = os.path.join(data_path, \"Cleaned Data/soil_final.csv\")"
   ]
  },
  {
   "cell_type": "code",
   "execution_count": 31,
   "id": "e530a1b6",
   "metadata": {},
   "outputs": [],
   "source": [
    "weather_df = pd.read_csv(weather_path)\n",
    "soil_df = pd.read_csv(soil_path)\n",
    "state_df = pd.read_csv(state_path)"
   ]
  },
  {
   "cell_type": "code",
   "execution_count": 32,
   "id": "76a008f6",
   "metadata": {},
   "outputs": [
    {
     "data": {
      "text/html": [
       "<div>\n",
       "<style scoped>\n",
       "    .dataframe tbody tr th:only-of-type {\n",
       "        vertical-align: middle;\n",
       "    }\n",
       "\n",
       "    .dataframe tbody tr th {\n",
       "        vertical-align: top;\n",
       "    }\n",
       "\n",
       "    .dataframe thead th {\n",
       "        text-align: right;\n",
       "    }\n",
       "</style>\n",
       "<table border=\"1\" class=\"dataframe\">\n",
       "  <thead>\n",
       "    <tr style=\"text-align: right;\">\n",
       "      <th></th>\n",
       "      <th>MyUnknownColumn</th>\n",
       "      <th>year</th>\n",
       "      <th>mean_temperature_2m_max (Â°C)_quarter1</th>\n",
       "      <th>mean_temperature_2m_max (Â°C)_quarter2</th>\n",
       "      <th>mean_temperature_2m_max (Â°C)_quarter3</th>\n",
       "      <th>mean_temperature_2m_max (Â°C)_quarter4</th>\n",
       "      <th>mean_temperature_2m_min (Â°C)_quarter1</th>\n",
       "      <th>mean_temperature_2m_min (Â°C)_quarter2</th>\n",
       "      <th>mean_temperature_2m_min (Â°C)_quarter3</th>\n",
       "      <th>mean_temperature_2m_min (Â°C)_quarter4</th>\n",
       "      <th>...</th>\n",
       "      <th>mean_relative_humidity_2m (%)_quarter4</th>\n",
       "      <th>mean_soil_temperature_0_to_7cm (Â°C)_quarter1</th>\n",
       "      <th>mean_soil_temperature_0_to_7cm (Â°C)_quarter2</th>\n",
       "      <th>mean_soil_temperature_0_to_7cm (Â°C)_quarter3</th>\n",
       "      <th>mean_soil_temperature_0_to_7cm (Â°C)_quarter4</th>\n",
       "      <th>mean_soil_moisture_0_to_7cm (mÂ³/mÂ³)_quarter1</th>\n",
       "      <th>mean_soil_moisture_0_to_7cm (mÂ³/mÂ³)_quarter2</th>\n",
       "      <th>mean_soil_moisture_0_to_7cm (mÂ³/mÂ³)_quarter3</th>\n",
       "      <th>mean_soil_moisture_0_to_7cm (mÂ³/mÂ³)_quarter4</th>\n",
       "      <th>district</th>\n",
       "    </tr>\n",
       "  </thead>\n",
       "  <tbody>\n",
       "    <tr>\n",
       "      <th>0</th>\n",
       "      <td>26</td>\n",
       "      <td>1997</td>\n",
       "      <td>27.692222</td>\n",
       "      <td>35.532967</td>\n",
       "      <td>30.806522</td>\n",
       "      <td>26.753261</td>\n",
       "      <td>14.720000</td>\n",
       "      <td>24.739560</td>\n",
       "      <td>25.019565</td>\n",
       "      <td>17.669565</td>\n",
       "      <td>...</td>\n",
       "      <td>74.187047</td>\n",
       "      <td>22.796667</td>\n",
       "      <td>31.159936</td>\n",
       "      <td>28.240806</td>\n",
       "      <td>23.325996</td>\n",
       "      <td>0.164023</td>\n",
       "      <td>0.244372</td>\n",
       "      <td>0.406305</td>\n",
       "      <td>0.228455</td>\n",
       "      <td>bankura</td>\n",
       "    </tr>\n",
       "    <tr>\n",
       "      <th>1</th>\n",
       "      <td>27</td>\n",
       "      <td>1998</td>\n",
       "      <td>26.311111</td>\n",
       "      <td>35.886813</td>\n",
       "      <td>31.044565</td>\n",
       "      <td>27.726087</td>\n",
       "      <td>14.845556</td>\n",
       "      <td>26.016484</td>\n",
       "      <td>25.446739</td>\n",
       "      <td>18.366304</td>\n",
       "      <td>...</td>\n",
       "      <td>75.163949</td>\n",
       "      <td>21.731343</td>\n",
       "      <td>31.921154</td>\n",
       "      <td>28.591757</td>\n",
       "      <td>23.504212</td>\n",
       "      <td>0.203876</td>\n",
       "      <td>0.231366</td>\n",
       "      <td>0.385119</td>\n",
       "      <td>0.262968</td>\n",
       "      <td>bankura</td>\n",
       "    </tr>\n",
       "    <tr>\n",
       "      <th>2</th>\n",
       "      <td>28</td>\n",
       "      <td>1999</td>\n",
       "      <td>29.563333</td>\n",
       "      <td>35.451648</td>\n",
       "      <td>30.559783</td>\n",
       "      <td>27.706522</td>\n",
       "      <td>15.500000</td>\n",
       "      <td>25.739560</td>\n",
       "      <td>24.854348</td>\n",
       "      <td>17.365217</td>\n",
       "      <td>...</td>\n",
       "      <td>69.871830</td>\n",
       "      <td>24.405278</td>\n",
       "      <td>32.262683</td>\n",
       "      <td>28.069384</td>\n",
       "      <td>23.421467</td>\n",
       "      <td>0.128999</td>\n",
       "      <td>0.253662</td>\n",
       "      <td>0.401690</td>\n",
       "      <td>0.217343</td>\n",
       "      <td>bankura</td>\n",
       "    </tr>\n",
       "    <tr>\n",
       "      <th>3</th>\n",
       "      <td>29</td>\n",
       "      <td>2000</td>\n",
       "      <td>27.580220</td>\n",
       "      <td>35.308791</td>\n",
       "      <td>30.818478</td>\n",
       "      <td>27.865217</td>\n",
       "      <td>14.937363</td>\n",
       "      <td>25.737363</td>\n",
       "      <td>24.939130</td>\n",
       "      <td>16.744565</td>\n",
       "      <td>...</td>\n",
       "      <td>69.249547</td>\n",
       "      <td>22.872665</td>\n",
       "      <td>31.832875</td>\n",
       "      <td>28.257428</td>\n",
       "      <td>22.977899</td>\n",
       "      <td>0.165985</td>\n",
       "      <td>0.255802</td>\n",
       "      <td>0.378654</td>\n",
       "      <td>0.209894</td>\n",
       "      <td>bankura</td>\n",
       "    </tr>\n",
       "    <tr>\n",
       "      <th>4</th>\n",
       "      <td>30</td>\n",
       "      <td>2001</td>\n",
       "      <td>28.521111</td>\n",
       "      <td>33.765934</td>\n",
       "      <td>30.711957</td>\n",
       "      <td>27.615217</td>\n",
       "      <td>14.386667</td>\n",
       "      <td>24.603297</td>\n",
       "      <td>24.946739</td>\n",
       "      <td>17.841304</td>\n",
       "      <td>...</td>\n",
       "      <td>73.384964</td>\n",
       "      <td>23.378426</td>\n",
       "      <td>30.137408</td>\n",
       "      <td>28.083605</td>\n",
       "      <td>23.487908</td>\n",
       "      <td>0.133446</td>\n",
       "      <td>0.295354</td>\n",
       "      <td>0.393462</td>\n",
       "      <td>0.230607</td>\n",
       "      <td>bankura</td>\n",
       "    </tr>\n",
       "  </tbody>\n",
       "</table>\n",
       "<p>5 rows × 35 columns</p>\n",
       "</div>"
      ],
      "text/plain": [
       "   MyUnknownColumn  year  mean_temperature_2m_max (Â°C)_quarter1  \\\n",
       "0               26  1997                               27.692222   \n",
       "1               27  1998                               26.311111   \n",
       "2               28  1999                               29.563333   \n",
       "3               29  2000                               27.580220   \n",
       "4               30  2001                               28.521111   \n",
       "\n",
       "   mean_temperature_2m_max (Â°C)_quarter2  \\\n",
       "0                               35.532967   \n",
       "1                               35.886813   \n",
       "2                               35.451648   \n",
       "3                               35.308791   \n",
       "4                               33.765934   \n",
       "\n",
       "   mean_temperature_2m_max (Â°C)_quarter3  \\\n",
       "0                               30.806522   \n",
       "1                               31.044565   \n",
       "2                               30.559783   \n",
       "3                               30.818478   \n",
       "4                               30.711957   \n",
       "\n",
       "   mean_temperature_2m_max (Â°C)_quarter4  \\\n",
       "0                               26.753261   \n",
       "1                               27.726087   \n",
       "2                               27.706522   \n",
       "3                               27.865217   \n",
       "4                               27.615217   \n",
       "\n",
       "   mean_temperature_2m_min (Â°C)_quarter1  \\\n",
       "0                               14.720000   \n",
       "1                               14.845556   \n",
       "2                               15.500000   \n",
       "3                               14.937363   \n",
       "4                               14.386667   \n",
       "\n",
       "   mean_temperature_2m_min (Â°C)_quarter2  \\\n",
       "0                               24.739560   \n",
       "1                               26.016484   \n",
       "2                               25.739560   \n",
       "3                               25.737363   \n",
       "4                               24.603297   \n",
       "\n",
       "   mean_temperature_2m_min (Â°C)_quarter3  \\\n",
       "0                               25.019565   \n",
       "1                               25.446739   \n",
       "2                               24.854348   \n",
       "3                               24.939130   \n",
       "4                               24.946739   \n",
       "\n",
       "   mean_temperature_2m_min (Â°C)_quarter4  ...  \\\n",
       "0                               17.669565  ...   \n",
       "1                               18.366304  ...   \n",
       "2                               17.365217  ...   \n",
       "3                               16.744565  ...   \n",
       "4                               17.841304  ...   \n",
       "\n",
       "   mean_relative_humidity_2m (%)_quarter4  \\\n",
       "0                               74.187047   \n",
       "1                               75.163949   \n",
       "2                               69.871830   \n",
       "3                               69.249547   \n",
       "4                               73.384964   \n",
       "\n",
       "   mean_soil_temperature_0_to_7cm (Â°C)_quarter1  \\\n",
       "0                                      22.796667   \n",
       "1                                      21.731343   \n",
       "2                                      24.405278   \n",
       "3                                      22.872665   \n",
       "4                                      23.378426   \n",
       "\n",
       "   mean_soil_temperature_0_to_7cm (Â°C)_quarter2  \\\n",
       "0                                      31.159936   \n",
       "1                                      31.921154   \n",
       "2                                      32.262683   \n",
       "3                                      31.832875   \n",
       "4                                      30.137408   \n",
       "\n",
       "   mean_soil_temperature_0_to_7cm (Â°C)_quarter3  \\\n",
       "0                                      28.240806   \n",
       "1                                      28.591757   \n",
       "2                                      28.069384   \n",
       "3                                      28.257428   \n",
       "4                                      28.083605   \n",
       "\n",
       "   mean_soil_temperature_0_to_7cm (Â°C)_quarter4  \\\n",
       "0                                      23.325996   \n",
       "1                                      23.504212   \n",
       "2                                      23.421467   \n",
       "3                                      22.977899   \n",
       "4                                      23.487908   \n",
       "\n",
       "   mean_soil_moisture_0_to_7cm (mÂ³/mÂ³)_quarter1  \\\n",
       "0                                        0.164023   \n",
       "1                                        0.203876   \n",
       "2                                        0.128999   \n",
       "3                                        0.165985   \n",
       "4                                        0.133446   \n",
       "\n",
       "   mean_soil_moisture_0_to_7cm (mÂ³/mÂ³)_quarter2  \\\n",
       "0                                        0.244372   \n",
       "1                                        0.231366   \n",
       "2                                        0.253662   \n",
       "3                                        0.255802   \n",
       "4                                        0.295354   \n",
       "\n",
       "   mean_soil_moisture_0_to_7cm (mÂ³/mÂ³)_quarter3  \\\n",
       "0                                        0.406305   \n",
       "1                                        0.385119   \n",
       "2                                        0.401690   \n",
       "3                                        0.378654   \n",
       "4                                        0.393462   \n",
       "\n",
       "   mean_soil_moisture_0_to_7cm (mÂ³/mÂ³)_quarter4  district  \n",
       "0                                        0.228455   bankura  \n",
       "1                                        0.262968   bankura  \n",
       "2                                        0.217343   bankura  \n",
       "3                                        0.209894   bankura  \n",
       "4                                        0.230607   bankura  \n",
       "\n",
       "[5 rows x 35 columns]"
      ]
     },
     "execution_count": 32,
     "metadata": {},
     "output_type": "execute_result"
    }
   ],
   "source": [
    "weather_df.head()"
   ]
  },
  {
   "cell_type": "code",
   "execution_count": 33,
   "id": "341392a1",
   "metadata": {},
   "outputs": [],
   "source": [
    "weather_df.drop(columns=['MyUnknownColumn'],inplace=True)"
   ]
  },
  {
   "cell_type": "code",
   "execution_count": 34,
   "id": "cf2fcd38",
   "metadata": {},
   "outputs": [
    {
     "data": {
      "text/html": [
       "<div>\n",
       "<style scoped>\n",
       "    .dataframe tbody tr th:only-of-type {\n",
       "        vertical-align: middle;\n",
       "    }\n",
       "\n",
       "    .dataframe tbody tr th {\n",
       "        vertical-align: top;\n",
       "    }\n",
       "\n",
       "    .dataframe thead th {\n",
       "        text-align: right;\n",
       "    }\n",
       "</style>\n",
       "<table border=\"1\" class=\"dataframe\">\n",
       "  <thead>\n",
       "    <tr style=\"text-align: right;\">\n",
       "      <th></th>\n",
       "      <th>District</th>\n",
       "      <th>Year</th>\n",
       "      <th>Season</th>\n",
       "      <th>Area (Hectare)</th>\n",
       "      <th>Production (Tonnes)</th>\n",
       "      <th>Yield (Tonnes/Hectare)</th>\n",
       "      <th>Crop</th>\n",
       "      <th>State</th>\n",
       "    </tr>\n",
       "  </thead>\n",
       "  <tbody>\n",
       "    <tr>\n",
       "      <th>12318</th>\n",
       "      <td>purulia</td>\n",
       "      <td>2015</td>\n",
       "      <td>Rabi</td>\n",
       "      <td>855.0</td>\n",
       "      <td>1241.0</td>\n",
       "      <td>1.451462</td>\n",
       "      <td>Wheat</td>\n",
       "      <td>West Bengal</td>\n",
       "    </tr>\n",
       "    <tr>\n",
       "      <th>12319</th>\n",
       "      <td>purulia</td>\n",
       "      <td>2016</td>\n",
       "      <td>Rabi</td>\n",
       "      <td>1366.0</td>\n",
       "      <td>2415.0</td>\n",
       "      <td>1.767936</td>\n",
       "      <td>Wheat</td>\n",
       "      <td>West Bengal</td>\n",
       "    </tr>\n",
       "    <tr>\n",
       "      <th>12320</th>\n",
       "      <td>purulia</td>\n",
       "      <td>2017</td>\n",
       "      <td>Rabi</td>\n",
       "      <td>1052.0</td>\n",
       "      <td>2145.0</td>\n",
       "      <td>2.038973</td>\n",
       "      <td>Wheat</td>\n",
       "      <td>West Bengal</td>\n",
       "    </tr>\n",
       "    <tr>\n",
       "      <th>12321</th>\n",
       "      <td>purulia</td>\n",
       "      <td>2018</td>\n",
       "      <td>Rabi</td>\n",
       "      <td>833.0</td>\n",
       "      <td>2114.0</td>\n",
       "      <td>2.537815</td>\n",
       "      <td>Wheat</td>\n",
       "      <td>West Bengal</td>\n",
       "    </tr>\n",
       "    <tr>\n",
       "      <th>12322</th>\n",
       "      <td>purulia</td>\n",
       "      <td>2019</td>\n",
       "      <td>Rabi</td>\n",
       "      <td>516.0</td>\n",
       "      <td>931.0</td>\n",
       "      <td>1.804264</td>\n",
       "      <td>Wheat</td>\n",
       "      <td>West Bengal</td>\n",
       "    </tr>\n",
       "  </tbody>\n",
       "</table>\n",
       "</div>"
      ],
      "text/plain": [
       "      District  Year       Season  Area (Hectare)  Production (Tonnes)  \\\n",
       "12318  purulia  2015  Rabi                  855.0               1241.0   \n",
       "12319  purulia  2016  Rabi                 1366.0               2415.0   \n",
       "12320  purulia  2017  Rabi                 1052.0               2145.0   \n",
       "12321  purulia  2018  Rabi                  833.0               2114.0   \n",
       "12322  purulia  2019  Rabi                  516.0                931.0   \n",
       "\n",
       "       Yield (Tonnes/Hectare)   Crop        State  \n",
       "12318                1.451462  Wheat  West Bengal  \n",
       "12319                1.767936  Wheat  West Bengal  \n",
       "12320                2.038973  Wheat  West Bengal  \n",
       "12321                2.537815  Wheat  West Bengal  \n",
       "12322                1.804264  Wheat  West Bengal  "
      ]
     },
     "execution_count": 34,
     "metadata": {},
     "output_type": "execute_result"
    }
   ],
   "source": [
    "state_df.tail()"
   ]
  },
  {
   "cell_type": "code",
   "execution_count": 35,
   "id": "82cda812",
   "metadata": {},
   "outputs": [],
   "source": [
    "state_df.rename(columns={\"District\":'district', 'Year':'year'},inplace=True)"
   ]
  },
  {
   "cell_type": "code",
   "execution_count": 36,
   "id": "90cfde8d",
   "metadata": {},
   "outputs": [],
   "source": [
    "# weather_df.columns"
   ]
  },
  {
   "cell_type": "code",
   "execution_count": 37,
   "id": "38d460f5",
   "metadata": {},
   "outputs": [],
   "source": [
    "state_df.Season = state_df.Season.apply(lambda x: x.strip())"
   ]
  },
  {
   "cell_type": "code",
   "execution_count": 38,
   "id": "3ce9dd1c",
   "metadata": {},
   "outputs": [],
   "source": [
    "state_df.Crop = state_df.Crop.apply(lambda x:  \"Oilseeds\" if x==\"Oilseeds total\" else x)"
   ]
  },
  {
   "cell_type": "code",
   "execution_count": 39,
   "id": "2fe425ca",
   "metadata": {},
   "outputs": [
    {
     "data": {
      "text/plain": [
       "(12323, 8)"
      ]
     },
     "execution_count": 39,
     "metadata": {},
     "output_type": "execute_result"
    }
   ],
   "source": [
    "state_df.shape"
   ]
  },
  {
   "cell_type": "code",
   "execution_count": 40,
   "id": "97c3486c",
   "metadata": {},
   "outputs": [],
   "source": [
    "merged_df = pd.merge(state_df, weather_df , on=['district', 'year'])"
   ]
  },
  {
   "cell_type": "code",
   "execution_count": 41,
   "id": "5aabebc0",
   "metadata": {},
   "outputs": [
    {
     "data": {
      "text/plain": [
       "(12323, 40)"
      ]
     },
     "execution_count": 41,
     "metadata": {},
     "output_type": "execute_result"
    }
   ],
   "source": [
    "merged_df.shape"
   ]
  },
  {
   "cell_type": "code",
   "execution_count": 42,
   "id": "f7275717",
   "metadata": {},
   "outputs": [
    {
     "data": {
      "text/plain": [
       "array(['Whole Year', 'Rabi', 'Kharif', 'Summer', 'Autumn', 'Winter'],\n",
       "      dtype=object)"
      ]
     },
     "execution_count": 42,
     "metadata": {},
     "output_type": "execute_result"
    }
   ],
   "source": [
    "merged_df.Season.unique()"
   ]
  },
  {
   "cell_type": "code",
   "execution_count": 43,
   "id": "33d6a440",
   "metadata": {},
   "outputs": [],
   "source": [
    "merged_df.Season = merged_df.Season.apply(lambda x:  \"Winter\" if x==\"Rabi\" else x)"
   ]
  },
  {
   "cell_type": "code",
   "execution_count": 44,
   "id": "d3f0b706",
   "metadata": {},
   "outputs": [],
   "source": [
    "merged_df.Season = merged_df.Season.apply(lambda x:  \"Monsoon\" if x==\"Kharif\" else x)"
   ]
  },
  {
   "cell_type": "code",
   "execution_count": null,
   "id": "cefea75c",
   "metadata": {},
   "outputs": [],
   "source": [
    "# winter - Q4 - Q1\n",
    "# monsoon - Q3 \n",
    "# Whole Year: Q1 to Q4\n",
    "# Summer: Q2 (April - June)\n",
    "# Autumn: (1/3)Q3 + (2/3)Q4"
   ]
  },
  {
   "cell_type": "code",
   "execution_count": 293,
   "id": "bf31dd2d",
   "metadata": {},
   "outputs": [
    {
     "data": {
      "text/plain": [
       "Index(['district', 'year', 'Season', 'Area (Hectare)', 'Production (Tonnes)',\n",
       "       'Yield (Tonnes/Hectare)', 'Crop', 'State',\n",
       "       'mean_temperature_2m_max (Â°C)_quarter1',\n",
       "       'mean_temperature_2m_max (Â°C)_quarter2',\n",
       "       'mean_temperature_2m_max (Â°C)_quarter3',\n",
       "       'mean_temperature_2m_max (Â°C)_quarter4',\n",
       "       'mean_temperature_2m_min (Â°C)_quarter1',\n",
       "       'mean_temperature_2m_min (Â°C)_quarter2',\n",
       "       'mean_temperature_2m_min (Â°C)_quarter3',\n",
       "       'mean_temperature_2m_min (Â°C)_quarter4',\n",
       "       'mean_temperature_2m_mean (Â°C)_quarter1',\n",
       "       'mean_temperature_2m_mean (Â°C)_quarter2',\n",
       "       'mean_temperature_2m_mean (Â°C)_quarter3',\n",
       "       'mean_temperature_2m_mean (Â°C)_quarter4',\n",
       "       'mean_rain_sum (mm)_quarter1', 'mean_rain_sum (mm)_quarter2',\n",
       "       'mean_rain_sum (mm)_quarter3', 'mean_rain_sum (mm)_quarter4',\n",
       "       'mean_wind_speed_10m_max (km/h)_quarter1',\n",
       "       'mean_wind_speed_10m_max (km/h)_quarter2',\n",
       "       'mean_wind_speed_10m_max (km/h)_quarter3',\n",
       "       'mean_wind_speed_10m_max (km/h)_quarter4',\n",
       "       'mean_relative_humidity_2m (%)_quarter1',\n",
       "       'mean_relative_humidity_2m (%)_quarter2',\n",
       "       'mean_relative_humidity_2m (%)_quarter3',\n",
       "       'mean_relative_humidity_2m (%)_quarter4',\n",
       "       'mean_soil_temperature_0_to_7cm (Â°C)_quarter1',\n",
       "       'mean_soil_temperature_0_to_7cm (Â°C)_quarter2',\n",
       "       'mean_soil_temperature_0_to_7cm (Â°C)_quarter3',\n",
       "       'mean_soil_temperature_0_to_7cm (Â°C)_quarter4',\n",
       "       'mean_soil_moisture_0_to_7cm (mÂ³/mÂ³)_quarter1',\n",
       "       'mean_soil_moisture_0_to_7cm (mÂ³/mÂ³)_quarter2',\n",
       "       'mean_soil_moisture_0_to_7cm (mÂ³/mÂ³)_quarter3',\n",
       "       'mean_soil_moisture_0_to_7cm (mÂ³/mÂ³)_quarter4'],\n",
       "      dtype='object')"
      ]
     },
     "execution_count": 293,
     "metadata": {},
     "output_type": "execute_result"
    }
   ],
   "source": [
    "merged_df.columns"
   ]
  },
  {
   "cell_type": "code",
   "execution_count": 291,
   "id": "7dca8144",
   "metadata": {},
   "outputs": [],
   "source": [
    "# d = {\"mean_temperature_2m_max (Â°C)\":[], \"mean_temperature_2m_min (Â°C)\":[],\n",
    "#     \"mean_temperature_2m_mean (Â°C)\":[], \"mean_rain_sum (mm)\":[],\n",
    "#     \"mean_wind_speed_10m_max (km/h)\":[], \"mean_relative_humidity_2m (%)\":[], \n",
    "#     \"mean_soil_temperature_0_to_7cm (Â°C)\":[], \"mean_soil_moisture_0_to_7cm (mÂ³/mÂ³)\":[]}"
   ]
  },
  {
   "cell_type": "code",
   "execution_count": 295,
   "id": "5a195f9e",
   "metadata": {},
   "outputs": [],
   "source": [
    "quarter_columns = [col for col in merged_df.columns if 'quarter' in col]\n",
    "# quarter_columns"
   ]
  },
  {
   "cell_type": "code",
   "execution_count": null,
   "id": "1e30b5af",
   "metadata": {},
   "outputs": [],
   "source": [
    "import pandas as pd\n",
    "\n",
    "# Example dataframe setup\n",
    "# Assume `df` is your dataset with columns as you described\n",
    "\n",
    "# Identifying all columns that include quarterly data\n",
    "quarter_columns = [col for col in merged_df.columns if 'quarter' in col]\n",
    "\n",
    "# Applying transformations for each seasonal aggregation\n",
    "s  = set(col.split('_quarter')[0] for col in quarter_columns):\n",
    "    "
   ]
  },
  {
   "cell_type": "code",
   "execution_count": 46,
   "id": "83da9309",
   "metadata": {},
   "outputs": [],
   "source": [
    "import pandas as pd\n",
    "\n",
    "# Define the function to calculate seasonal averages\n",
    "def calculate_seasonal_value(row, column):\n",
    "    # Extract quarterly columns for the given column\n",
    "    q1 = row[f\"{column}_quarter1\"]\n",
    "    q2 = row[f\"{column}_quarter2\"]\n",
    "    q3 = row[f\"{column}_quarter3\"]\n",
    "    q4 = row[f\"{column}_quarter4\"]\n",
    "    \n",
    "    # Apply seasonal calculations based on the 'Season' column\n",
    "    if row['Season'] == 'Winter':\n",
    "        return (q1 + q4) / 2\n",
    "    elif row['Season'] == 'Monsoon':\n",
    "        return q3\n",
    "    elif row['Season'] == 'Whole Year':\n",
    "        return (q1 + q2 + q3 + q4) / 4\n",
    "    elif row['Season'] == 'Summer':\n",
    "        return q2\n",
    "    elif row['Season'] == 'Autumn':\n",
    "        return (1/3 * q3) + (2/3 * q4)\n",
    "    else:\n",
    "        return None  # or np.nan if you prefer\n",
    "\n",
    "# Apply transformation across relevant columns\n",
    "def apply_seasonal_transformation(df):\n",
    "    # Identify columns that contain \"quarter\" in their name and are eligible for seasonal averaging\n",
    "    quarterly_columns = [col.split('_quarter')[0] for col in df.columns if '_quarter' in col]\n",
    "    quarterly_columns = list(set(quarterly_columns))  # Unique base names\n",
    "\n",
    "    # Iterate through each base column\n",
    "    for col in quarterly_columns:\n",
    "        # Create a new column with the seasonal values based on the \"Season\" column\n",
    "        df[f'{col}_seasonal'] = df.apply(lambda row: calculate_seasonal_value(row, col), axis=1)\n",
    "        \n",
    "    return df\n",
    "\n",
    "# Example usage:\n",
    "# Assuming 'df' is your dataframe with the quarterly data and 'Season' column\n",
    "df = apply_seasonal_transformation(merged_df)\n",
    "\n",
    "# Display the first few rows to confirm transformations"
   ]
  },
  {
   "cell_type": "code",
   "execution_count": 47,
   "id": "006562e1",
   "metadata": {},
   "outputs": [
    {
     "data": {
      "text/html": [
       "<div>\n",
       "<style scoped>\n",
       "    .dataframe tbody tr th:only-of-type {\n",
       "        vertical-align: middle;\n",
       "    }\n",
       "\n",
       "    .dataframe tbody tr th {\n",
       "        vertical-align: top;\n",
       "    }\n",
       "\n",
       "    .dataframe thead th {\n",
       "        text-align: right;\n",
       "    }\n",
       "</style>\n",
       "<table border=\"1\" class=\"dataframe\">\n",
       "  <thead>\n",
       "    <tr style=\"text-align: right;\">\n",
       "      <th></th>\n",
       "      <th>district</th>\n",
       "      <th>year</th>\n",
       "      <th>Season</th>\n",
       "      <th>Area (Hectare)</th>\n",
       "      <th>Production (Tonnes)</th>\n",
       "      <th>Yield (Tonnes/Hectare)</th>\n",
       "      <th>Crop</th>\n",
       "      <th>State</th>\n",
       "      <th>mean_temperature_2m_max (Â°C)_quarter1</th>\n",
       "      <th>mean_temperature_2m_max (Â°C)_quarter2</th>\n",
       "      <th>...</th>\n",
       "      <th>mean_soil_moisture_0_to_7cm (mÂ³/mÂ³)_quarter3</th>\n",
       "      <th>mean_soil_moisture_0_to_7cm (mÂ³/mÂ³)_quarter4</th>\n",
       "      <th>mean_temperature_2m_mean (Â°C)_seasonal</th>\n",
       "      <th>mean_relative_humidity_2m (%)_seasonal</th>\n",
       "      <th>mean_temperature_2m_max (Â°C)_seasonal</th>\n",
       "      <th>mean_soil_temperature_0_to_7cm (Â°C)_seasonal</th>\n",
       "      <th>mean_temperature_2m_min (Â°C)_seasonal</th>\n",
       "      <th>mean_soil_moisture_0_to_7cm (mÂ³/mÂ³)_seasonal</th>\n",
       "      <th>mean_wind_speed_10m_max (km/h)_seasonal</th>\n",
       "      <th>mean_rain_sum (mm)_seasonal</th>\n",
       "    </tr>\n",
       "  </thead>\n",
       "  <tbody>\n",
       "    <tr>\n",
       "      <th>0</th>\n",
       "      <td>24 paraganas north</td>\n",
       "      <td>1997</td>\n",
       "      <td>Whole Year</td>\n",
       "      <td>1345.0</td>\n",
       "      <td>1274.0</td>\n",
       "      <td>0.947212</td>\n",
       "      <td>Arecanut</td>\n",
       "      <td>West Bengal</td>\n",
       "      <td>28.011111</td>\n",
       "      <td>32.915385</td>\n",
       "      <td>...</td>\n",
       "      <td>0.41026</td>\n",
       "      <td>0.209229</td>\n",
       "      <td>25.332407</td>\n",
       "      <td>77.510488</td>\n",
       "      <td>29.934613</td>\n",
       "      <td>26.727149</td>\n",
       "      <td>21.621957</td>\n",
       "      <td>0.282786</td>\n",
       "      <td>12.339231</td>\n",
       "      <td>5.097360</td>\n",
       "    </tr>\n",
       "    <tr>\n",
       "      <th>1</th>\n",
       "      <td>24 paraganas north</td>\n",
       "      <td>1997</td>\n",
       "      <td>Whole Year</td>\n",
       "      <td>45.0</td>\n",
       "      <td>40.0</td>\n",
       "      <td>0.888889</td>\n",
       "      <td>Arhar/Tur</td>\n",
       "      <td>West Bengal</td>\n",
       "      <td>28.011111</td>\n",
       "      <td>32.915385</td>\n",
       "      <td>...</td>\n",
       "      <td>0.41026</td>\n",
       "      <td>0.209229</td>\n",
       "      <td>25.332407</td>\n",
       "      <td>77.510488</td>\n",
       "      <td>29.934613</td>\n",
       "      <td>26.727149</td>\n",
       "      <td>21.621957</td>\n",
       "      <td>0.282786</td>\n",
       "      <td>12.339231</td>\n",
       "      <td>5.097360</td>\n",
       "    </tr>\n",
       "    <tr>\n",
       "      <th>2</th>\n",
       "      <td>24 paraganas north</td>\n",
       "      <td>1997</td>\n",
       "      <td>Whole Year</td>\n",
       "      <td>2975.0</td>\n",
       "      <td>40162500.0</td>\n",
       "      <td>13500.000000</td>\n",
       "      <td>Coconut</td>\n",
       "      <td>West Bengal</td>\n",
       "      <td>28.011111</td>\n",
       "      <td>32.915385</td>\n",
       "      <td>...</td>\n",
       "      <td>0.41026</td>\n",
       "      <td>0.209229</td>\n",
       "      <td>25.332407</td>\n",
       "      <td>77.510488</td>\n",
       "      <td>29.934613</td>\n",
       "      <td>26.727149</td>\n",
       "      <td>21.621957</td>\n",
       "      <td>0.282786</td>\n",
       "      <td>12.339231</td>\n",
       "      <td>5.097360</td>\n",
       "    </tr>\n",
       "    <tr>\n",
       "      <th>3</th>\n",
       "      <td>24 paraganas north</td>\n",
       "      <td>1997</td>\n",
       "      <td>Whole Year</td>\n",
       "      <td>3916.0</td>\n",
       "      <td>7706.0</td>\n",
       "      <td>1.967824</td>\n",
       "      <td>Dry chillies</td>\n",
       "      <td>West Bengal</td>\n",
       "      <td>28.011111</td>\n",
       "      <td>32.915385</td>\n",
       "      <td>...</td>\n",
       "      <td>0.41026</td>\n",
       "      <td>0.209229</td>\n",
       "      <td>25.332407</td>\n",
       "      <td>77.510488</td>\n",
       "      <td>29.934613</td>\n",
       "      <td>26.727149</td>\n",
       "      <td>21.621957</td>\n",
       "      <td>0.282786</td>\n",
       "      <td>12.339231</td>\n",
       "      <td>5.097360</td>\n",
       "    </tr>\n",
       "    <tr>\n",
       "      <th>4</th>\n",
       "      <td>24 paraganas north</td>\n",
       "      <td>1997</td>\n",
       "      <td>Winter</td>\n",
       "      <td>267.0</td>\n",
       "      <td>160.0</td>\n",
       "      <td>0.599251</td>\n",
       "      <td>Gram</td>\n",
       "      <td>West Bengal</td>\n",
       "      <td>28.011111</td>\n",
       "      <td>32.915385</td>\n",
       "      <td>...</td>\n",
       "      <td>0.41026</td>\n",
       "      <td>0.209229</td>\n",
       "      <td>22.572476</td>\n",
       "      <td>71.047353</td>\n",
       "      <td>27.968056</td>\n",
       "      <td>24.248702</td>\n",
       "      <td>17.768949</td>\n",
       "      <td>0.203086</td>\n",
       "      <td>10.390048</td>\n",
       "      <td>0.955894</td>\n",
       "    </tr>\n",
       "  </tbody>\n",
       "</table>\n",
       "<p>5 rows × 48 columns</p>\n",
       "</div>"
      ],
      "text/plain": [
       "             district  year      Season  Area (Hectare)  Production (Tonnes)  \\\n",
       "0  24 paraganas north  1997  Whole Year          1345.0               1274.0   \n",
       "1  24 paraganas north  1997  Whole Year            45.0                 40.0   \n",
       "2  24 paraganas north  1997  Whole Year          2975.0           40162500.0   \n",
       "3  24 paraganas north  1997  Whole Year          3916.0               7706.0   \n",
       "4  24 paraganas north  1997      Winter           267.0                160.0   \n",
       "\n",
       "   Yield (Tonnes/Hectare)          Crop        State  \\\n",
       "0                0.947212      Arecanut  West Bengal   \n",
       "1                0.888889     Arhar/Tur  West Bengal   \n",
       "2            13500.000000       Coconut  West Bengal   \n",
       "3                1.967824  Dry chillies  West Bengal   \n",
       "4                0.599251          Gram  West Bengal   \n",
       "\n",
       "   mean_temperature_2m_max (Â°C)_quarter1  \\\n",
       "0                               28.011111   \n",
       "1                               28.011111   \n",
       "2                               28.011111   \n",
       "3                               28.011111   \n",
       "4                               28.011111   \n",
       "\n",
       "   mean_temperature_2m_max (Â°C)_quarter2  ...  \\\n",
       "0                               32.915385  ...   \n",
       "1                               32.915385  ...   \n",
       "2                               32.915385  ...   \n",
       "3                               32.915385  ...   \n",
       "4                               32.915385  ...   \n",
       "\n",
       "   mean_soil_moisture_0_to_7cm (mÂ³/mÂ³)_quarter3  \\\n",
       "0                                         0.41026   \n",
       "1                                         0.41026   \n",
       "2                                         0.41026   \n",
       "3                                         0.41026   \n",
       "4                                         0.41026   \n",
       "\n",
       "   mean_soil_moisture_0_to_7cm (mÂ³/mÂ³)_quarter4  \\\n",
       "0                                        0.209229   \n",
       "1                                        0.209229   \n",
       "2                                        0.209229   \n",
       "3                                        0.209229   \n",
       "4                                        0.209229   \n",
       "\n",
       "   mean_temperature_2m_mean (Â°C)_seasonal  \\\n",
       "0                                25.332407   \n",
       "1                                25.332407   \n",
       "2                                25.332407   \n",
       "3                                25.332407   \n",
       "4                                22.572476   \n",
       "\n",
       "   mean_relative_humidity_2m (%)_seasonal  \\\n",
       "0                               77.510488   \n",
       "1                               77.510488   \n",
       "2                               77.510488   \n",
       "3                               77.510488   \n",
       "4                               71.047353   \n",
       "\n",
       "   mean_temperature_2m_max (Â°C)_seasonal  \\\n",
       "0                               29.934613   \n",
       "1                               29.934613   \n",
       "2                               29.934613   \n",
       "3                               29.934613   \n",
       "4                               27.968056   \n",
       "\n",
       "   mean_soil_temperature_0_to_7cm (Â°C)_seasonal  \\\n",
       "0                                      26.727149   \n",
       "1                                      26.727149   \n",
       "2                                      26.727149   \n",
       "3                                      26.727149   \n",
       "4                                      24.248702   \n",
       "\n",
       "   mean_temperature_2m_min (Â°C)_seasonal  \\\n",
       "0                               21.621957   \n",
       "1                               21.621957   \n",
       "2                               21.621957   \n",
       "3                               21.621957   \n",
       "4                               17.768949   \n",
       "\n",
       "   mean_soil_moisture_0_to_7cm (mÂ³/mÂ³)_seasonal  \\\n",
       "0                                        0.282786   \n",
       "1                                        0.282786   \n",
       "2                                        0.282786   \n",
       "3                                        0.282786   \n",
       "4                                        0.203086   \n",
       "\n",
       "   mean_wind_speed_10m_max (km/h)_seasonal  mean_rain_sum (mm)_seasonal  \n",
       "0                                12.339231                     5.097360  \n",
       "1                                12.339231                     5.097360  \n",
       "2                                12.339231                     5.097360  \n",
       "3                                12.339231                     5.097360  \n",
       "4                                10.390048                     0.955894  \n",
       "\n",
       "[5 rows x 48 columns]"
      ]
     },
     "execution_count": 47,
     "metadata": {},
     "output_type": "execute_result"
    }
   ],
   "source": [
    "df.head()"
   ]
  },
  {
   "cell_type": "code",
   "execution_count": 57,
   "id": "86a6f15e",
   "metadata": {},
   "outputs": [
    {
     "data": {
      "text/html": [
       "<div>\n",
       "<style scoped>\n",
       "    .dataframe tbody tr th:only-of-type {\n",
       "        vertical-align: middle;\n",
       "    }\n",
       "\n",
       "    .dataframe tbody tr th {\n",
       "        vertical-align: top;\n",
       "    }\n",
       "\n",
       "    .dataframe thead th {\n",
       "        text-align: right;\n",
       "    }\n",
       "</style>\n",
       "<table border=\"1\" class=\"dataframe\">\n",
       "  <thead>\n",
       "    <tr style=\"text-align: right;\">\n",
       "      <th></th>\n",
       "      <th>year</th>\n",
       "      <th>mean_relative_humidity_2m (%)_quarter1</th>\n",
       "      <th>mean_relative_humidity_2m (%)_quarter2</th>\n",
       "      <th>mean_relative_humidity_2m (%)_quarter3</th>\n",
       "      <th>mean_relative_humidity_2m (%)_quarter4</th>\n",
       "      <th>mean_relative_humidity_2m (%)_seasonal</th>\n",
       "    </tr>\n",
       "  </thead>\n",
       "  <tbody>\n",
       "    <tr>\n",
       "      <th>5722</th>\n",
       "      <td>2003</td>\n",
       "      <td>62.320370</td>\n",
       "      <td>58.703755</td>\n",
       "      <td>87.007699</td>\n",
       "      <td>75.522645</td>\n",
       "      <td>68.921508</td>\n",
       "    </tr>\n",
       "    <tr>\n",
       "      <th>5724</th>\n",
       "      <td>2003</td>\n",
       "      <td>62.320370</td>\n",
       "      <td>58.703755</td>\n",
       "      <td>87.007699</td>\n",
       "      <td>75.522645</td>\n",
       "      <td>68.921508</td>\n",
       "    </tr>\n",
       "    <tr>\n",
       "      <th>5726</th>\n",
       "      <td>2003</td>\n",
       "      <td>62.320370</td>\n",
       "      <td>58.703755</td>\n",
       "      <td>87.007699</td>\n",
       "      <td>75.522645</td>\n",
       "      <td>68.921508</td>\n",
       "    </tr>\n",
       "    <tr>\n",
       "      <th>5728</th>\n",
       "      <td>2003</td>\n",
       "      <td>62.320370</td>\n",
       "      <td>58.703755</td>\n",
       "      <td>87.007699</td>\n",
       "      <td>75.522645</td>\n",
       "      <td>68.921508</td>\n",
       "    </tr>\n",
       "    <tr>\n",
       "      <th>5729</th>\n",
       "      <td>2003</td>\n",
       "      <td>62.320370</td>\n",
       "      <td>58.703755</td>\n",
       "      <td>87.007699</td>\n",
       "      <td>75.522645</td>\n",
       "      <td>68.921508</td>\n",
       "    </tr>\n",
       "    <tr>\n",
       "      <th>...</th>\n",
       "      <td>...</td>\n",
       "      <td>...</td>\n",
       "      <td>...</td>\n",
       "      <td>...</td>\n",
       "      <td>...</td>\n",
       "      <td>...</td>\n",
       "    </tr>\n",
       "    <tr>\n",
       "      <th>10238</th>\n",
       "      <td>2019</td>\n",
       "      <td>55.035185</td>\n",
       "      <td>59.445513</td>\n",
       "      <td>85.485054</td>\n",
       "      <td>79.068841</td>\n",
       "      <td>67.052013</td>\n",
       "    </tr>\n",
       "    <tr>\n",
       "      <th>10239</th>\n",
       "      <td>2019</td>\n",
       "      <td>55.035185</td>\n",
       "      <td>59.445513</td>\n",
       "      <td>85.485054</td>\n",
       "      <td>79.068841</td>\n",
       "      <td>67.052013</td>\n",
       "    </tr>\n",
       "    <tr>\n",
       "      <th>10241</th>\n",
       "      <td>2019</td>\n",
       "      <td>55.035185</td>\n",
       "      <td>59.445513</td>\n",
       "      <td>85.485054</td>\n",
       "      <td>79.068841</td>\n",
       "      <td>67.052013</td>\n",
       "    </tr>\n",
       "    <tr>\n",
       "      <th>10244</th>\n",
       "      <td>2019</td>\n",
       "      <td>55.035185</td>\n",
       "      <td>59.445513</td>\n",
       "      <td>85.485054</td>\n",
       "      <td>79.068841</td>\n",
       "      <td>67.052013</td>\n",
       "    </tr>\n",
       "    <tr>\n",
       "      <th>10252</th>\n",
       "      <td>2019</td>\n",
       "      <td>55.035185</td>\n",
       "      <td>59.445513</td>\n",
       "      <td>85.485054</td>\n",
       "      <td>79.068841</td>\n",
       "      <td>67.052013</td>\n",
       "    </tr>\n",
       "  </tbody>\n",
       "</table>\n",
       "<p>306 rows × 6 columns</p>\n",
       "</div>"
      ],
      "text/plain": [
       "       year  mean_relative_humidity_2m (%)_quarter1  \\\n",
       "5722   2003                               62.320370   \n",
       "5724   2003                               62.320370   \n",
       "5726   2003                               62.320370   \n",
       "5728   2003                               62.320370   \n",
       "5729   2003                               62.320370   \n",
       "...     ...                                     ...   \n",
       "10238  2019                               55.035185   \n",
       "10239  2019                               55.035185   \n",
       "10241  2019                               55.035185   \n",
       "10244  2019                               55.035185   \n",
       "10252  2019                               55.035185   \n",
       "\n",
       "       mean_relative_humidity_2m (%)_quarter2  \\\n",
       "5722                                58.703755   \n",
       "5724                                58.703755   \n",
       "5726                                58.703755   \n",
       "5728                                58.703755   \n",
       "5729                                58.703755   \n",
       "...                                       ...   \n",
       "10238                               59.445513   \n",
       "10239                               59.445513   \n",
       "10241                               59.445513   \n",
       "10244                               59.445513   \n",
       "10252                               59.445513   \n",
       "\n",
       "       mean_relative_humidity_2m (%)_quarter3  \\\n",
       "5722                                87.007699   \n",
       "5724                                87.007699   \n",
       "5726                                87.007699   \n",
       "5728                                87.007699   \n",
       "5729                                87.007699   \n",
       "...                                       ...   \n",
       "10238                               85.485054   \n",
       "10239                               85.485054   \n",
       "10241                               85.485054   \n",
       "10244                               85.485054   \n",
       "10252                               85.485054   \n",
       "\n",
       "       mean_relative_humidity_2m (%)_quarter4  \\\n",
       "5722                                75.522645   \n",
       "5724                                75.522645   \n",
       "5726                                75.522645   \n",
       "5728                                75.522645   \n",
       "5729                                75.522645   \n",
       "...                                       ...   \n",
       "10238                               79.068841   \n",
       "10239                               79.068841   \n",
       "10241                               79.068841   \n",
       "10244                               79.068841   \n",
       "10252                               79.068841   \n",
       "\n",
       "       mean_relative_humidity_2m (%)_seasonal  \n",
       "5722                                68.921508  \n",
       "5724                                68.921508  \n",
       "5726                                68.921508  \n",
       "5728                                68.921508  \n",
       "5729                                68.921508  \n",
       "...                                       ...  \n",
       "10238                               67.052013  \n",
       "10239                               67.052013  \n",
       "10241                               67.052013  \n",
       "10244                               67.052013  \n",
       "10252                               67.052013  \n",
       "\n",
       "[306 rows x 6 columns]"
      ]
     },
     "execution_count": 57,
     "metadata": {},
     "output_type": "execute_result"
    }
   ],
   "source": [
    "df[(df['district']=='purulia') & (df['Season']=='Winter')][['year','mean_relative_humidity_2m (%)_quarter1','mean_relative_humidity_2m (%)_quarter2','mean_relative_humidity_2m (%)_quarter3','mean_relative_humidity_2m (%)_quarter4','mean_relative_humidity_2m (%)_seasonal']]"
   ]
  },
  {
   "cell_type": "code",
   "execution_count": 58,
   "id": "d77041f3",
   "metadata": {},
   "outputs": [
    {
     "data": {
      "text/plain": [
       "68.92150749999999"
      ]
     },
     "execution_count": 58,
     "metadata": {},
     "output_type": "execute_result"
    }
   ],
   "source": [
    "(75.522645+62.320370)/2"
   ]
  },
  {
   "cell_type": "code",
   "execution_count": 100,
   "id": "dfe23095",
   "metadata": {},
   "outputs": [],
   "source": [
    "soil_df.to_csv(os.path.join(data_path,\"Cleaned Data/soil_final.csv\"), index=False)\n",
    "weather_df.to_csv(os.path.join(data_path,\"Cleaned Data/weather_final.csv\"), index=False)\n",
    "state_df.to_csv(os.path.join(data_path,\"Cleaned Data/state_final.csv\"), index=False)"
   ]
  },
  {
   "cell_type": "code",
   "execution_count": null,
   "id": "5b6d3e5a",
   "metadata": {},
   "outputs": [],
   "source": []
  }
 ],
 "metadata": {
  "kernelspec": {
   "display_name": "Python 3 (ipykernel)",
   "language": "python",
   "name": "python3"
  },
  "language_info": {
   "codemirror_mode": {
    "name": "ipython",
    "version": 3
   },
   "file_extension": ".py",
   "mimetype": "text/x-python",
   "name": "python",
   "nbconvert_exporter": "python",
   "pygments_lexer": "ipython3",
   "version": "3.9.13"
  }
 },
 "nbformat": 4,
 "nbformat_minor": 5
}
