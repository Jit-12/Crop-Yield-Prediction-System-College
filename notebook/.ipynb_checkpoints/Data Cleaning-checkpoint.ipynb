{
 "cells": [
  {
   "cell_type": "code",
   "execution_count": 1,
   "id": "bc17abd8",
   "metadata": {},
   "outputs": [],
   "source": [
    "import numpy as np \n",
    "import pandas as pd\n",
    "import os"
   ]
  },
  {
   "cell_type": "code",
   "execution_count": 2,
   "id": "def7c99c",
   "metadata": {},
   "outputs": [],
   "source": [
    "data_path = os.path.join(os.pardir, 'data')"
   ]
  },
  {
   "cell_type": "code",
   "execution_count": 3,
   "id": "bf001122",
   "metadata": {},
   "outputs": [],
   "source": [
    "# State Data Reading\n",
    "state_data_file_path = os.path.join(data_path, 'statecleaneddata.xlsx')\n",
    "\n",
    "state_df = pd.read_excel(state_data_file_path)\n",
    "\n",
    "# BAsic preprocessing \n",
    "state_df.District = state_df.District.apply(lambda x: x.replace(\"\\n\",\"\"))\n",
    "state_df.District = state_df.District.apply(lambda x: x.lower())\n",
    "state_df.District = state_df.District.apply(lambda x: \"malda\" if x==\"maldah\" else x)"
   ]
  },
  {
   "cell_type": "code",
   "execution_count": 4,
   "id": "bf6b644b",
   "metadata": {},
   "outputs": [],
   "source": [
    "# Soil Data Reading\n",
    "soil_data_file_path = os.path.join(data_path, \"soil_type.csv\")\n",
    "\n",
    "soil_df = pd.read_csv(soil_data_file_path)"
   ]
  },
  {
   "cell_type": "code",
   "execution_count": 5,
   "id": "663601ce",
   "metadata": {},
   "outputs": [],
   "source": [
    "# weather Data Reading\n",
    "weather_data_file_path = os.path.join(data_path, \"weather_data_name_formated_final.csv\")\n",
    "\n",
    "weather_df = pd.read_csv(weather_data_file_path)\n",
    "\n",
    "#BAsic preprocessing \n",
    "weather_df.district = weather_df.district.apply(lambda x: x.lower())"
   ]
  },
  {
   "cell_type": "code",
   "execution_count": 6,
   "id": "ff027d4c",
   "metadata": {},
   "outputs": [
    {
     "data": {
      "text/plain": [
       "(array(['24 paraganas north', '24 paraganas south', 'bankura', 'birbhum',\n",
       "        'coochbehar', 'darjeeling', 'dinajpur dakshin', 'dinajpur uttar',\n",
       "        'hooghly', 'howrah', 'jalpaiguri', 'malda', 'medinipur east',\n",
       "        'medinipur west', 'murshidabad', 'nadia', 'purba bardhaman',\n",
       "        'purulia', 'alipurduar', 'jhargram', 'kalimpong',\n",
       "        'paschim bardhaman'], dtype=object),\n",
       " 22)"
      ]
     },
     "execution_count": 6,
     "metadata": {},
     "output_type": "execute_result"
    }
   ],
   "source": [
    "state_df.District.unique() , len(state_df.District.unique())"
   ]
  },
  {
   "cell_type": "code",
   "execution_count": 7,
   "id": "a7e1534e",
   "metadata": {},
   "outputs": [
    {
     "data": {
      "text/plain": [
       "(array(['alipurduar', 'bankura', 'birbhum', 'coochbehar',\n",
       "        'dinajpur dakshin', 'darjeeling', 'howrah', 'hooghly',\n",
       "        'jalpaiguri', 'jhargram', 'kolkata', 'kalimpong', 'malda',\n",
       "        'murshidabad', 'nadia', '24 paraganas north', 'paschim bardhaman',\n",
       "        'medinipur west', 'purba bardhaman', 'medinipur east', 'purulia',\n",
       "        '24 paraganas south', 'dinajpur uttar'], dtype=object),\n",
       " 23)"
      ]
     },
     "execution_count": 7,
     "metadata": {},
     "output_type": "execute_result"
    }
   ],
   "source": [
    "weather_df.district.unique(), len(weather_df.district.unique())"
   ]
  },
  {
   "cell_type": "code",
   "execution_count": 8,
   "id": "eb6951eb",
   "metadata": {
    "scrolled": true
   },
   "outputs": [
    {
     "data": {
      "text/plain": [
       "(array(['24 Parganas', 'Nadia', 'Murshidabad', 'Bardhaman', 'Birbhum',\n",
       "        'Bankura', 'Hooghly', 'Howrah', 'Jalpaiguri', 'Darjeeling',\n",
       "        'Malda', 'coochbehar', 'Purulia', 'Medinipur', 'Kolkata',\n",
       "        'Dinajpur'], dtype=object),\n",
       " 16)"
      ]
     },
     "execution_count": 8,
     "metadata": {},
     "output_type": "execute_result"
    }
   ],
   "source": [
    "soil_df.Dist_Name.unique() , len(soil_df.Dist_Name.unique())"
   ]
  },
  {
   "cell_type": "code",
   "execution_count": 9,
   "id": "2a6b2209",
   "metadata": {},
   "outputs": [
    {
     "name": "stdout",
     "output_type": "stream",
     "text": [
      "kolkata\n"
     ]
    }
   ],
   "source": [
    "c= 0\n",
    "for i in list(weather_df.district.unique()):\n",
    "    if i not in list(state_df.District.unique()):\n",
    "        print(i)"
   ]
  },
  {
   "cell_type": "markdown",
   "id": "e8bdb0fd",
   "metadata": {},
   "source": [
    "\n",
    "\n",
    "### not in soil 'alipurduar', 'jhargram', 'kalimpong'\n",
    "        "
   ]
  },
  {
   "cell_type": "code",
   "execution_count": 28,
   "id": "934e19c1",
   "metadata": {},
   "outputs": [
    {
     "name": "stderr",
     "output_type": "stream",
     "text": [
      "C:\\Users\\mynam\\AppData\\Local\\Temp\\ipykernel_4508\\2832502760.py:2: SettingWithCopyWarning: \n",
      "A value is trying to be set on a copy of a slice from a DataFrame\n",
      "\n",
      "See the caveats in the documentation: https://pandas.pydata.org/pandas-docs/stable/user_guide/indexing.html#returning-a-view-versus-a-copy\n",
      "  n['Dist_Name'] = \"24 paraganas north\"\n"
     ]
    }
   ],
   "source": [
    "n = soil_df.loc[0]\n",
    "n['Dist_Name'] = \"24 paraganas north\"\n",
    "m = n.copy()\n",
    "m[\"Dist_Name\"] = \"24 paraganas south\"\n",
    "# print(m, n)\n",
    "test_soil = pd.concat([soil_df, pd.DataFrame([n])], ignore_index=True)\n",
    "test_soil = pd.concat([test_soil, pd.DataFrame([m])], ignore_index=True)\n",
    "test_soil.Dist_Name = test_soil.Dist_Name.apply(lambda x: x.lower())"
   ]
  },
  {
   "cell_type": "code",
   "execution_count": 38,
   "id": "16b5b54a",
   "metadata": {},
   "outputs": [
    {
     "name": "stderr",
     "output_type": "stream",
     "text": [
      "C:\\Users\\mynam\\AppData\\Local\\Temp\\ipykernel_4508\\1832651935.py:2: SettingWithCopyWarning: \n",
      "A value is trying to be set on a copy of a slice from a DataFrame\n",
      "\n",
      "See the caveats in the documentation: https://pandas.pydata.org/pandas-docs/stable/user_guide/indexing.html#returning-a-view-versus-a-copy\n",
      "  m[\"Dist_Name\"] = \"dinajpur dakshin\"\n"
     ]
    }
   ],
   "source": [
    "m = test_soil .loc[15]\n",
    "m[\"Dist_Name\"] = \"dinajpur dakshin\"\n",
    "n = m.copy()\n",
    "n[\"Dist_Name\"] = \"dinajpur uttar\"\n",
    "test_soil = pd.concat([test_soil, pd.DataFrame([n])], ignore_index=True)\n",
    "test_soil = pd.concat([test_soil, pd.DataFrame([m])], ignore_index=True)"
   ]
  },
  {
   "cell_type": "code",
   "execution_count": 44,
   "id": "611ac970",
   "metadata": {},
   "outputs": [
    {
     "name": "stderr",
     "output_type": "stream",
     "text": [
      "C:\\Users\\mynam\\AppData\\Local\\Temp\\ipykernel_4508\\790790057.py:2: SettingWithCopyWarning: \n",
      "A value is trying to be set on a copy of a slice from a DataFrame\n",
      "\n",
      "See the caveats in the documentation: https://pandas.pydata.org/pandas-docs/stable/user_guide/indexing.html#returning-a-view-versus-a-copy\n",
      "  m[\"Dist_Name\"] = \"medinipur west\"\n"
     ]
    }
   ],
   "source": [
    "m = test_soil.loc[13]\n",
    "m[\"Dist_Name\"] = \"medinipur west\"\n",
    "n = m.copy()\n",
    "n[\"Dist_Name\"] = \"medinipur east\"\n",
    "test_soil = pd.concat([test_soil, pd.DataFrame([n])], ignore_index=True)\n",
    "test_soil = pd.concat([test_soil, pd.DataFrame([m])], ignore_index=True)"
   ]
  },
  {
   "cell_type": "code",
   "execution_count": 48,
   "id": "9d1557ca",
   "metadata": {},
   "outputs": [
    {
     "name": "stderr",
     "output_type": "stream",
     "text": [
      "C:\\Users\\mynam\\AppData\\Local\\Temp\\ipykernel_4508\\4112519807.py:2: SettingWithCopyWarning: \n",
      "A value is trying to be set on a copy of a slice from a DataFrame\n",
      "\n",
      "See the caveats in the documentation: https://pandas.pydata.org/pandas-docs/stable/user_guide/indexing.html#returning-a-view-versus-a-copy\n",
      "  n[\"Dist_Name\"] = \"paschim bardhaman\"\n"
     ]
    }
   ],
   "source": [
    "n = test_soil.loc[3]\n",
    "n[\"Dist_Name\"] = \"paschim bardhaman\"\n",
    "m = n.copy()\n",
    "m[\"Dist_Name\"] = \"purba bardhaman\"\n",
    "test_soil = pd.concat([test_soil, pd.DataFrame([n])], ignore_index=True)\n",
    "test_soil = pd.concat([test_soil, pd.DataFrame([m])], ignore_index=True)"
   ]
  },
  {
   "cell_type": "code",
   "execution_count": 56,
   "id": "ab3bebf7",
   "metadata": {},
   "outputs": [],
   "source": [
    "soil_f_df = test_soil.drop([3,13,15,0,14]).reset_index().drop(columns=[\"index\"])"
   ]
  },
  {
   "cell_type": "code",
   "execution_count": 59,
   "id": "570d1b95",
   "metadata": {},
   "outputs": [
    {
     "data": {
      "text/plain": [
       "array(['nadia', 'murshidabad', 'birbhum', 'bankura', 'hooghly', 'howrah',\n",
       "       'jalpaiguri', 'darjeeling', 'malda', 'coochbehar', 'purulia',\n",
       "       '24 paraganas north', '24 paraganas south', 'dinajpur uttar',\n",
       "       'dinajpur dakshin', 'medinipur east', 'medinipur west',\n",
       "       'paschim bardhaman', 'purba bardhaman'], dtype=object)"
      ]
     },
     "execution_count": 59,
     "metadata": {},
     "output_type": "execute_result"
    }
   ],
   "source": [
    "soil_f_df.Dist_Name.unique()"
   ]
  },
  {
   "cell_type": "code",
   "execution_count": null,
   "id": "4eadd499",
   "metadata": {},
   "outputs": [],
   "source": []
  },
  {
   "cell_type": "code",
   "execution_count": null,
   "id": "1cb92a24",
   "metadata": {},
   "outputs": [],
   "source": []
  }
 ],
 "metadata": {
  "kernelspec": {
   "display_name": "Python 3 (ipykernel)",
   "language": "python",
   "name": "python3"
  },
  "language_info": {
   "codemirror_mode": {
    "name": "ipython",
    "version": 3
   },
   "file_extension": ".py",
   "mimetype": "text/x-python",
   "name": "python",
   "nbconvert_exporter": "python",
   "pygments_lexer": "ipython3",
   "version": "3.11.4"
  }
 },
 "nbformat": 4,
 "nbformat_minor": 5
}
